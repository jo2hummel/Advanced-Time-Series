{
 "cells": [
  {
   "cell_type": "markdown",
   "id": "389017e7-ed38-428b-9ce6-ced09c24a7ba",
   "metadata": {},
   "source": [
    "Assignment 1 <br>\n",
    "Student name: Tim Kleinlein <br>\n",
    "Matriculation Nr: 01/1151277\n",
    "Other group members: 1151248, 1152810,  919755"
   ]
  },
  {
   "cell_type": "markdown",
   "id": "aeff5556-a17f-4283-ab31-9df4b5d13fa4",
   "metadata": {},
   "source": [
    "1)"
   ]
  },
  {
   "cell_type": "code",
   "execution_count": 1,
   "id": "033f8d37-f473-4fde-9378-afc5a078e5f3",
   "metadata": {},
   "outputs": [],
   "source": [
    "import pandas as pd\n",
    "import numpy as np\n",
    "from numpy.linalg import inv"
   ]
  },
  {
   "cell_type": "code",
   "execution_count": 2,
   "id": "47778a31-318a-4ada-83f7-238eecf28432",
   "metadata": {},
   "outputs": [],
   "source": [
    "def zmaker(Y,p,intercept):\n",
    "    \"\"\"\n",
    "    create matrix Z when given time series data Y, lag order p and boolean whether to include intercept in estimation.\n",
    "    \"\"\"\n",
    "    k = Y.shape[0]  # number of variables\n",
    "    if intercept:\n",
    "        Z = np.zeros(shape=(k*p+1,Y.shape[1]-p)) # empty Z placeholder array which will be filled with correct values later\n",
    "        Z[0] = 1  # intercept\n",
    "    else:\n",
    "        Z = np.zeros(shape=(k*p,Y.shape[1]-p))  # empty Z placeholder array which will be filled with correct values later\n",
    "    \n",
    "    for i in range(p,Y.shape[1]): # individual z vectors which will be inserted in Z\n",
    "        z = np.array([]) # placeholder array for z\n",
    "        for x in range(1, p+1):  # for all lags p\n",
    "            for j in range(k): # and all variables k\n",
    "                z = np.append(z,Y[j, i-x])  # get correct y values and create z\n",
    "        if intercept:\n",
    "            Z[1:,i-p] = z  # if intercept is estimated first row is already filled with 1's\n",
    "        else:\n",
    "            Z[:,i-p] = z\n",
    "    return Z\n",
    "            "
   ]
  },
  {
   "cell_type": "code",
   "execution_count": 3,
   "id": "131c485e-a4ea-4ce4-8b19-354df9fb5d32",
   "metadata": {},
   "outputs": [],
   "source": [
    "def estimator(Y, p, intercept):\n",
    "    \"\"\"\n",
    "    estimate VAR(p) for given time series data Y, lag order p and boolean whether to include intercept in estimation. \n",
    "    Return estimated coefficients, their t-ratios and the covariance matrix.\n",
    "    \"\"\"\n",
    "    Z = zmaker(Y,p, intercept)  # create matrix Z\n",
    "    Y = Y[:,p:]  # first p observations are lost as we need prior lags for estimation\n",
    "    B = Y @ Z.transpose() @ inv((Z@Z.transpose()))  # calculate estimated coefficients\n",
    "    \n",
    "    T = Y.shape[1]  # number observations used for estimation\n",
    "    K = Y.shape[0]  # number of variables\n",
    "    cov_matrix = (1/(T-K*p-1))*((Y-(B@Z))@(Y-(B@Z)).transpose())  # calculate covariance matrix\n",
    "    \n",
    "    t_matrix = np.kron(inv(Z@Z.transpose()),cov_matrix)  # calculate matrix T to get coefficients variances(diagonals)\n",
    "    std_errors = np.sqrt(np.diag(t_matrix))  # standard errors used for t-ratios are squared variance\n",
    "    t_values=[]  #. placeholder list for t values\n",
    "    std_error_counter=0\n",
    "    for j in range(B.shape[1]):  # choose this loop structure to assure that coefficient is divided by its according standard error\n",
    "        for i in range(K):\n",
    "            t_values.append(B[i,j]/std_errors[std_error_counter])\n",
    "            std_error_counter+=1\n",
    "    t_matrix = np.array(t_values) # convert list to array\n",
    "    t_matrix = t_matrix.reshape(B.shape[1],K).transpose()  # reshape array such that is same format as coefficients: K x (1+K*p)\n",
    "    \n",
    "    return B, t_matrix, cov_matrix"
   ]
  },
  {
   "cell_type": "markdown",
   "id": "a0e0ea0d-fb72-4355-b223-6aca34b4b1be",
   "metadata": {},
   "source": [
    "2)"
   ]
  },
  {
   "cell_type": "code",
   "execution_count": 4,
   "id": "9eaccf95-b289-4163-a84e-b823bac50cf1",
   "metadata": {},
   "outputs": [],
   "source": [
    "fed = pd.read_csv('FEDFUNDS.csv', delimiter=',')\n",
    "gdp = pd.read_csv('GDPC1.csv', delimiter=',')\n",
    "gdp_def = pd.read_csv('GDPDEF.csv', delimiter=',')"
   ]
  },
  {
   "cell_type": "code",
   "execution_count": 5,
   "id": "05ea51b9-8c1f-4f2b-85ce-3ad8f70a84c3",
   "metadata": {},
   "outputs": [],
   "source": [
    "# create np arrays\n",
    "gdp = np.array(gdp['GDPC1'])\n",
    "gdp_def = np.array(gdp_def['GDPDEF'])\n",
    "fed =  np.array(fed['FEDFUNDS'][:-1])"
   ]
  },
  {
   "cell_type": "code",
   "execution_count": 6,
   "id": "26214915-27bf-479c-8bb8-e7bce0f97fe6",
   "metadata": {},
   "outputs": [],
   "source": [
    "# convert values to floats\n",
    "floatmaker = lambda x: float(x)\n",
    "floatmaker2 = np.vectorize(floatmaker)\n",
    "gdp = floatmaker2(gdp)\n",
    "gdp_def = floatmaker2(gdp_def)\n",
    "fed = floatmaker2(fed)"
   ]
  },
  {
   "cell_type": "code",
   "execution_count": 7,
   "id": "355a1bbe-af1c-406b-9e0a-33682d182bfe",
   "metadata": {},
   "outputs": [],
   "source": [
    "#create variables for estimation\n",
    "log_gdp=np.log(gdp)\n",
    "gdp=100*(np.diff(log_gdp))\n",
    "log_gdp_def=np.log(gdp_def)\n",
    "gdp_def=100*(np.diff(log_gdp_def))\n",
    "fed = fed[1:]  # due to difference first observation lost"
   ]
  },
  {
   "cell_type": "code",
   "execution_count": 8,
   "id": "70af1039-ddfe-488e-bf0c-be84fb30a4d3",
   "metadata": {},
   "outputs": [
    {
     "data": {
      "text/plain": [
       "(3, 250)"
      ]
     },
     "execution_count": 8,
     "metadata": {},
     "output_type": "execute_result"
    }
   ],
   "source": [
    "# combine time series in matrix to use as input for function\n",
    "Y = np.array([gdp, gdp_def, fed])\n",
    "Y.shape"
   ]
  },
  {
   "cell_type": "code",
   "execution_count": 9,
   "id": "336cc740-26a5-42ef-98f0-5cce504777f9",
   "metadata": {},
   "outputs": [],
   "source": [
    "B, t_ratios, cov_matrix = estimator(Y,4,True)"
   ]
  },
  {
   "cell_type": "code",
   "execution_count": 10,
   "id": "d357e61e-a09f-4116-95b4-08c587a4a882",
   "metadata": {},
   "outputs": [
    {
     "data": {
      "text/plain": [
       "array([[ 0.73841693, -0.00136472, -0.20967773,  0.10475077,  0.13106845,\n",
       "         0.23637034, -0.25591333,  0.06634204, -0.18850331,  0.05900275,\n",
       "         0.01712105, -0.04983365,  0.09494658],\n",
       "       [ 0.07707766, -0.01731531,  0.56376804,  0.05487985,  0.01606932,\n",
       "         0.14202479, -0.02622414,  0.0010667 ,  0.13904395, -0.02223694,\n",
       "         0.00337405,  0.08469262, -0.00903667],\n",
       "       [-0.26140514,  0.22121981,  0.10610175,  0.79145067,  0.10224683,\n",
       "         0.76614749, -0.0780109 ,  0.06151369, -0.28244781,  0.36828521,\n",
       "         0.03990731, -0.14819337, -0.16742993]])"
      ]
     },
     "execution_count": 10,
     "metadata": {},
     "output_type": "execute_result"
    }
   ],
   "source": [
    "B"
   ]
  },
  {
   "cell_type": "code",
   "execution_count": 11,
   "id": "5f4f7163-c717-4d69-9c28-9e192a7e4981",
   "metadata": {},
   "outputs": [
    {
     "data": {
      "text/plain": [
       "array([[ 4.35761667, -0.02016449, -0.74443971,  1.57514908,  1.90556797,\n",
       "         0.72720731, -3.14737037,  0.97262942, -0.57046516,  0.71585058,\n",
       "         0.26599918, -0.17105643,  1.39234064],\n",
       "       [ 1.8442399 , -1.03732317,  8.11557258,  3.34594518,  0.94725166,\n",
       "         1.7716214 , -1.3076688 ,  0.0634079 ,  1.70609703, -1.0938725 ,\n",
       "         0.21254117,  1.17870115, -0.53729899],\n",
       "       [-1.54481965,  3.27327546,  0.37723856, 11.9180324 ,  1.4886494 ,\n",
       "         2.36044526, -0.96078571,  0.90312247, -0.85598204,  4.47456406,\n",
       "         0.62089573, -0.50940327, -2.45875664]])"
      ]
     },
     "execution_count": 11,
     "metadata": {},
     "output_type": "execute_result"
    }
   ],
   "source": [
    "t_ratios"
   ]
  },
  {
   "cell_type": "code",
   "execution_count": 12,
   "id": "67ec4ce2-1c24-4375-acf6-66d31a3b25f8",
   "metadata": {},
   "outputs": [
    {
     "data": {
      "text/plain": [
       "array([[1.17169863, 0.05667958, 0.26128313],\n",
       "       [0.05667958, 0.0712743 , 0.04153689],\n",
       "       [0.26128313, 0.04153689, 1.16837793]])"
      ]
     },
     "execution_count": 12,
     "metadata": {},
     "output_type": "execute_result"
    }
   ],
   "source": [
    "cov_matrix"
   ]
  },
  {
   "cell_type": "code",
   "execution_count": null,
   "id": "2e509148-9008-4623-a6ee-7bd9e87fe2e4",
   "metadata": {},
   "outputs": [],
   "source": []
  },
  {
   "cell_type": "markdown",
   "id": "0815c5f7-4abb-4090-a3c4-ee11a8a79ee0",
   "metadata": {},
   "source": [
    "For personal checking only, not relevant for assignment solution!"
   ]
  },
  {
   "cell_type": "code",
   "execution_count": 13,
   "id": "92f14ef0-1488-45bc-a1dc-f9bdcb8530a9",
   "metadata": {},
   "outputs": [
    {
     "name": "stderr",
     "output_type": "stream",
     "text": [
      "C:\\Users\\ameli\\anaconda3\\lib\\site-packages\\statsmodels\\tsa\\base\\tsa_model.py:7: FutureWarning: pandas.Int64Index is deprecated and will be removed from pandas in a future version. Use pandas.Index with the appropriate dtype instead.\n",
      "  from pandas import (to_datetime, Int64Index, DatetimeIndex, Period,\n",
      "C:\\Users\\ameli\\anaconda3\\lib\\site-packages\\statsmodels\\tsa\\base\\tsa_model.py:7: FutureWarning: pandas.Float64Index is deprecated and will be removed from pandas in a future version. Use pandas.Index with the appropriate dtype instead.\n",
      "  from pandas import (to_datetime, Int64Index, DatetimeIndex, Period,\n"
     ]
    }
   ],
   "source": [
    "import statsmodels.api as sm\n",
    "from statsmodels.tsa.api import VAR"
   ]
  },
  {
   "cell_type": "code",
   "execution_count": 14,
   "id": "b29690f1-de75-4b73-9a92-4ca918872aee",
   "metadata": {},
   "outputs": [],
   "source": [
    "model = VAR(Y.transpose())"
   ]
  },
  {
   "cell_type": "code",
   "execution_count": 15,
   "id": "1ab0a9be-9d63-4925-9bdd-7934efd1227d",
   "metadata": {},
   "outputs": [],
   "source": [
    "results = model.fit(4)"
   ]
  },
  {
   "cell_type": "code",
   "execution_count": 16,
   "id": "e044ffeb-1d5c-49ab-8c1f-338044bd222c",
   "metadata": {},
   "outputs": [
    {
     "data": {
      "text/plain": [
       "  Summary of Regression Results   \n",
       "==================================\n",
       "Model:                         VAR\n",
       "Method:                        OLS\n",
       "Date:           Mon, 14, Nov, 2022\n",
       "Time:                     12:41:03\n",
       "--------------------------------------------------------------------\n",
       "No. of Equations:         3.00000    BIC:                   -1.71865\n",
       "Nobs:                     246.000    HQIC:                  -2.05061\n",
       "Log likelihood:          -728.429    FPE:                   0.102892\n",
       "AIC:                     -2.27437    Det(Omega_mle):       0.0881630\n",
       "--------------------------------------------------------------------\n",
       "Results for equation y1\n",
       "========================================================================\n",
       "           coefficient       std. error           t-stat            prob\n",
       "------------------------------------------------------------------------\n",
       "const         0.738417         0.169454            4.358           0.000\n",
       "L1.y1        -0.001365         0.067680           -0.020           0.984\n",
       "L1.y2        -0.209678         0.281658           -0.744           0.457\n",
       "L1.y3         0.104751         0.066502            1.575           0.115\n",
       "L2.y1         0.131068         0.068782            1.906           0.057\n",
       "L2.y2         0.236370         0.325038            0.727           0.467\n",
       "L2.y3        -0.255913         0.081310           -3.147           0.002\n",
       "L3.y1         0.066342         0.068209            0.973           0.331\n",
       "L3.y2        -0.188503         0.330438           -0.570           0.568\n",
       "L3.y3         0.059003         0.082423            0.716           0.474\n",
       "L4.y1         0.017121         0.064365            0.266           0.790\n",
       "L4.y2        -0.049834         0.291329           -0.171           0.864\n",
       "L4.y3         0.094947         0.068192            1.392           0.164\n",
       "========================================================================\n",
       "\n",
       "Results for equation y2\n",
       "========================================================================\n",
       "           coefficient       std. error           t-stat            prob\n",
       "------------------------------------------------------------------------\n",
       "const         0.077078         0.041794            1.844           0.065\n",
       "L1.y1        -0.017315         0.016692           -1.037           0.300\n",
       "L1.y2         0.563768         0.069467            8.116           0.000\n",
       "L1.y3         0.054880         0.016402            3.346           0.001\n",
       "L2.y1         0.016069         0.016964            0.947           0.344\n",
       "L2.y2         0.142025         0.080167            1.772           0.076\n",
       "L2.y3        -0.026224         0.020054           -1.308           0.191\n",
       "L3.y1         0.001067         0.016823            0.063           0.949\n",
       "L3.y2         0.139044         0.081498            1.706           0.088\n",
       "L3.y3        -0.022237         0.020329           -1.094           0.274\n",
       "L4.y1         0.003374         0.015875            0.213           0.832\n",
       "L4.y2         0.084693         0.071852            1.179           0.239\n",
       "L4.y3        -0.009037         0.016819           -0.537           0.591\n",
       "========================================================================\n",
       "\n",
       "Results for equation y3\n",
       "========================================================================\n",
       "           coefficient       std. error           t-stat            prob\n",
       "------------------------------------------------------------------------\n",
       "const        -0.261405         0.169214           -1.545           0.122\n",
       "L1.y1         0.221220         0.067584            3.273           0.001\n",
       "L1.y2         0.106102         0.281259            0.377           0.706\n",
       "L1.y3         0.791451         0.066408           11.918           0.000\n",
       "L2.y1         0.102247         0.068684            1.489           0.137\n",
       "L2.y2         0.766147         0.324578            2.360           0.018\n",
       "L2.y3        -0.078011         0.081195           -0.961           0.337\n",
       "L3.y1         0.061514         0.068112            0.903           0.366\n",
       "L3.y2        -0.282448         0.329969           -0.856           0.392\n",
       "L3.y3         0.368285         0.082306            4.475           0.000\n",
       "L4.y1         0.039907         0.064274            0.621           0.535\n",
       "L4.y2        -0.148193         0.290916           -0.509           0.610\n",
       "L4.y3        -0.167430         0.068095           -2.459           0.014\n",
       "========================================================================\n",
       "\n",
       "Correlation matrix of residuals\n",
       "            y1        y2        y3\n",
       "y1    1.000000  0.196134  0.223312\n",
       "y2    0.196134  1.000000  0.143938\n",
       "y3    0.223312  0.143938  1.000000\n",
       "\n"
      ]
     },
     "execution_count": 16,
     "metadata": {},
     "output_type": "execute_result"
    }
   ],
   "source": [
    "results.summary()"
   ]
  },
  {
   "cell_type": "code",
   "execution_count": null,
   "id": "f9b1c26d-2b50-44a7-96a2-7d12bd018077",
   "metadata": {},
   "outputs": [],
   "source": []
  }
 ],
 "metadata": {
  "kernelspec": {
   "display_name": "Python 3",
   "language": "python",
   "name": "python3"
  },
  "language_info": {
   "codemirror_mode": {
    "name": "ipython",
    "version": 3
   },
   "file_extension": ".py",
   "mimetype": "text/x-python",
   "name": "python",
   "nbconvert_exporter": "python",
   "pygments_lexer": "ipython3",
   "version": "3.8.8"
  }
 },
 "nbformat": 4,
 "nbformat_minor": 5
}
