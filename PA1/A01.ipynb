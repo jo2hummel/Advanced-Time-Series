{
 "cells": [
  {
   "cell_type": "markdown",
   "id": "37cac453-b7a8-414d-ac8b-3a29b8f52bbb",
   "metadata": {},
   "source": [
    "# Programming Assignment 1"
   ]
  },
  {
   "cell_type": "markdown",
   "id": "20120e86-b8ca-493c-b671-1b31c1c17d08",
   "metadata": {},
   "source": [
    "Matriculation number: 01/1153929"
   ]
  },
  {
   "cell_type": "code",
   "execution_count": 1,
   "id": "f5ae96b3-f123-44b5-95ce-8d4128df1fb6",
   "metadata": {},
   "outputs": [],
   "source": [
    "import numpy as np\n",
    "import csv"
   ]
  },
  {
   "cell_type": "markdown",
   "id": "57c4a5ff-73d3-472f-91f0-af8f603f6c90",
   "metadata": {},
   "source": [
    "### No. 1"
   ]
  },
  {
   "cell_type": "code",
   "execution_count": 2,
   "id": "dc833cbd-09b8-4d62-95ff-02cad4dff89f",
   "metadata": {},
   "outputs": [],
   "source": [
    "def var_model(data, p: int, intercept: bool):\n",
    "    \"\"\"\n",
    "    Function to compute coefficients, corresponding t-ratios and residual covariance matrix based on a VAR model\n",
    "    \n",
    "    Note: this function displays the values of the coefficients and t-ratios in a different order \n",
    "    then the build-in function does:\n",
    "    \n",
    "          Order here:  intercept for y1, L1.y1, L2.y1, ..., L1.y2, L2,y2...\n",
    "                       intercept for y2, L2.y1, L2.y1, ..., L1.y2, L2,y2...\n",
    "                       ... \n",
    "    \"\"\"\n",
    "    \n",
    "    \n",
    "    \"Preparation of variables for calculation\"\n",
    "    # define Z\n",
    "    num_rows, num_cols  = data.shape\n",
    "    Z=[]\n",
    "    if intercept==1:\n",
    "        first_row = [1] * (num_cols-p)\n",
    "        Z.append(first_row)\n",
    "    for i in range(0, num_rows):\n",
    "        z = data[i]\n",
    "        for i in reversed(range(0,p)):\n",
    "            z_1 = z[i:-(p-i)]\n",
    "            Z.append(z_1)\n",
    "    Z = np.array(Z)\n",
    "    \n",
    "    # create new Y without presample values\n",
    "    Y_new = []\n",
    "    for i in range(0, num_rows):\n",
    "        y = data[i]\n",
    "        y = y[p:]\n",
    "        Y_new.append(y)\n",
    "    Y_new = np.array(Y_new)\n",
    "    \n",
    "    \n",
    "    \"Compute results\"\n",
    "    # coefficients\n",
    "    B_hat = Y_new@Z.T@np.linalg.inv(Z@Z.T)\n",
    "    \n",
    "    # estimated residual covariance matrix \n",
    "    Y_hat = B_hat@Z\n",
    "    U_hat = Y_new - Y_hat\n",
    "    K, T = U_hat.shape\n",
    "    eu_1 = 1/(T-K*p-1)\n",
    "    eu_2 = eu_1 * U_hat\n",
    "    E_u = eu_2@U_hat.T\n",
    "    \n",
    "    # calculate t-ratios\n",
    "    t_1 = np.linalg.inv(Z@Z.T)\n",
    "    t_2 = np.kron(t_1, E_u)\n",
    "    dia = np.diagonal(t_2)\n",
    "    dia_sq = np.sqrt(dia)\n",
    "    b = B_hat.flatten('F')     # vectorize B_hat\n",
    "    b2 = np.matrix(B_hat)\n",
    "    b2 = b2.flatten()\n",
    "    b3 = np.squeeze(np.asarray(b2))\n",
    "    t = np.divide(b, dia_sq)\n",
    "    t = t.reshape(K, B_hat.shape[1], order= \"F\")\n",
    "    \n",
    "    return B_hat, t, E_u    "
   ]
  },
  {
   "cell_type": "markdown",
   "id": "b4ba465d-e300-4d75-849d-1f20c5b58813",
   "metadata": {},
   "source": [
    "### No.2"
   ]
  },
  {
   "cell_type": "code",
   "execution_count": 3,
   "id": "97250f00-61dc-431e-bc13-d4f8e4da67e8",
   "metadata": {
    "tags": []
   },
   "outputs": [],
   "source": [
    "## functions to prepare data set\n",
    "\n",
    "# load data set, delete dates and convert to array\n",
    "def convert_data(x):    \n",
    "    with open(f'{x}.csv', 'r') as file:\n",
    "        reader = csv.reader(file)\n",
    "        y=[]\n",
    "        [y.append(row[1]) for row in reader]\n",
    "\n",
    "    del y[0]\n",
    "    y = list(map(float, y))\n",
    "    y = np.array(y)\n",
    "    return y\n",
    "\n",
    "# compute growth rate\n",
    "def quat_gr(x):\n",
    "    x = np.log(x)\n",
    "    x = np.diff(x)\n",
    "    x = 100 * x\n",
    "    return x"
   ]
  },
  {
   "cell_type": "code",
   "execution_count": 4,
   "id": "f9bd5407-b86c-43a9-b3cf-be2140cdf7b4",
   "metadata": {
    "tags": []
   },
   "outputs": [],
   "source": [
    "# use function to actually prepare data set\n",
    "FFR = convert_data('FEDFUNDS(1)')\n",
    "FFR = FFR[1:] # remove one value to garantee equal length of time series\n",
    "GDP = convert_data('GDPC1')\n",
    "GDP_diff = quat_gr(GDP)\n",
    "DEF = convert_data('GDPDEF')\n",
    "DEF_diff = quat_gr(DEF)"
   ]
  },
  {
   "cell_type": "code",
   "execution_count": 5,
   "id": "dd2cd3ca-58d8-4cd7-a1dc-635558d79a2a",
   "metadata": {},
   "outputs": [],
   "source": [
    "# create Y\n",
    "Y = np.c_[GDP_diff, DEF_diff, FFR].T"
   ]
  },
  {
   "cell_type": "code",
   "execution_count": 6,
   "id": "0f9dd498-b80c-40ac-aa82-5a3d21bf4a09",
   "metadata": {},
   "outputs": [
    {
     "data": {
      "text/plain": [
       "(3, 250)"
      ]
     },
     "execution_count": 6,
     "metadata": {},
     "output_type": "execute_result"
    }
   ],
   "source": [
    "Y.shape"
   ]
  },
  {
   "cell_type": "code",
   "execution_count": 7,
   "id": "130f15dd-7cab-4139-aa55-5606a6bae7f2",
   "metadata": {},
   "outputs": [],
   "source": [
    "# use VAR function\n",
    "coeff, t_ratios, cov_matrix = var_model(Y, 4, 1)"
   ]
  },
  {
   "cell_type": "code",
   "execution_count": 8,
   "id": "6f601ce4-f6cf-4099-859d-8fa0069c3cff",
   "metadata": {},
   "outputs": [
    {
     "data": {
      "text/plain": [
       "array([[ 0.73841693, -0.00136472,  0.13106845,  0.06634204,  0.01712105,\n",
       "        -0.20967773,  0.23637034, -0.18850331, -0.04983365,  0.10475077,\n",
       "        -0.25591333,  0.05900275,  0.09494658],\n",
       "       [ 0.07707766, -0.01731531,  0.01606932,  0.0010667 ,  0.00337405,\n",
       "         0.56376804,  0.14202479,  0.13904395,  0.08469262,  0.05487985,\n",
       "        -0.02622414, -0.02223694, -0.00903667],\n",
       "       [-0.26140514,  0.22121981,  0.10224683,  0.06151369,  0.03990731,\n",
       "         0.10610175,  0.76614749, -0.28244781, -0.14819337,  0.79145067,\n",
       "        -0.0780109 ,  0.36828521, -0.16742993]])"
      ]
     },
     "execution_count": 8,
     "metadata": {},
     "output_type": "execute_result"
    }
   ],
   "source": [
    "coeff"
   ]
  },
  {
   "cell_type": "code",
   "execution_count": 9,
   "id": "edb91e7f-8103-4bc9-858b-6bab8788fe21",
   "metadata": {},
   "outputs": [
    {
     "data": {
      "text/plain": [
       "array([[ 4.35761667, -0.02016449,  1.90556797,  0.97262942,  0.26599918,\n",
       "        -0.74443971,  0.72720731, -0.57046516, -0.17105643,  1.57514908,\n",
       "        -3.14737037,  0.71585058,  1.39234064],\n",
       "       [ 1.8442399 , -1.03732317,  0.94725166,  0.0634079 ,  0.21254117,\n",
       "         8.11557258,  1.7716214 ,  1.70609703,  1.17870115,  3.34594518,\n",
       "        -1.3076688 , -1.0938725 , -0.53729899],\n",
       "       [-1.54481965,  3.27327546,  1.4886494 ,  0.90312247,  0.62089573,\n",
       "         0.37723856,  2.36044526, -0.85598204, -0.50940327, 11.9180324 ,\n",
       "        -0.96078571,  4.47456406, -2.45875664]])"
      ]
     },
     "execution_count": 9,
     "metadata": {},
     "output_type": "execute_result"
    }
   ],
   "source": [
    "t_ratios"
   ]
  },
  {
   "cell_type": "code",
   "execution_count": 10,
   "id": "f1f9d4b0-dd64-4adb-b309-089159314fd9",
   "metadata": {},
   "outputs": [
    {
     "data": {
      "text/plain": [
       "array([[1.17169863, 0.05667958, 0.26128313],\n",
       "       [0.05667958, 0.0712743 , 0.04153689],\n",
       "       [0.26128313, 0.04153689, 1.16837793]])"
      ]
     },
     "execution_count": 10,
     "metadata": {},
     "output_type": "execute_result"
    }
   ],
   "source": [
    "cov_matrix"
   ]
  },
  {
   "cell_type": "markdown",
   "id": "150f942b-eb15-4caa-a37c-5b283028188f",
   "metadata": {},
   "source": [
    "### Extra: Result check"
   ]
  },
  {
   "cell_type": "code",
   "execution_count": null,
   "id": "c45e9f87-8288-4e85-898e-5446153994fb",
   "metadata": {},
   "outputs": [
    {
     "name": "stderr",
     "output_type": "stream",
     "text": [
      "C:\\Users\\HP\\anaconda3\\lib\\site-packages\\statsmodels\\tsa\\base\\tsa_model.py:7: FutureWarning: pandas.Int64Index is deprecated and will be removed from pandas in a future version. Use pandas.Index with the appropriate dtype instead.\n",
      "  from pandas import (to_datetime, Int64Index, DatetimeIndex, Period,\n",
      "C:\\Users\\HP\\anaconda3\\lib\\site-packages\\statsmodels\\tsa\\base\\tsa_model.py:7: FutureWarning: pandas.Float64Index is deprecated and will be removed from pandas in a future version. Use pandas.Index with the appropriate dtype instead.\n",
      "  from pandas import (to_datetime, Int64Index, DatetimeIndex, Period,\n"
     ]
    }
   ],
   "source": [
    "from statsmodels.tsa.api import VAR"
   ]
  },
  {
   "cell_type": "code",
   "execution_count": null,
   "id": "5b85439e-60f1-40ea-a0d8-fc50dcf64d21",
   "metadata": {},
   "outputs": [],
   "source": [
    "model = VAR(Y.T)\n",
    "results = model.fit(4)"
   ]
  },
  {
   "cell_type": "code",
   "execution_count": null,
   "id": "97bd141c-709b-4f00-822d-fcde64bff5d0",
   "metadata": {},
   "outputs": [
    {
     "data": {
      "text/plain": [
       "  Summary of Regression Results   \n",
       "==================================\n",
       "Model:                         VAR\n",
       "Method:                        OLS\n",
       "Date:           Wed, 09, Nov, 2022\n",
       "Time:                     21:29:23\n",
       "--------------------------------------------------------------------\n",
       "No. of Equations:         3.00000    BIC:                   -1.71865\n",
       "Nobs:                     246.000    HQIC:                  -2.05061\n",
       "Log likelihood:          -728.429    FPE:                   0.102892\n",
       "AIC:                     -2.27437    Det(Omega_mle):       0.0881630\n",
       "--------------------------------------------------------------------\n",
       "Results for equation y1\n",
       "========================================================================\n",
       "           coefficient       std. error           t-stat            prob\n",
       "------------------------------------------------------------------------\n",
       "const         0.738417         0.169454            4.358           0.000\n",
       "L1.y1        -0.001365         0.067680           -0.020           0.984\n",
       "L1.y2        -0.209678         0.281658           -0.744           0.457\n",
       "L1.y3         0.104751         0.066502            1.575           0.115\n",
       "L2.y1         0.131068         0.068782            1.906           0.057\n",
       "L2.y2         0.236370         0.325038            0.727           0.467\n",
       "L2.y3        -0.255913         0.081310           -3.147           0.002\n",
       "L3.y1         0.066342         0.068209            0.973           0.331\n",
       "L3.y2        -0.188503         0.330438           -0.570           0.568\n",
       "L3.y3         0.059003         0.082423            0.716           0.474\n",
       "L4.y1         0.017121         0.064365            0.266           0.790\n",
       "L4.y2        -0.049834         0.291329           -0.171           0.864\n",
       "L4.y3         0.094947         0.068192            1.392           0.164\n",
       "========================================================================\n",
       "\n",
       "Results for equation y2\n",
       "========================================================================\n",
       "           coefficient       std. error           t-stat            prob\n",
       "------------------------------------------------------------------------\n",
       "const         0.077078         0.041794            1.844           0.065\n",
       "L1.y1        -0.017315         0.016692           -1.037           0.300\n",
       "L1.y2         0.563768         0.069467            8.116           0.000\n",
       "L1.y3         0.054880         0.016402            3.346           0.001\n",
       "L2.y1         0.016069         0.016964            0.947           0.344\n",
       "L2.y2         0.142025         0.080167            1.772           0.076\n",
       "L2.y3        -0.026224         0.020054           -1.308           0.191\n",
       "L3.y1         0.001067         0.016823            0.063           0.949\n",
       "L3.y2         0.139044         0.081498            1.706           0.088\n",
       "L3.y3        -0.022237         0.020329           -1.094           0.274\n",
       "L4.y1         0.003374         0.015875            0.213           0.832\n",
       "L4.y2         0.084693         0.071852            1.179           0.239\n",
       "L4.y3        -0.009037         0.016819           -0.537           0.591\n",
       "========================================================================\n",
       "\n",
       "Results for equation y3\n",
       "========================================================================\n",
       "           coefficient       std. error           t-stat            prob\n",
       "------------------------------------------------------------------------\n",
       "const        -0.261405         0.169214           -1.545           0.122\n",
       "L1.y1         0.221220         0.067584            3.273           0.001\n",
       "L1.y2         0.106102         0.281259            0.377           0.706\n",
       "L1.y3         0.791451         0.066408           11.918           0.000\n",
       "L2.y1         0.102247         0.068684            1.489           0.137\n",
       "L2.y2         0.766147         0.324578            2.360           0.018\n",
       "L2.y3        -0.078011         0.081195           -0.961           0.337\n",
       "L3.y1         0.061514         0.068112            0.903           0.366\n",
       "L3.y2        -0.282448         0.329969           -0.856           0.392\n",
       "L3.y3         0.368285         0.082306            4.475           0.000\n",
       "L4.y1         0.039907         0.064274            0.621           0.535\n",
       "L4.y2        -0.148193         0.290916           -0.509           0.610\n",
       "L4.y3        -0.167430         0.068095           -2.459           0.014\n",
       "========================================================================\n",
       "\n",
       "Correlation matrix of residuals\n",
       "            y1        y2        y3\n",
       "y1    1.000000  0.196134  0.223312\n",
       "y2    0.196134  1.000000  0.143938\n",
       "y3    0.223312  0.143938  1.000000\n",
       "\n"
      ]
     },
     "execution_count": 13,
     "metadata": {},
     "output_type": "execute_result"
    }
   ],
   "source": [
    "results.summary()"
   ]
  }
 ],
 "metadata": {
  "kernelspec": {
   "display_name": "Python 3",
   "language": "python",
   "name": "python3"
  },
  "language_info": {
   "codemirror_mode": {
    "name": "ipython",
    "version": 3
   },
   "file_extension": ".py",
   "mimetype": "text/x-python",
   "name": "python",
   "nbconvert_exporter": "python",
   "pygments_lexer": "ipython3",
   "version": "3.8.8"
  }
 },
 "nbformat": 4,
 "nbformat_minor": 5
}
