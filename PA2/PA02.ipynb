{
 "cells": [
  {
   "cell_type": "markdown",
   "metadata": {},
   "source": [
    "## Programming Assignment 2\n",
    "Matriculation Nr: 01/1151248\n",
    "\n",
    "Other group members: 1151277, 1152810, 919755"
   ]
  },
  {
   "cell_type": "code",
   "execution_count": 121,
   "metadata": {},
   "outputs": [],
   "source": [
    "import numpy as np\n",
    "import pandas as pd\n",
    "import scipy.stats as st\n",
    "\n",
    "from statsmodels.tsa.api import VAR"
   ]
  },
  {
   "cell_type": "code",
   "execution_count": 122,
   "metadata": {},
   "outputs": [],
   "source": [
    "def Z_matrix(y: np.array, p: int, c: int):\n",
    "    \"\"\"Calculate the Z-matrix for a given input\n",
    "\n",
    "    Args:\n",
    "        y (np.array): input with all the data of shape (T + p) × K\n",
    "        p (int): lags\n",
    "        c (int): intercept yes=1, no=0\n",
    "\n",
    "    Returns:\n",
    "        (np.array): Z-matrix for given input\n",
    "    \"\"\"\n",
    "    \n",
    "    y = y.T # transpose y\n",
    "    T = np.size(y, 1) - p # get T (number of observations)\n",
    "    \n",
    "    # build Z-matrix\n",
    "    Z = y[:, :T]\n",
    "    for i in range(1, p):\n",
    "        Z = np.concatenate((y[:,i:T+i], Z), 0)\n",
    "        \n",
    "    if (c ==1):\n",
    "        Z = np.concatenate((np.ones(shape=(1, T)), Z), 0)       \n",
    "    \n",
    "    return Z"
   ]
  },
  {
   "cell_type": "code",
   "execution_count": 123,
   "metadata": {},
   "outputs": [],
   "source": [
    "def B_matrix(y: np.array, p: int, c: int):\n",
    "    \"\"\"Calculates the B matrix with the estimated coefficients\n",
    "\n",
    "    Args:\n",
    "        y (np.array): input with all the data of shape (T + p) × K\n",
    "        p (int): lags\n",
    "        c (int): intercept yes=1, no=0\n",
    "\n",
    "    Returns:\n",
    "        _type_: B = matrix with estimated coefficients; Z=Z-matrix; sigma_u=covariance matrix\n",
    "    \"\"\"\n",
    "    \n",
    "    # get Z-matrix from function above\n",
    "    Z = Z_matrix(y, p, c)\n",
    "    \n",
    "    y = y.T # transpose y\n",
    "    y = y[:,p:] # first p observations are lost as we need prior lags for estimation\n",
    "    K = np.size(y, 0) # number of variables\n",
    "    T = np.size(y, 1) - p # number of observations\n",
    "    \n",
    "    # calculate B\n",
    "    B = y @ Z.T @ np.linalg.inv((Z@Z.T))\n",
    "    \n",
    "    # calculate sigma_u (covariance matrix)\n",
    "    sigma_u = (1/(T-K*p-1))*((y-(B@Z))@(y-(B@Z)).T)\n",
    "    \n",
    "    return B, Z, sigma_u"
   ]
  },
  {
   "cell_type": "code",
   "execution_count": 124,
   "metadata": {},
   "outputs": [],
   "source": [
    "def granger(y: np.array, p: int, dummy_vec: list, c=1):\n",
    "    \"\"\"Performs the Granger Causality Test on a given set of variables\n",
    "\n",
    "    Args:\n",
    "        y (np.array): input with all the data of shape (T + p) × K\n",
    "        p (int): lags\n",
    "        dummy_vec (list): list with causing (1) and caused (0) signs\n",
    "        c (int): intercept yes=1, no=0 \n",
    "\n",
    "    Returns:\n",
    "        _type_: Wald- and F-statistic together with implied p-values\n",
    "    \"\"\"\n",
    "    \n",
    "    y = y.T # transpose y\n",
    "    n_cause = sum(dummy_vec) # number of causing variables = 1's in the list\n",
    "    n_caused = len(dummy_vec) - n_cause # number of caused variables\n",
    "       \n",
    "    # arrange in right order (first cause variables, then caused variables)\n",
    "    cause = []\n",
    "    caused = []\n",
    "    for i, n in enumerate(dummy_vec):\n",
    "        if n == 1:\n",
    "            cause.append(y[i])\n",
    "        else:\n",
    "            caused.append(y[i])\n",
    "    \n",
    "    cause = np.column_stack(cause)\n",
    "    caused = np.column_stack(caused)\n",
    "    y = np.concatenate((cause, caused), axis=1)\n",
    "    \n",
    "        \n",
    "    # get B matrix, Z, and covariance matrix from above function\n",
    "    K = y.shape[1]  # number of variables\n",
    "    T = np.size(y, 1) - p\n",
    "    B, Z, sigma_u = B_matrix(y, p, c) # return all three\n",
    "    \n",
    "    # extract relevant positions for C matrix\n",
    "    positions = np.arange(0, B.size).reshape(np.size(B,1), np.size(B,0)).T # matrix of shape B and continuous index\n",
    "    \n",
    "    # get indices for positions that should be checked\n",
    "    relevant_parts = []\n",
    "    for p in range(0, p):\n",
    "        pos_A = positions[:n_caused, 1+n_caused+K*p:1+n_caused+K*p+n_cause]\n",
    "        for arr in pos_A:\n",
    "            for num in arr:\n",
    "                relevant_parts.append(num)\n",
    "    relevant_parts.sort() # sort indices\n",
    "    \n",
    "    # vectorize B matrix (F=column-wise)\n",
    "    vec_B = B.flatten(order=\"F\").T\n",
    "    \n",
    "    # initialize C with zeros only\n",
    "    C = np.zeros([len(relevant_parts), len(vec_B)])\n",
    "    \n",
    "    # add 1 at relevant parts\n",
    "    for i, num in enumerate(relevant_parts):\n",
    "        C[i, num] = 1\n",
    "    \n",
    "    # calculate lambdas\n",
    "    lambda_w = (C@vec_B).T @ np.linalg.inv(C @ np.kron(np.linalg.inv(Z@Z.T), sigma_u) @ C.T) @ C@vec_B\n",
    "    lambda_f = lambda_w/len(relevant_parts)\n",
    "    \n",
    "    # degrees of freedom\n",
    "    df_chi2 = len(relevant_parts)\n",
    "    df_fn = len(relevant_parts)\n",
    "    df_fd = T*K-(K**2)*p-K\n",
    "    \n",
    "    # p_values\n",
    "    p_val_chi2 = round(abs(1-st.chi2.cdf(lambda_w, df_chi2)), 4)\n",
    "    p_val_f = round(abs(st.f.cdf(lambda_f, df_fn, df_fd)), 4)\n",
    "\n",
    "    return lambda_w, p_val_chi2, lambda_f, p_val_f"
   ]
  },
  {
   "cell_type": "code",
   "execution_count": 125,
   "metadata": {},
   "outputs": [
    {
     "data": {
      "text/html": [
       "<div>\n",
       "<style scoped>\n",
       "    .dataframe tbody tr th:only-of-type {\n",
       "        vertical-align: middle;\n",
       "    }\n",
       "\n",
       "    .dataframe tbody tr th {\n",
       "        vertical-align: top;\n",
       "    }\n",
       "\n",
       "    .dataframe thead th {\n",
       "        text-align: right;\n",
       "    }\n",
       "</style>\n",
       "<table border=\"1\" class=\"dataframe\">\n",
       "  <thead>\n",
       "    <tr style=\"text-align: right;\">\n",
       "      <th></th>\n",
       "      <th>YER</th>\n",
       "      <th>ITR</th>\n",
       "      <th>STN</th>\n",
       "      <th>LTN</th>\n",
       "    </tr>\n",
       "    <tr>\n",
       "      <th>Q</th>\n",
       "      <th></th>\n",
       "      <th></th>\n",
       "      <th></th>\n",
       "      <th></th>\n",
       "    </tr>\n",
       "  </thead>\n",
       "  <tbody>\n",
       "    <tr>\n",
       "      <th>1970Q1</th>\n",
       "      <td>738304.250471</td>\n",
       "      <td>191787.320701</td>\n",
       "      <td>7.986993</td>\n",
       "      <td>7.922865</td>\n",
       "    </tr>\n",
       "    <tr>\n",
       "      <th>1970Q2</th>\n",
       "      <td>752495.866789</td>\n",
       "      <td>203176.720610</td>\n",
       "      <td>7.956545</td>\n",
       "      <td>8.254439</td>\n",
       "    </tr>\n",
       "    <tr>\n",
       "      <th>1970Q3</th>\n",
       "      <td>761561.610862</td>\n",
       "      <td>206267.925392</td>\n",
       "      <td>7.602189</td>\n",
       "      <td>8.384747</td>\n",
       "    </tr>\n",
       "    <tr>\n",
       "      <th>1970Q4</th>\n",
       "      <td>770787.033957</td>\n",
       "      <td>205426.358549</td>\n",
       "      <td>7.242308</td>\n",
       "      <td>8.340932</td>\n",
       "    </tr>\n",
       "    <tr>\n",
       "      <th>1971Q1</th>\n",
       "      <td>769439.321026</td>\n",
       "      <td>204324.652554</td>\n",
       "      <td>6.516898</td>\n",
       "      <td>7.860624</td>\n",
       "    </tr>\n",
       "  </tbody>\n",
       "</table>\n",
       "</div>"
      ],
      "text/plain": [
       "                  YER            ITR       STN       LTN\n",
       "Q                                                       \n",
       "1970Q1  738304.250471  191787.320701  7.986993  7.922865\n",
       "1970Q2  752495.866789  203176.720610  7.956545  8.254439\n",
       "1970Q3  761561.610862  206267.925392  7.602189  8.384747\n",
       "1970Q4  770787.033957  205426.358549  7.242308  8.340932\n",
       "1971Q1  769439.321026  204324.652554  6.516898  7.860624"
      ]
     },
     "execution_count": 125,
     "metadata": {},
     "output_type": "execute_result"
    }
   ],
   "source": [
    "# read in data\n",
    "awm = pd.read_csv(\"awm19up18.csv\")\n",
    "awm.rename(columns={awm.columns[0]: \"Q\" }, inplace = True)\n",
    "\n",
    "of_interest = [\"Q\", \"YER\", \"ITR\", \"LTN\", \"STN\"]\n",
    "awm = awm[awm.columns.intersection(of_interest)]\n",
    "awm.set_index('Q', inplace=True)\n",
    "\n",
    "awm.head()"
   ]
  },
  {
   "cell_type": "code",
   "execution_count": 126,
   "metadata": {},
   "outputs": [
    {
     "data": {
      "text/html": [
       "<div>\n",
       "<style scoped>\n",
       "    .dataframe tbody tr th:only-of-type {\n",
       "        vertical-align: middle;\n",
       "    }\n",
       "\n",
       "    .dataframe tbody tr th {\n",
       "        vertical-align: top;\n",
       "    }\n",
       "\n",
       "    .dataframe thead th {\n",
       "        text-align: right;\n",
       "    }\n",
       "</style>\n",
       "<table border=\"1\" class=\"dataframe\">\n",
       "  <thead>\n",
       "    <tr style=\"text-align: right;\">\n",
       "      <th></th>\n",
       "      <th>YER</th>\n",
       "      <th>ITR</th>\n",
       "      <th>STN</th>\n",
       "      <th>LTN</th>\n",
       "      <th>YER_log</th>\n",
       "      <th>ITR_log</th>\n",
       "      <th>d_lgdp</th>\n",
       "      <th>d_invest</th>\n",
       "      <th>d_R</th>\n",
       "      <th>d_r</th>\n",
       "    </tr>\n",
       "    <tr>\n",
       "      <th>Q</th>\n",
       "      <th></th>\n",
       "      <th></th>\n",
       "      <th></th>\n",
       "      <th></th>\n",
       "      <th></th>\n",
       "      <th></th>\n",
       "      <th></th>\n",
       "      <th></th>\n",
       "      <th></th>\n",
       "      <th></th>\n",
       "    </tr>\n",
       "  </thead>\n",
       "  <tbody>\n",
       "    <tr>\n",
       "      <th>1970Q2</th>\n",
       "      <td>752495.866789</td>\n",
       "      <td>203176.720610</td>\n",
       "      <td>7.956545</td>\n",
       "      <td>8.254439</td>\n",
       "      <td>13.531151</td>\n",
       "      <td>12.221831</td>\n",
       "      <td>7.615800</td>\n",
       "      <td>23.075637</td>\n",
       "      <td>0.331574</td>\n",
       "      <td>-0.030448</td>\n",
       "    </tr>\n",
       "    <tr>\n",
       "      <th>1970Q3</th>\n",
       "      <td>761561.610862</td>\n",
       "      <td>206267.925392</td>\n",
       "      <td>7.602189</td>\n",
       "      <td>8.384747</td>\n",
       "      <td>13.543126</td>\n",
       "      <td>12.236931</td>\n",
       "      <td>4.790229</td>\n",
       "      <td>6.039915</td>\n",
       "      <td>0.130308</td>\n",
       "      <td>-0.354356</td>\n",
       "    </tr>\n",
       "    <tr>\n",
       "      <th>1970Q4</th>\n",
       "      <td>770787.033957</td>\n",
       "      <td>205426.358549</td>\n",
       "      <td>7.242308</td>\n",
       "      <td>8.340932</td>\n",
       "      <td>13.555167</td>\n",
       "      <td>12.232843</td>\n",
       "      <td>4.816415</td>\n",
       "      <td>-1.635326</td>\n",
       "      <td>-0.043815</td>\n",
       "      <td>-0.359880</td>\n",
       "    </tr>\n",
       "    <tr>\n",
       "      <th>1971Q1</th>\n",
       "      <td>769439.321026</td>\n",
       "      <td>204324.652554</td>\n",
       "      <td>6.516898</td>\n",
       "      <td>7.860624</td>\n",
       "      <td>13.553417</td>\n",
       "      <td>12.227465</td>\n",
       "      <td>-0.700008</td>\n",
       "      <td>-2.150982</td>\n",
       "      <td>-0.480308</td>\n",
       "      <td>-0.725410</td>\n",
       "    </tr>\n",
       "    <tr>\n",
       "      <th>1971Q2</th>\n",
       "      <td>779295.962146</td>\n",
       "      <td>209724.713360</td>\n",
       "      <td>5.938638</td>\n",
       "      <td>7.930762</td>\n",
       "      <td>13.566146</td>\n",
       "      <td>12.253551</td>\n",
       "      <td>5.091522</td>\n",
       "      <td>10.434248</td>\n",
       "      <td>0.070138</td>\n",
       "      <td>-0.578261</td>\n",
       "    </tr>\n",
       "  </tbody>\n",
       "</table>\n",
       "</div>"
      ],
      "text/plain": [
       "                  YER            ITR       STN       LTN    YER_log  \\\n",
       "Q                                                                     \n",
       "1970Q2  752495.866789  203176.720610  7.956545  8.254439  13.531151   \n",
       "1970Q3  761561.610862  206267.925392  7.602189  8.384747  13.543126   \n",
       "1970Q4  770787.033957  205426.358549  7.242308  8.340932  13.555167   \n",
       "1971Q1  769439.321026  204324.652554  6.516898  7.860624  13.553417   \n",
       "1971Q2  779295.962146  209724.713360  5.938638  7.930762  13.566146   \n",
       "\n",
       "          ITR_log    d_lgdp   d_invest       d_R       d_r  \n",
       "Q                                                           \n",
       "1970Q2  12.221831  7.615800  23.075637  0.331574 -0.030448  \n",
       "1970Q3  12.236931  4.790229   6.039915  0.130308 -0.354356  \n",
       "1970Q4  12.232843  4.816415  -1.635326 -0.043815 -0.359880  \n",
       "1971Q1  12.227465 -0.700008  -2.150982 -0.480308 -0.725410  \n",
       "1971Q2  12.253551  5.091522  10.434248  0.070138 -0.578261  "
      ]
     },
     "execution_count": 126,
     "metadata": {},
     "output_type": "execute_result"
    }
   ],
   "source": [
    "# calculate logs and first differences and assign names accordingly\n",
    "awm[\"YER_log\"] = np.log(awm['YER'])\n",
    "awm[\"ITR_log\"] = np.log(awm['ITR'])\n",
    "\n",
    "awm[\"d_lgdp\"] = awm[\"YER_log\"].diff()\n",
    "awm[\"d_invest\"] = awm[\"ITR_log\"].diff()\n",
    "\n",
    "awm[\"d_lgdp\"] = awm[\"d_lgdp\"] * 400\n",
    "awm[\"d_invest\"] = awm[\"d_invest\"] * 400\n",
    "\n",
    "awm[\"d_R\"] = awm[\"LTN\"].diff()\n",
    "awm[\"d_r\"] = awm[\"STN\"].diff()\n",
    "\n",
    "awm.dropna(inplace=True)\n",
    "\n",
    "awm.head()"
   ]
  },
  {
   "cell_type": "code",
   "execution_count": 127,
   "metadata": {},
   "outputs": [],
   "source": [
    "# get the input for our function\n",
    "y_t = np.array(awm[[\"d_lgdp\", \"d_invest\", \"d_R\", \"d_r\"]])\n"
   ]
  },
  {
   "cell_type": "code",
   "execution_count": 128,
   "metadata": {},
   "outputs": [
    {
     "data": {
      "text/plain": [
       "(25.500968289745057, 0.0013, 3.187621036218132, nan)"
      ]
     },
     "execution_count": 128,
     "metadata": {},
     "output_type": "execute_result"
    }
   ],
   "source": [
    "# calculate Granger Causality\n",
    "granger(y_t, 2, [0, 0, 1, 1], 1)"
   ]
  },
  {
   "cell_type": "markdown",
   "metadata": {},
   "source": [
    "### Check with Built-In Functions"
   ]
  },
  {
   "cell_type": "code",
   "execution_count": 129,
   "metadata": {},
   "outputs": [
    {
     "name": "stderr",
     "output_type": "stream",
     "text": [
      "c:\\Users\\jonas\\anaconda3\\lib\\site-packages\\statsmodels\\tsa\\base\\tsa_model.py:471: ValueWarning: No frequency information was provided, so inferred frequency QS-OCT will be used.\n",
      "  self._init_dates(dates, freq)\n"
     ]
    }
   ],
   "source": [
    "# check result with statsmodels VAR module\n",
    "model = VAR(awm[[\"d_lgdp\", \"d_invest\", \"d_R\", \"d_r\"]])\n",
    "results = model.fit(2)"
   ]
  },
  {
   "cell_type": "code",
   "execution_count": 130,
   "metadata": {},
   "outputs": [
    {
     "data": {
      "text/html": [
       "<table class=\"simpletable\">\n",
       "<caption>Granger causality Wald-test. H_0: ['d_lgdp', 'd_invest'] do not Granger-cause [d_R, d_r]. Conclusion: reject H_0 at 5% significance level.</caption>\n",
       "<tr>\n",
       "  <th>Test statistic</th> <th>Critical value</th> <th>p-value</th> <th>df</th>\n",
       "</tr>\n",
       "<tr>\n",
       "       <td>25.79</td>          <td>15.51</td>      <td>0.001</td>   <td>8</td>\n",
       "</tr>\n",
       "</table>"
      ],
      "text/plain": [
       "<class 'statsmodels.iolib.table.SimpleTable'>"
      ]
     },
     "execution_count": 130,
     "metadata": {},
     "output_type": "execute_result"
    }
   ],
   "source": [
    "# Wald test\n",
    "granger_stat_wald = results.test_causality(['d_R', \"d_r\"], [\"d_lgdp\", \"d_invest\"], kind='wald')\n",
    "granger_stat_wald.summary()"
   ]
  },
  {
   "cell_type": "code",
   "execution_count": 131,
   "metadata": {},
   "outputs": [
    {
     "data": {
      "text/html": [
       "<table class=\"simpletable\">\n",
       "<caption>Granger causality F-test. H_0: ['d_lgdp', 'd_invest'] do not Granger-cause [d_R, d_r]. Conclusion: reject H_0 at 5% significance level.</caption>\n",
       "<tr>\n",
       "  <th>Test statistic</th> <th>Critical value</th> <th>p-value</th>    <th>df</th>   \n",
       "</tr>\n",
       "<tr>\n",
       "       <td>3.223</td>          <td>1.951</td>      <td>0.001</td>  <td>(8, 720)</td>\n",
       "</tr>\n",
       "</table>"
      ],
      "text/plain": [
       "<class 'statsmodels.iolib.table.SimpleTable'>"
      ]
     },
     "execution_count": 131,
     "metadata": {},
     "output_type": "execute_result"
    }
   ],
   "source": [
    "# F-test\n",
    "granger_stat_f = results.test_causality(['d_R', \"d_r\"], [\"d_lgdp\", \"d_invest\"], kind='f')\n",
    "granger_stat_f.summary()"
   ]
  }
 ],
 "metadata": {
  "kernelspec": {
   "display_name": "Python 3.8.8 ('base')",
   "language": "python",
   "name": "python3"
  },
  "language_info": {
   "codemirror_mode": {
    "name": "ipython",
    "version": 3
   },
   "file_extension": ".py",
   "mimetype": "text/x-python",
   "name": "python",
   "nbconvert_exporter": "python",
   "pygments_lexer": "ipython3",
   "version": "3.8.8"
  },
  "orig_nbformat": 4,
  "vscode": {
   "interpreter": {
    "hash": "f53b217d8430526303bffcd87b390d5c67e67390f11595101f60a03768747934"
   }
  }
 },
 "nbformat": 4,
 "nbformat_minor": 2
}
