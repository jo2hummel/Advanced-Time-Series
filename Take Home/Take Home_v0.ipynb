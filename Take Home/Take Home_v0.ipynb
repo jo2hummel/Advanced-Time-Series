{
 "cells": [
  {
   "attachments": {},
   "cell_type": "markdown",
   "metadata": {},
   "source": [
    "## Take Home Assignment\n",
    "\n",
    "Student ID: \n",
    "\n",
    "Collaborators: 919755, 1153929, 1152810, 1151277, 1151248"
   ]
  },
  {
   "cell_type": "code",
   "execution_count": 625,
   "metadata": {},
   "outputs": [],
   "source": [
    "import numpy as np\n",
    "import pandas as pd\n",
    "\n",
    "import matplotlib.pyplot as plt \n",
    "import seaborn as sns\n",
    "\n",
    "from statsmodels.tsa.api import VAR\n",
    "\n",
    "from numpy.linalg import det, inv\n",
    "from numpy.linalg import matrix_power as mp\n",
    "\n",
    "from collections import Counter"
   ]
  },
  {
   "cell_type": "code",
   "execution_count": 626,
   "metadata": {},
   "outputs": [],
   "source": [
    "def Z_matrix(y: np.array, p: int, c: int):\n",
    "    \"\"\"Calculate the Z-matrix for a given input\n",
    "\n",
    "    Args:\n",
    "        y (np.array): input with all the data of shape (T + p) × K\n",
    "        p (int): lags\n",
    "        c (int): intercept yes=1, no=0\n",
    "\n",
    "    Returns:\n",
    "        (np.array): Z-matrix for given input\n",
    "    \"\"\"\n",
    "\n",
    "    y = y.T\n",
    "\n",
    "    #determine matrix dimensions:\n",
    "    T = y.shape[1] - p\n",
    "    K = y.shape[0]\n",
    "\n",
    "    # build Z-matrix\n",
    "    if c==1:\n",
    "        Z = np.ones((1, T+p), dtype=float)\n",
    "\n",
    "    # 1b stacked lagged data\n",
    "    for i in range(p):\n",
    "        #add i columns of leading zeros (EDIT: empty, comp cost lower) to ktpmat\n",
    "        zeros = np.zeros((K, i), dtype=float)\n",
    "        zerostack = np.hstack((zeros, y[:,:(T+p-i)]))\n",
    "        # vertically stack this to Z\n",
    "        Z = np.vstack((Z, zerostack))\n",
    "\n",
    "    # cutting of leading p columns and retrieving Z\n",
    "    Z = Z[:, p-1:-1]\n",
    "\n",
    "    return Z"
   ]
  },
  {
   "cell_type": "code",
   "execution_count": 627,
   "metadata": {},
   "outputs": [],
   "source": [
    "def B_matrix(y: np.array, p: int, c: int):\n",
    "    \"\"\"Calculates the B matrix with the estimated coefficients\n",
    "\n",
    "    Args:\n",
    "        y (np.array): input with all the data of shape (T + p) × K\n",
    "        p (int): lags\n",
    "        c (int): intercept yes=1, no=0\n",
    "\n",
    "    Returns:\n",
    "        _type_: B = matrix with estimated coefficients; Z=Z-matrix; sigma_u=covariance matrix\n",
    "    \"\"\"\n",
    "\n",
    "    # get Z-matrix from function above\n",
    "    Z = Z_matrix(y, p, c)\n",
    "\n",
    "    y = y.T # transpose y\n",
    "    y = y[:,p:] # first p observations are lost as we need prior lags for estimation\n",
    "    K = y.shape[0] # number of variables\n",
    "    T = y.shape[1] # number of observations\n",
    "\n",
    "    # calculate B\n",
    "    B = y @ Z.T @ np.linalg.inv((Z@Z.T))\n",
    "\n",
    "    # calculate sigma_u (covariance matrix)\n",
    "    sigma_u = (1/(T-K*p-1))*(y-(B@Z))@(y-(B@Z)).T\n",
    "\n",
    "    return B, Z, sigma_u"
   ]
  },
  {
   "attachments": {},
   "cell_type": "markdown",
   "metadata": {},
   "source": [
    "## Exercise 1"
   ]
  },
  {
   "attachments": {},
   "cell_type": "markdown",
   "metadata": {},
   "source": [
    "Exercise 1(a-d)"
   ]
  },
  {
   "cell_type": "code",
   "execution_count": 628,
   "metadata": {},
   "outputs": [],
   "source": [
    "def var1sim(A1: np.array, sigma_u: np.array, T: int):\n",
    "    \"\"\"A function that simulates time series data from a K-dimensional VAR(1) process yt = A1 y_t−1 + u_t, \n",
    "    where the innovations ut are drawn from a multivariate normal distribution with mean zero and covariance matrix Σ_u. \n",
    "    Uses y_0 = 0 as starting value, where 0 is a K × 1 vector of zeros.\n",
    "    Generates time series of length T+50 and discards the first 50 observations, \n",
    "    such that it returns a time series of total length equal to T.\n",
    "\n",
    "    Args:\n",
    "        A1 (np.array): coefficient matrix at lag 1\n",
    "        sigma_u (np.array): covariance matrix Σ_u\n",
    "        T (int): number of observations\n",
    "\n",
    "    Returns:\n",
    "        np.array: T x K matrix of observations on y_t\n",
    "    \"\"\"\n",
    "    K = sigma_u.shape[0]\n",
    "\n",
    "    # set starting values\n",
    "    y_tminus1 = np.zeros((K, 1))\n",
    "\n",
    "    P = np.linalg.cholesky(sigma_u)\n",
    "\n",
    "    for i in range(T+50):\n",
    "        # draw disturbance u_t\n",
    "        u_t = P @ np.random.standard_normal(K)\n",
    "        u_t = u_t.reshape(K, 1)\n",
    "        #recursively calculate y_t \n",
    "        y_t = A1@y_tminus1 + u_t\n",
    "        if i == 0:\n",
    "            y = y_t\n",
    "        else:\n",
    "            y = np.hstack((y, y_t))\n",
    "        y_tminus1 = y_t\n",
    "\n",
    "    # discard first 50 observations\n",
    "    y = y[:,50:]\n",
    "\n",
    "    return y.T"
   ]
  },
  {
   "cell_type": "code",
   "execution_count": 629,
   "metadata": {},
   "outputs": [],
   "source": [
    "def var_information_criteria(y_t: np.array, p_max: int):\n",
    "    \"\"\"A function to calculate the 4 information criteria (FPE, AIC, HQ, SC) for a VAR process with maxlag = pmax.\n",
    "       Assumes model has an intercept and at least one lag. Returns the chosen lag order.\n",
    "\n",
    "    Args:\n",
    "        y_t (np.array): K x (T + p_max) matrix of observations on y_t\n",
    "        p_max (int): maximum number of lags included in the model\n",
    "\n",
    "    Returns:\n",
    "        int: The chosen information criterion based on the mode of the suggestions of the 4 criteria. \n",
    "             In case of a draw, the higher one is selected.\n",
    "    \"\"\"\n",
    "    \n",
    "    # arrays to store IC values\n",
    "    FPE, AIC, HQ, SC = np.zeros(p_max), np.zeros(p_max), np.zeros(p_max), np.zeros(p_max)\n",
    "\n",
    "    # get T and K from the shape of the input\n",
    "    K = y_t.shape[0]\n",
    "    T = y_t.shape[1] - p_max # lags needed for estimation\n",
    "    \n",
    "    # calculate information criteria for lags m\n",
    "    for m in range(1, p_max+1):\n",
    "        \n",
    "        # estimate sigma_u_tilde with MLE (2.55 - 2.56)\n",
    "        Z = Z_matrix(y_t[:, p_max-m:].T,  m, c=1) # take m lags for estimation\n",
    "        B_tilde = y_t[:, p_max:] @ Z.T @ inv(Z@Z.T)\n",
    "        sigma_tilde_m = (1/T)*(y_t[:, p_max:] - B_tilde@Z)@(y_t[:, p_max:] - B_tilde@Z).T\n",
    "        \n",
    "        # calculate ICs for given lag m (2.107 - 2.114)\n",
    "        det_sigma_tilde_m = det(sigma_tilde_m)\n",
    "        FPE[m-1] = (((T + K*m + 1) / (T - K*m - 1)) ** K) * det_sigma_tilde_m\n",
    "        AIC[m-1] = np.log(det_sigma_tilde_m) + ((2*(K**2)*m)/T)\n",
    "        HQ[m-1] = np.log(det_sigma_tilde_m) + ((2*np.log(np.log(T)))/T) * (K**2)*m\n",
    "        SC[m-1] = np.log(det_sigma_tilde_m) + (np.log(T)/T) * (K**2)*m\n",
    "    \n",
    "    # store all in one array and select the lowest values    \n",
    "    criteria_all_lags = np.array([FPE, AIC, SC, HQ])\n",
    "    lag_orders_selected = np.argmin(criteria_all_lags, axis=1)+1\n",
    "    \n",
    "    \"\"\"\n",
    "    Note: Liew (2004) (https://ssrn.com/abstract=885505):\n",
    "    \"The most interesting finding of this study is that Akaike’s information criterion (AIC) and \n",
    "    final prediction error (FPE) are superior than the other criteria under study in the case of \n",
    "    small sample (60 observations and below), in the manners that they minimize the chance of under\n",
    "    estimation while maximizing the chance of recovering the true lag length.\"  \n",
    "    \"\"\"\n",
    "    \n",
    "    return lag_orders_selected"
   ]
  },
  {
   "cell_type": "code",
   "execution_count": 630,
   "metadata": {},
   "outputs": [],
   "source": [
    "def hstep_forecast(y: np.array, sigma_u:np.array, p: int, h: int):\n",
    "    \"\"\"A function that computes the h-step ahead point forecasts y_T (h) and the corresponding MSE matrix Σˆ_y(h) \n",
    "       based on a VAR(p) with intercept\n",
    "\n",
    "    Args:\n",
    "        y (np.array): K × T matrix of observations\n",
    "        sigma_u (np.array): covariance matrix Σ_u\n",
    "        p (int): lag order\n",
    "        h (int): forecast horizon\n",
    "\n",
    "    Returns:\n",
    "        list: h-step ahead forecasts and the corresponding MSE matrix\n",
    "    \"\"\"\n",
    "    \n",
    "    K = y.shape[0]\n",
    "    T = y.shape[1]\n",
    "\n",
    "    # retrieving estimates\n",
    "    B, Z, _ = B_matrix(y.T, p, c=1)\n",
    "\n",
    "    # constructing matrices\n",
    "    J1 = np.hstack((np.zeros((K, 1)), np.identity(K), np.zeros((K, K*(p-1)))))\n",
    "\n",
    "    row0 = np.hstack((np.ones((1,1)), np.zeros((1, K*p))))\n",
    "    rowz = np.hstack((np.zeros((K*(p-1), 1)), np.identity(K*(p-1)), np.zeros((K*(p-1), K))))\n",
    "    B = np.vstack((row0, B, rowz))\n",
    "\n",
    "    Zt = y[:,-p:]                       # selecting y[:,-p:] from t-p up to t\n",
    "    Zt = Zt[:,::-1].T.flatten()             # reverse order horizontally, transpose and flatten.\n",
    "    Zt = np.hstack((np.array([(1)]), Zt)).reshape(K*p+1, 1)   # adding one leading 1, transposing, dimension is: 1+K*T x 1\n",
    "   \n",
    "     # predicting y_th\n",
    "    y_th = J1@mp(B, h)@Zt\n",
    "    \n",
    "    # calculate the corresponding MSE matrix\n",
    "    sigma_hat_yh = 0\n",
    "    for i in range(h):                # formula at p. 64\n",
    "        PHIi = J1@mp(B, i)@J1.T  \n",
    "        part_of_sum = PHIi@sigma_u@PHIi.T\n",
    "        sigma_hat_yh += part_of_sum\n",
    "\n",
    "    return y_th, sigma_hat_yh"
   ]
  },
  {
   "cell_type": "code",
   "execution_count": 631,
   "metadata": {},
   "outputs": [],
   "source": [
    "#  define parameters for the function\n",
    "\n",
    "T1 = 50\n",
    "T2 = 100\n",
    "T3 = 200\n",
    "\n",
    "a11 = 0.5\n",
    "A1 = np.array([[a11, 0], \n",
    "              [0.5, 0.5]])\n",
    "\n",
    "sigma_u = np.array([[1, 0.5],\n",
    "                   [0.5, 1]])"
   ]
  },
  {
   "cell_type": "code",
   "execution_count": 632,
   "metadata": {},
   "outputs": [],
   "source": [
    "def monte_carlo_var1(A1:np.array, sigma_u:np.array, T:int, M=1000):\n",
    "    \"\"\"_summary_\n",
    "\n",
    "    Args:\n",
    "        A1 (np.array): _description_\n",
    "        sigma_u (np.array): _description_\n",
    "        T (int): _description_\n",
    "        M (int, optional): _description_. Defaults to 1000.\n",
    "\n",
    "    Returns:\n",
    "        _type_: _description_\n",
    "    \"\"\"\n",
    "    \n",
    "    ### Setting up storages ###\n",
    "    \n",
    "    # collect ICs (1st row FPE, 2nd AIC, 3rd HC, 4th SC)\n",
    "    selected_lags = np.zeros(M*4, dtype=int).reshape(4, M)\n",
    "    \n",
    "    # 1st, 2nd row: forecast h=1; 3rd, 4th h=2; 5th, 6th h=4\n",
    "    # 1st 6*1000 block: FPE, 2nd AIC, 3rd HQ, 4th SC\n",
    "    fc_store =np.zeros(M*6*4).reshape(6, 4*M) \n",
    "    \n",
    "    # 1st, 2nd row: forecast h=1; 3rd, 4th h=2; 5th, 6th h=4; always 2 columns\n",
    "    # 1st 6*2000 block: FPE, 2nd AIC, 3rd HQ, 4th SC\n",
    "    fc_sigma_hat_store =np.zeros(M*6*4*2).reshape(6, 4*2*M)\n",
    "    \n",
    "    # 1st row for h=1, 2nd h=2, 3rd h=4\n",
    "    # 1st 3*1000 block: FPE, 2nd AIC, 3rd HQ, 4th SC\n",
    "    spe_h_store = np.zeros(M*3*4).reshape(3, 4*M) \n",
    "    \n",
    "    # 1st row: forecast h=1; 2nd h=2; 3rd h=4\n",
    "    # 1st 3*1 block: FPE, 2nd AIC, 3rd HQ, 4th SC\n",
    "    mspe_hs_store = np.zeros(3*1*4).reshape(3, 4)\n",
    "    \n",
    "    \n",
    "    ### Simulating M timeseries ###\n",
    "    \n",
    "    for i in range(M):\n",
    "        \n",
    "        # simulate timeseries\n",
    "        y_t = var1sim(A1, sigma_u, T)\n",
    "        \n",
    "        # reverse y_t to KxT matrix\n",
    "        y_t = y_t.T\n",
    "        \n",
    "        # apply standard information criteria (hold out the last 4 lags for forecasting)\n",
    "        ics = var_information_criteria(y_t[:, :T-4], 8) \n",
    "        # store suggested lag for all ICs\n",
    "        selected_lags[0, i], selected_lags[1, i], selected_lags[2, i], selected_lags[3, i] = ics[0], ics[1], ics[2], ics[3]\n",
    "        \n",
    "        for index, p_hat in enumerate(ics): \n",
    "            \n",
    "            # h-step ahead forecasts for h = 1, 2, 4 (hold out the last 4 lags for forecasting)\n",
    "            fc_h1, sigma_hat_yh1 = hstep_forecast(y_t[:, :T-4], sigma_u, p_hat, 1)\n",
    "            fc_h2, sigma_hat_yh2 = hstep_forecast(y_t[:, :T-4], sigma_u, p_hat, 2)\n",
    "            fc_h4, sigma_hat_yh4 = hstep_forecast(y_t[:, :T-4], sigma_u, p_hat, 4)\n",
    "            \n",
    "            # store forecasted values\n",
    "            fc_store[:, i+(index*M)] = np.array([fc_h1, fc_h2, fc_h4]).flatten().T # add column with all forecasted values\n",
    "            fc_sigma_hat_store[:, (2*index*M)+2*i:(2*index*M)+2*i+2] = np.vstack([sigma_hat_yh1, sigma_hat_yh2, sigma_hat_yh4]) # add 2 columns with all forecasted sigma_hats\n",
    "\n",
    "            # store spes\n",
    "            spe_h_store[0, i+(index*M)] = (y_t[:, T-4:T-3] - fc_h1).T @ inv(sigma_hat_yh1) @ (y_t[:, T-4:T-3] - fc_h1)\n",
    "            spe_h_store[1, i+(index*M)] = (y_t[:, T-3:T-2] - fc_h2).T @ inv(sigma_hat_yh2) @ (y_t[:, T-3:T-2] - fc_h2)\n",
    "            spe_h_store[2, i+(index*M)] = (y_t[:, T-1:T] - fc_h4).T @ inv(sigma_hat_yh4) @ (y_t[:, T-1:T] - fc_h4)\n",
    "        \n",
    "        \n",
    "    ### Lag Selection ###\n",
    "    \n",
    "    # Plotting suggested lags by all criteria\n",
    "    cFPE, cAIC, cHQ, cSC = Counter(selected_lags[0,:]), Counter(selected_lags[1,:]), Counter(selected_lags[2,:]), Counter(selected_lags[3,:]),\n",
    "    lags_ics_df = pd.DataFrame(data=[cFPE, cAIC, cHQ, cSC], index=['FPE', 'AIC', 'HQ', 'SC'])\n",
    "    lags_ics_df.index.name = 'Information Criterion'\n",
    "    lags_ics_df = lags_ics_df.reindex(sorted(lags_ics_df.columns), axis=1)\n",
    "    lags_ics_df.fillna(0, inplace=True)\n",
    "    lags_ics_df.to_excel(f\"Tables/1__Selected Lags All Criteria_a11{A1[0, 0]}_T{T-4}.xlsx\")\n",
    "    \n",
    "    lags_ics_df.plot.bar(width=0.85, color=['cornflowerblue', 'indianred'], legend=False)\n",
    "    plt.xlabel(\"Information Criterion\")\n",
    "    plt.ylabel(\"Selected Lags\")\n",
    "    plt.title(f\"Selected Lags for all ICs (T={T-4}, $a_{{{{11}}}}$={A1[0, 0]})\")\n",
    "    plt.savefig(f'Graphs/1_Selected Lags All Criteria_a11{A1[0, 0]}_T{T-4}.png')\n",
    "    \n",
    "    \n",
    "    ### Forecasts ###\n",
    "    \n",
    "    # Calculate MSPE(h)\n",
    "    for index in range(0, 4): # number of ICs used for lag selection\n",
    "        mspe_h1 = np.average(spe_h_store[0, index*M:(index+1)*M]).round(4)\n",
    "        mspe_h2 = np.average(spe_h_store[1, index*M:(index+1)*M]).round(4)  \n",
    "        mspe_h4 = np.average(spe_h_store[2, index*M:(index+1)*M]).round(4)\n",
    "        mspe_hs_store[:, index] =  np.array([mspe_h1, mspe_h2, mspe_h4]).flatten().T\n",
    "    \n",
    "    # Plot MSPE(h) for all criteria\n",
    "    mspe_hs_df = pd.DataFrame(data=mspe_hs_store.T, columns=['h=1', 'h=2', 'h=4'], index=['FPE', 'AIC', 'HQ', 'SC'])\n",
    "    mspe_hs_df.to_excel(f\"Tables/1__MSPE All Criteria_a11{A1[0, 0]}_T{T-4}.xlsx\")\n",
    "    \n",
    "    mspe_hs_df.plot.bar(width=0.75, color=['cornflowerblue', 'indianred', 'navajowhite'], legend=True)\n",
    "    plt.xlabel(\"Information Criterion\")\n",
    "    plt.ylabel(\"MSPE(h)\")\n",
    "    plt.yticks(3)\n",
    "    plt.title(f\"MSPE(h) for all ICs (T={T-4}, $a_{{{{11}}}}$={A1[0, 0]})\")\n",
    "    plt.savefig(f'Graphs/1__MSPE All Criteria_a11{A1[0, 0]}_T{T-4}.png')\n",
    "        \n",
    "    return lags_ics_df\n"
   ]
  },
  {
   "cell_type": "code",
   "execution_count": 633,
   "metadata": {},
   "outputs": [
    {
     "ename": "TypeError",
     "evalue": "object of type 'int' has no len()",
     "output_type": "error",
     "traceback": [
      "\u001b[1;31m---------------------------------------------------------------------------\u001b[0m",
      "\u001b[1;31mTypeError\u001b[0m                                 Traceback (most recent call last)",
      "\u001b[1;32mc:\\Users\\jonas\\Documents\\Studium - SEDS\\3 WiSe 2223\\Advanced Time Series Analysis\\Tutorials\\Take Home\\Take Home_v0.ipynb Cell 12\u001b[0m in \u001b[0;36m<cell line: 1>\u001b[1;34m()\u001b[0m\n\u001b[1;32m----> <a href='vscode-notebook-cell:/c%3A/Users/jonas/Documents/Studium%20-%20SEDS/3%20WiSe%202223/Advanced%20Time%20Series%20Analysis/Tutorials/Take%20Home/Take%20Home_v0.ipynb#X14sZmlsZQ%3D%3D?line=0'>1</a>\u001b[0m mc_a050_T1 \u001b[39m=\u001b[39m monte_carlo_var1(A1, sigma_u, T1\u001b[39m+\u001b[39;49m\u001b[39m4\u001b[39;49m)\n",
      "\u001b[1;32mc:\\Users\\jonas\\Documents\\Studium - SEDS\\3 WiSe 2223\\Advanced Time Series Analysis\\Tutorials\\Take Home\\Take Home_v0.ipynb Cell 12\u001b[0m in \u001b[0;36mmonte_carlo_var1\u001b[1;34m(A1, sigma_u, T, M)\u001b[0m\n\u001b[0;32m     <a href='vscode-notebook-cell:/c%3A/Users/jonas/Documents/Studium%20-%20SEDS/3%20WiSe%202223/Advanced%20Time%20Series%20Analysis/Tutorials/Take%20Home/Take%20Home_v0.ipynb#X14sZmlsZQ%3D%3D?line=98'>99</a>\u001b[0m plt\u001b[39m.\u001b[39mxlabel(\u001b[39m\"\u001b[39m\u001b[39mInformation Criterion\u001b[39m\u001b[39m\"\u001b[39m)\n\u001b[0;32m    <a href='vscode-notebook-cell:/c%3A/Users/jonas/Documents/Studium%20-%20SEDS/3%20WiSe%202223/Advanced%20Time%20Series%20Analysis/Tutorials/Take%20Home/Take%20Home_v0.ipynb#X14sZmlsZQ%3D%3D?line=99'>100</a>\u001b[0m plt\u001b[39m.\u001b[39mylabel(\u001b[39m\"\u001b[39m\u001b[39mMSPE(h)\u001b[39m\u001b[39m\"\u001b[39m)\n\u001b[1;32m--> <a href='vscode-notebook-cell:/c%3A/Users/jonas/Documents/Studium%20-%20SEDS/3%20WiSe%202223/Advanced%20Time%20Series%20Analysis/Tutorials/Take%20Home/Take%20Home_v0.ipynb#X14sZmlsZQ%3D%3D?line=100'>101</a>\u001b[0m plt\u001b[39m.\u001b[39;49myticks(\u001b[39m3\u001b[39;49m)\n\u001b[0;32m    <a href='vscode-notebook-cell:/c%3A/Users/jonas/Documents/Studium%20-%20SEDS/3%20WiSe%202223/Advanced%20Time%20Series%20Analysis/Tutorials/Take%20Home/Take%20Home_v0.ipynb#X14sZmlsZQ%3D%3D?line=101'>102</a>\u001b[0m plt\u001b[39m.\u001b[39mtitle(\u001b[39mf\u001b[39m\u001b[39m\"\u001b[39m\u001b[39mMSPE(h) for all ICs (T=\u001b[39m\u001b[39m{\u001b[39;00mT\u001b[39m-\u001b[39m\u001b[39m4\u001b[39m\u001b[39m}\u001b[39;00m\u001b[39m, $a_\u001b[39m\u001b[39m{{\u001b[39;00m\u001b[39m{{\u001b[39;00m\u001b[39m11\u001b[39m\u001b[39m}}\u001b[39;00m\u001b[39m}}\u001b[39;00m\u001b[39m$=\u001b[39m\u001b[39m{\u001b[39;00mA1[\u001b[39m0\u001b[39m, \u001b[39m0\u001b[39m]\u001b[39m}\u001b[39;00m\u001b[39m)\u001b[39m\u001b[39m\"\u001b[39m)\n\u001b[0;32m    <a href='vscode-notebook-cell:/c%3A/Users/jonas/Documents/Studium%20-%20SEDS/3%20WiSe%202223/Advanced%20Time%20Series%20Analysis/Tutorials/Take%20Home/Take%20Home_v0.ipynb#X14sZmlsZQ%3D%3D?line=102'>103</a>\u001b[0m plt\u001b[39m.\u001b[39msavefig(\u001b[39mf\u001b[39m\u001b[39m'\u001b[39m\u001b[39mGraphs/1__MSPE All Criteria_a11\u001b[39m\u001b[39m{\u001b[39;00mA1[\u001b[39m0\u001b[39m, \u001b[39m0\u001b[39m]\u001b[39m}\u001b[39;00m\u001b[39m_T\u001b[39m\u001b[39m{\u001b[39;00mT\u001b[39m-\u001b[39m\u001b[39m4\u001b[39m\u001b[39m}\u001b[39;00m\u001b[39m.png\u001b[39m\u001b[39m'\u001b[39m)\n",
      "File \u001b[1;32m~\\AppData\\Roaming\\Python\\Python38\\site-packages\\matplotlib\\pyplot.py:1868\u001b[0m, in \u001b[0;36myticks\u001b[1;34m(ticks, labels, minor, **kwargs)\u001b[0m\n\u001b[0;32m   1865\u001b[0m         \u001b[39mraise\u001b[39;00m \u001b[39mTypeError\u001b[39;00m(\u001b[39m\"\u001b[39m\u001b[39myticks(): Parameter \u001b[39m\u001b[39m'\u001b[39m\u001b[39mlabels\u001b[39m\u001b[39m'\u001b[39m\u001b[39m can\u001b[39m\u001b[39m'\u001b[39m\u001b[39mt be set \u001b[39m\u001b[39m\"\u001b[39m\n\u001b[0;32m   1866\u001b[0m                         \u001b[39m\"\u001b[39m\u001b[39mwithout setting \u001b[39m\u001b[39m'\u001b[39m\u001b[39mticks\u001b[39m\u001b[39m'\u001b[39m\u001b[39m\"\u001b[39m)\n\u001b[0;32m   1867\u001b[0m \u001b[39melse\u001b[39;00m:\n\u001b[1;32m-> 1868\u001b[0m     locs \u001b[39m=\u001b[39m ax\u001b[39m.\u001b[39;49mset_yticks(ticks, minor\u001b[39m=\u001b[39;49mminor)\n\u001b[0;32m   1870\u001b[0m \u001b[39mif\u001b[39;00m labels \u001b[39mis\u001b[39;00m \u001b[39mNone\u001b[39;00m:\n\u001b[0;32m   1871\u001b[0m     labels \u001b[39m=\u001b[39m ax\u001b[39m.\u001b[39mget_yticklabels(minor\u001b[39m=\u001b[39mminor)\n",
      "File \u001b[1;32m~\\AppData\\Roaming\\Python\\Python38\\site-packages\\matplotlib\\axes\\_base.py:73\u001b[0m, in \u001b[0;36m_axis_method_wrapper.__set_name__.<locals>.wrapper\u001b[1;34m(self, *args, **kwargs)\u001b[0m\n\u001b[0;32m     72\u001b[0m \u001b[39mdef\u001b[39;00m \u001b[39mwrapper\u001b[39m(\u001b[39mself\u001b[39m, \u001b[39m*\u001b[39margs, \u001b[39m*\u001b[39m\u001b[39m*\u001b[39mkwargs):\n\u001b[1;32m---> 73\u001b[0m     \u001b[39mreturn\u001b[39;00m get_method(\u001b[39mself\u001b[39;49m)(\u001b[39m*\u001b[39;49margs, \u001b[39m*\u001b[39;49m\u001b[39m*\u001b[39;49mkwargs)\n",
      "File \u001b[1;32m~\\AppData\\Roaming\\Python\\Python38\\site-packages\\matplotlib\\axis.py:2030\u001b[0m, in \u001b[0;36mAxis.set_ticks\u001b[1;34m(self, ticks, labels, minor, **kwargs)\u001b[0m\n\u001b[0;32m   1996\u001b[0m \u001b[39mdef\u001b[39;00m \u001b[39mset_ticks\u001b[39m(\u001b[39mself\u001b[39m, ticks, labels\u001b[39m=\u001b[39m\u001b[39mNone\u001b[39;00m, \u001b[39m*\u001b[39m, minor\u001b[39m=\u001b[39m\u001b[39mFalse\u001b[39;00m, \u001b[39m*\u001b[39m\u001b[39m*\u001b[39mkwargs):\n\u001b[0;32m   1997\u001b[0m     \u001b[39m\"\"\"\u001b[39;00m\n\u001b[0;32m   1998\u001b[0m \u001b[39m    Set this Axis' tick locations and optionally labels.\u001b[39;00m\n\u001b[0;32m   1999\u001b[0m \n\u001b[1;32m   (...)\u001b[0m\n\u001b[0;32m   2028\u001b[0m \u001b[39m    ticks.\u001b[39;00m\n\u001b[0;32m   2029\u001b[0m \u001b[39m    \"\"\"\u001b[39;00m\n\u001b[1;32m-> 2030\u001b[0m     result \u001b[39m=\u001b[39m \u001b[39mself\u001b[39;49m\u001b[39m.\u001b[39;49m_set_tick_locations(ticks, minor\u001b[39m=\u001b[39;49mminor)\n\u001b[0;32m   2031\u001b[0m     \u001b[39mif\u001b[39;00m labels \u001b[39mis\u001b[39;00m \u001b[39mnot\u001b[39;00m \u001b[39mNone\u001b[39;00m:\n\u001b[0;32m   2032\u001b[0m         \u001b[39mself\u001b[39m\u001b[39m.\u001b[39mset_ticklabels(labels, minor\u001b[39m=\u001b[39mminor, \u001b[39m*\u001b[39m\u001b[39m*\u001b[39mkwargs)\n",
      "File \u001b[1;32m~\\AppData\\Roaming\\Python\\Python38\\site-packages\\matplotlib\\axis.py:1984\u001b[0m, in \u001b[0;36mAxis._set_tick_locations\u001b[1;34m(self, ticks, minor)\u001b[0m\n\u001b[0;32m   1982\u001b[0m \u001b[39melse\u001b[39;00m:\n\u001b[0;32m   1983\u001b[0m     shared \u001b[39m=\u001b[39m [\u001b[39mself\u001b[39m]\n\u001b[1;32m-> 1984\u001b[0m \u001b[39mif\u001b[39;00m \u001b[39mlen\u001b[39;49m(ticks):\n\u001b[0;32m   1985\u001b[0m     \u001b[39mfor\u001b[39;00m axis \u001b[39min\u001b[39;00m shared:\n\u001b[0;32m   1986\u001b[0m         \u001b[39m# set_view_interval maintains any preexisting inversion.\u001b[39;00m\n\u001b[0;32m   1987\u001b[0m         axis\u001b[39m.\u001b[39mset_view_interval(\u001b[39mmin\u001b[39m(ticks), \u001b[39mmax\u001b[39m(ticks))\n",
      "\u001b[1;31mTypeError\u001b[0m: object of type 'int' has no len()"
     ]
    },
    {
     "data": {
      "image/png": "[encoded data removed]",
      "text/plain": [
       "<Figure size 432x288 with 1 Axes>"
      ]
     },
     "metadata": {
      "needs_background": "light"
     },
     "output_type": "display_data"
    },
    {
     "data": {
      "image/png": "[encoded data removed]",
      "text/plain": [
       "<Figure size 432x288 with 1 Axes>"
      ]
     },
     "metadata": {
      "needs_background": "light"
     },
     "output_type": "display_data"
    }
   ],
   "source": [
    "mc_a050_T1 = monte_carlo_var1(A1, sigma_u, T1+4)"
   ]
  },
  {
   "cell_type": "code",
   "execution_count": null,
   "metadata": {},
   "outputs": [
    {
     "ename": "KeyboardInterrupt",
     "evalue": "",
     "output_type": "error",
     "traceback": [
      "\u001b[1;31m---------------------------------------------------------------------------\u001b[0m",
      "\u001b[1;31mKeyboardInterrupt\u001b[0m                         Traceback (most recent call last)",
      "\u001b[1;32mc:\\Users\\jonas\\Documents\\Studium - SEDS\\3 WiSe 2223\\Advanced Time Series Analysis\\Tutorials\\Take Home\\Take Home_v0.ipynb Cell 13\u001b[0m in \u001b[0;36m<cell line: 1>\u001b[1;34m()\u001b[0m\n\u001b[1;32m----> <a href='vscode-notebook-cell:/c%3A/Users/jonas/Documents/Studium%20-%20SEDS/3%20WiSe%202223/Advanced%20Time%20Series%20Analysis/Tutorials/Take%20Home/Take%20Home_v0.ipynb#X15sZmlsZQ%3D%3D?line=0'>1</a>\u001b[0m mc_a050_T2 \u001b[39m=\u001b[39m monte_carlo_var1(A1, sigma_u, T2\u001b[39m+\u001b[39;49m\u001b[39m4\u001b[39;49m)\n",
      "\u001b[1;32mc:\\Users\\jonas\\Documents\\Studium - SEDS\\3 WiSe 2223\\Advanced Time Series Analysis\\Tutorials\\Take Home\\Take Home_v0.ipynb Cell 13\u001b[0m in \u001b[0;36mmonte_carlo_var1\u001b[1;34m(A1, sigma_u, T, M)\u001b[0m\n\u001b[0;32m     <a href='vscode-notebook-cell:/c%3A/Users/jonas/Documents/Studium%20-%20SEDS/3%20WiSe%202223/Advanced%20Time%20Series%20Analysis/Tutorials/Take%20Home/Take%20Home_v0.ipynb#X15sZmlsZQ%3D%3D?line=35'>36</a>\u001b[0m \u001b[39m### Simulating M timeseries ###\u001b[39;00m\n\u001b[0;32m     <a href='vscode-notebook-cell:/c%3A/Users/jonas/Documents/Studium%20-%20SEDS/3%20WiSe%202223/Advanced%20Time%20Series%20Analysis/Tutorials/Take%20Home/Take%20Home_v0.ipynb#X15sZmlsZQ%3D%3D?line=37'>38</a>\u001b[0m \u001b[39mfor\u001b[39;00m i \u001b[39min\u001b[39;00m \u001b[39mrange\u001b[39m(M):\n\u001b[0;32m     <a href='vscode-notebook-cell:/c%3A/Users/jonas/Documents/Studium%20-%20SEDS/3%20WiSe%202223/Advanced%20Time%20Series%20Analysis/Tutorials/Take%20Home/Take%20Home_v0.ipynb#X15sZmlsZQ%3D%3D?line=38'>39</a>\u001b[0m     \n\u001b[0;32m     <a href='vscode-notebook-cell:/c%3A/Users/jonas/Documents/Studium%20-%20SEDS/3%20WiSe%202223/Advanced%20Time%20Series%20Analysis/Tutorials/Take%20Home/Take%20Home_v0.ipynb#X15sZmlsZQ%3D%3D?line=39'>40</a>\u001b[0m     \u001b[39m# simulate timeseries\u001b[39;00m\n\u001b[1;32m---> <a href='vscode-notebook-cell:/c%3A/Users/jonas/Documents/Studium%20-%20SEDS/3%20WiSe%202223/Advanced%20Time%20Series%20Analysis/Tutorials/Take%20Home/Take%20Home_v0.ipynb#X15sZmlsZQ%3D%3D?line=40'>41</a>\u001b[0m     y_t \u001b[39m=\u001b[39m var1sim(A1, sigma_u, T)\n\u001b[0;32m     <a href='vscode-notebook-cell:/c%3A/Users/jonas/Documents/Studium%20-%20SEDS/3%20WiSe%202223/Advanced%20Time%20Series%20Analysis/Tutorials/Take%20Home/Take%20Home_v0.ipynb#X15sZmlsZQ%3D%3D?line=42'>43</a>\u001b[0m     \u001b[39m# reverse y_t to KxT matrix\u001b[39;00m\n\u001b[0;32m     <a href='vscode-notebook-cell:/c%3A/Users/jonas/Documents/Studium%20-%20SEDS/3%20WiSe%202223/Advanced%20Time%20Series%20Analysis/Tutorials/Take%20Home/Take%20Home_v0.ipynb#X15sZmlsZQ%3D%3D?line=43'>44</a>\u001b[0m     y_t \u001b[39m=\u001b[39m y_t\u001b[39m.\u001b[39mT\n",
      "\u001b[1;32mc:\\Users\\jonas\\Documents\\Studium - SEDS\\3 WiSe 2223\\Advanced Time Series Analysis\\Tutorials\\Take Home\\Take Home_v0.ipynb Cell 13\u001b[0m in \u001b[0;36mvar1sim\u001b[1;34m(A1, sigma_u, T)\u001b[0m\n\u001b[0;32m     <a href='vscode-notebook-cell:/c%3A/Users/jonas/Documents/Studium%20-%20SEDS/3%20WiSe%202223/Advanced%20Time%20Series%20Analysis/Tutorials/Take%20Home/Take%20Home_v0.ipynb#X15sZmlsZQ%3D%3D?line=20'>21</a>\u001b[0m P \u001b[39m=\u001b[39m np\u001b[39m.\u001b[39mlinalg\u001b[39m.\u001b[39mcholesky(sigma_u)\n\u001b[0;32m     <a href='vscode-notebook-cell:/c%3A/Users/jonas/Documents/Studium%20-%20SEDS/3%20WiSe%202223/Advanced%20Time%20Series%20Analysis/Tutorials/Take%20Home/Take%20Home_v0.ipynb#X15sZmlsZQ%3D%3D?line=22'>23</a>\u001b[0m \u001b[39mfor\u001b[39;00m i \u001b[39min\u001b[39;00m \u001b[39mrange\u001b[39m(T\u001b[39m+\u001b[39m\u001b[39m50\u001b[39m):\n\u001b[0;32m     <a href='vscode-notebook-cell:/c%3A/Users/jonas/Documents/Studium%20-%20SEDS/3%20WiSe%202223/Advanced%20Time%20Series%20Analysis/Tutorials/Take%20Home/Take%20Home_v0.ipynb#X15sZmlsZQ%3D%3D?line=23'>24</a>\u001b[0m     \u001b[39m# draw disturbance u_t\u001b[39;00m\n\u001b[1;32m---> <a href='vscode-notebook-cell:/c%3A/Users/jonas/Documents/Studium%20-%20SEDS/3%20WiSe%202223/Advanced%20Time%20Series%20Analysis/Tutorials/Take%20Home/Take%20Home_v0.ipynb#X15sZmlsZQ%3D%3D?line=24'>25</a>\u001b[0m     u_t \u001b[39m=\u001b[39m P \u001b[39m@\u001b[39m np\u001b[39m.\u001b[39;49mrandom\u001b[39m.\u001b[39;49mstandard_normal(K)\n\u001b[0;32m     <a href='vscode-notebook-cell:/c%3A/Users/jonas/Documents/Studium%20-%20SEDS/3%20WiSe%202223/Advanced%20Time%20Series%20Analysis/Tutorials/Take%20Home/Take%20Home_v0.ipynb#X15sZmlsZQ%3D%3D?line=25'>26</a>\u001b[0m     u_t \u001b[39m=\u001b[39m u_t\u001b[39m.\u001b[39mreshape(K, \u001b[39m1\u001b[39m)\n\u001b[0;32m     <a href='vscode-notebook-cell:/c%3A/Users/jonas/Documents/Studium%20-%20SEDS/3%20WiSe%202223/Advanced%20Time%20Series%20Analysis/Tutorials/Take%20Home/Take%20Home_v0.ipynb#X15sZmlsZQ%3D%3D?line=26'>27</a>\u001b[0m     \u001b[39m#recursively calculate y_t \u001b[39;00m\n",
      "\u001b[1;31mKeyboardInterrupt\u001b[0m: "
     ]
    }
   ],
   "source": [
    "mc_a050_T2 = monte_carlo_var1(A1, sigma_u, T2+4)"
   ]
  },
  {
   "cell_type": "code",
   "execution_count": null,
   "metadata": {},
   "outputs": [
    {
     "ename": "KeyboardInterrupt",
     "evalue": "",
     "output_type": "error",
     "traceback": [
      "\u001b[1;31m---------------------------------------------------------------------------\u001b[0m",
      "\u001b[1;31mKeyboardInterrupt\u001b[0m                         Traceback (most recent call last)",
      "\u001b[1;32mc:\\Users\\jonas\\Documents\\Studium - SEDS\\3 WiSe 2223\\Advanced Time Series Analysis\\Tutorials\\Take Home\\Take Home_v0.ipynb Cell 14\u001b[0m in \u001b[0;36m<cell line: 1>\u001b[1;34m()\u001b[0m\n\u001b[1;32m----> <a href='vscode-notebook-cell:/c%3A/Users/jonas/Documents/Studium%20-%20SEDS/3%20WiSe%202223/Advanced%20Time%20Series%20Analysis/Tutorials/Take%20Home/Take%20Home_v0.ipynb#X16sZmlsZQ%3D%3D?line=0'>1</a>\u001b[0m mc_a050_T3 \u001b[39m=\u001b[39m monte_carlo_var1(A1, sigma_u, T3\u001b[39m+\u001b[39;49m\u001b[39m4\u001b[39;49m)\n",
      "\u001b[1;32mc:\\Users\\jonas\\Documents\\Studium - SEDS\\3 WiSe 2223\\Advanced Time Series Analysis\\Tutorials\\Take Home\\Take Home_v0.ipynb Cell 14\u001b[0m in \u001b[0;36mmonte_carlo_var1\u001b[1;34m(A1, sigma_u, T, M)\u001b[0m\n\u001b[0;32m     <a href='vscode-notebook-cell:/c%3A/Users/jonas/Documents/Studium%20-%20SEDS/3%20WiSe%202223/Advanced%20Time%20Series%20Analysis/Tutorials/Take%20Home/Take%20Home_v0.ipynb#X16sZmlsZQ%3D%3D?line=35'>36</a>\u001b[0m \u001b[39m### Simulating M timeseries ###\u001b[39;00m\n\u001b[0;32m     <a href='vscode-notebook-cell:/c%3A/Users/jonas/Documents/Studium%20-%20SEDS/3%20WiSe%202223/Advanced%20Time%20Series%20Analysis/Tutorials/Take%20Home/Take%20Home_v0.ipynb#X16sZmlsZQ%3D%3D?line=37'>38</a>\u001b[0m \u001b[39mfor\u001b[39;00m i \u001b[39min\u001b[39;00m \u001b[39mrange\u001b[39m(M):\n\u001b[0;32m     <a href='vscode-notebook-cell:/c%3A/Users/jonas/Documents/Studium%20-%20SEDS/3%20WiSe%202223/Advanced%20Time%20Series%20Analysis/Tutorials/Take%20Home/Take%20Home_v0.ipynb#X16sZmlsZQ%3D%3D?line=38'>39</a>\u001b[0m     \n\u001b[0;32m     <a href='vscode-notebook-cell:/c%3A/Users/jonas/Documents/Studium%20-%20SEDS/3%20WiSe%202223/Advanced%20Time%20Series%20Analysis/Tutorials/Take%20Home/Take%20Home_v0.ipynb#X16sZmlsZQ%3D%3D?line=39'>40</a>\u001b[0m     \u001b[39m# simulate timeseries\u001b[39;00m\n\u001b[1;32m---> <a href='vscode-notebook-cell:/c%3A/Users/jonas/Documents/Studium%20-%20SEDS/3%20WiSe%202223/Advanced%20Time%20Series%20Analysis/Tutorials/Take%20Home/Take%20Home_v0.ipynb#X16sZmlsZQ%3D%3D?line=40'>41</a>\u001b[0m     y_t \u001b[39m=\u001b[39m var1sim(A1, sigma_u, T)\n\u001b[0;32m     <a href='vscode-notebook-cell:/c%3A/Users/jonas/Documents/Studium%20-%20SEDS/3%20WiSe%202223/Advanced%20Time%20Series%20Analysis/Tutorials/Take%20Home/Take%20Home_v0.ipynb#X16sZmlsZQ%3D%3D?line=42'>43</a>\u001b[0m     \u001b[39m# reverse y_t to KxT matrix\u001b[39;00m\n\u001b[0;32m     <a href='vscode-notebook-cell:/c%3A/Users/jonas/Documents/Studium%20-%20SEDS/3%20WiSe%202223/Advanced%20Time%20Series%20Analysis/Tutorials/Take%20Home/Take%20Home_v0.ipynb#X16sZmlsZQ%3D%3D?line=43'>44</a>\u001b[0m     y_t \u001b[39m=\u001b[39m y_t\u001b[39m.\u001b[39mT\n",
      "\u001b[1;32mc:\\Users\\jonas\\Documents\\Studium - SEDS\\3 WiSe 2223\\Advanced Time Series Analysis\\Tutorials\\Take Home\\Take Home_v0.ipynb Cell 14\u001b[0m in \u001b[0;36mvar1sim\u001b[1;34m(A1, sigma_u, T)\u001b[0m\n\u001b[0;32m     <a href='vscode-notebook-cell:/c%3A/Users/jonas/Documents/Studium%20-%20SEDS/3%20WiSe%202223/Advanced%20Time%20Series%20Analysis/Tutorials/Take%20Home/Take%20Home_v0.ipynb#X16sZmlsZQ%3D%3D?line=20'>21</a>\u001b[0m P \u001b[39m=\u001b[39m np\u001b[39m.\u001b[39mlinalg\u001b[39m.\u001b[39mcholesky(sigma_u)\n\u001b[0;32m     <a href='vscode-notebook-cell:/c%3A/Users/jonas/Documents/Studium%20-%20SEDS/3%20WiSe%202223/Advanced%20Time%20Series%20Analysis/Tutorials/Take%20Home/Take%20Home_v0.ipynb#X16sZmlsZQ%3D%3D?line=22'>23</a>\u001b[0m \u001b[39mfor\u001b[39;00m i \u001b[39min\u001b[39;00m \u001b[39mrange\u001b[39m(T\u001b[39m+\u001b[39m\u001b[39m50\u001b[39m):\n\u001b[0;32m     <a href='vscode-notebook-cell:/c%3A/Users/jonas/Documents/Studium%20-%20SEDS/3%20WiSe%202223/Advanced%20Time%20Series%20Analysis/Tutorials/Take%20Home/Take%20Home_v0.ipynb#X16sZmlsZQ%3D%3D?line=23'>24</a>\u001b[0m     \u001b[39m# draw disturbance u_t\u001b[39;00m\n\u001b[1;32m---> <a href='vscode-notebook-cell:/c%3A/Users/jonas/Documents/Studium%20-%20SEDS/3%20WiSe%202223/Advanced%20Time%20Series%20Analysis/Tutorials/Take%20Home/Take%20Home_v0.ipynb#X16sZmlsZQ%3D%3D?line=24'>25</a>\u001b[0m     u_t \u001b[39m=\u001b[39m P \u001b[39m@\u001b[39m np\u001b[39m.\u001b[39;49mrandom\u001b[39m.\u001b[39;49mstandard_normal(K)\n\u001b[0;32m     <a href='vscode-notebook-cell:/c%3A/Users/jonas/Documents/Studium%20-%20SEDS/3%20WiSe%202223/Advanced%20Time%20Series%20Analysis/Tutorials/Take%20Home/Take%20Home_v0.ipynb#X16sZmlsZQ%3D%3D?line=25'>26</a>\u001b[0m     u_t \u001b[39m=\u001b[39m u_t\u001b[39m.\u001b[39mreshape(K, \u001b[39m1\u001b[39m)\n\u001b[0;32m     <a href='vscode-notebook-cell:/c%3A/Users/jonas/Documents/Studium%20-%20SEDS/3%20WiSe%202223/Advanced%20Time%20Series%20Analysis/Tutorials/Take%20Home/Take%20Home_v0.ipynb#X16sZmlsZQ%3D%3D?line=26'>27</a>\u001b[0m     \u001b[39m#recursively calculate y_t \u001b[39;00m\n",
      "\u001b[1;31mKeyboardInterrupt\u001b[0m: "
     ]
    }
   ],
   "source": [
    "mc_a050_T3 = monte_carlo_var1(A1, sigma_u, T3+4)"
   ]
  },
  {
   "attachments": {},
   "cell_type": "markdown",
   "metadata": {},
   "source": [
    "Exercise 1(f)"
   ]
  },
  {
   "cell_type": "code",
   "execution_count": null,
   "metadata": {},
   "outputs": [],
   "source": [
    "a11 = 0.95\n",
    "A1 = np.array([[a11, 0], \n",
    "              [0.5, 0.5]])"
   ]
  },
  {
   "cell_type": "code",
   "execution_count": null,
   "metadata": {},
   "outputs": [
    {
     "data": {
      "text/plain": [
       "(Counter({1: 780, 2: 114, 8: 16, 3: 33, 4: 29, 7: 10, 5: 11, 6: 7}),\n",
       "                          1    2     3     4     5     6     7     8\n",
       " Information Criterion                                              \n",
       " FPE                    771  117  35.0  31.0  13.0   8.0   9.0  16.0\n",
       " AIC                    745  115  34.0  33.0  15.0  15.0  14.0  29.0\n",
       " HQ                     978   22   0.0   0.0   0.0   0.0   0.0   0.0\n",
       " SC                     921   56   9.0   8.0   4.0   0.0   1.0   1.0,\n",
       " [2.3084, 2.4401, 2.7256])"
      ]
     },
     "execution_count": 441,
     "metadata": {},
     "output_type": "execute_result"
    },
    {
     "data": {
      "image/png": "[encoded data removed]",
      "text/plain": [
       "<Figure size 432x288 with 1 Axes>"
      ]
     },
     "metadata": {
      "needs_background": "light"
     },
     "output_type": "display_data"
    },
    {
     "data": {
      "image/png": "[encoded data removed]",
      "text/plain": [
       "<Figure size 432x288 with 1 Axes>"
      ]
     },
     "metadata": {
      "needs_background": "light"
     },
     "output_type": "display_data"
    }
   ],
   "source": [
    "monte_carlo_var1(A1, sigma_u, T1+4)"
   ]
  },
  {
   "cell_type": "code",
   "execution_count": null,
   "metadata": {},
   "outputs": [
    {
     "data": {
      "text/plain": [
       "(Counter({1: 852, 2: 88, 5: 12, 3: 31, 7: 1, 6: 3, 4: 12, 8: 1}),\n",
       "                          1   2     3     4     5    6    7    8\n",
       " Information Criterion                                          \n",
       " FPE                    850  88  32.0  13.0  12.0  3.0  1.0  1.0\n",
       " AIC                    848  88  32.0  13.0  13.0  3.0  1.0  2.0\n",
       " HQ                     997   3   0.0   0.0   0.0  0.0  0.0  0.0\n",
       " SC                     974  21   5.0   0.0   0.0  0.0  0.0  0.0,\n",
       " [2.2012, 2.3963, 2.3703])"
      ]
     },
     "execution_count": 442,
     "metadata": {},
     "output_type": "execute_result"
    },
    {
     "data": {
      "image/png": "[encoded data removed]",
      "text/plain": [
       "<Figure size 432x288 with 1 Axes>"
      ]
     },
     "metadata": {
      "needs_background": "light"
     },
     "output_type": "display_data"
    },
    {
     "data": {
      "image/png": "[encoded data removed]",
      "text/plain": [
       "<Figure size 432x288 with 1 Axes>"
      ]
     },
     "metadata": {
      "needs_background": "light"
     },
     "output_type": "display_data"
    }
   ],
   "source": [
    "monte_carlo_var1(A1, sigma_u, T2+4)"
   ]
  },
  {
   "cell_type": "code",
   "execution_count": null,
   "metadata": {},
   "outputs": [
    {
     "data": {
      "text/plain": [
       "(Counter({1: 870, 2: 88, 3: 26, 4: 11, 7: 2, 6: 1, 5: 2}),\n",
       "                           1     2     3     4    5    6    7\n",
       " Information Criterion                                       \n",
       " FPE                     870  88.0  26.0  11.0  2.0  1.0  2.0\n",
       " AIC                     870  88.0  26.0  11.0  2.0  1.0  2.0\n",
       " HQ                     1000   0.0   0.0   0.0  0.0  0.0  0.0\n",
       " SC                      987  12.0   1.0   0.0  0.0  0.0  0.0,\n",
       " [2.0529, 2.124, 2.1366])"
      ]
     },
     "execution_count": 443,
     "metadata": {},
     "output_type": "execute_result"
    },
    {
     "data": {
      "image/png": "[encoded data removed]",
      "text/plain": [
       "<Figure size 432x288 with 1 Axes>"
      ]
     },
     "metadata": {
      "needs_background": "light"
     },
     "output_type": "display_data"
    },
    {
     "data": {
      "image/png": "[encoded data removed]",
      "text/plain": [
       "<Figure size 432x288 with 1 Axes>"
      ]
     },
     "metadata": {
      "needs_background": "light"
     },
     "output_type": "display_data"
    }
   ],
   "source": [
    "monte_carlo_var1(A1, sigma_u, T3+4)"
   ]
  },
  {
   "attachments": {},
   "cell_type": "markdown",
   "metadata": {},
   "source": [
    "## Exercise 2"
   ]
  },
  {
   "attachments": {},
   "cell_type": "markdown",
   "metadata": {},
   "source": [
    "Exercise 2(a)"
   ]
  },
  {
   "attachments": {},
   "cell_type": "markdown",
   "metadata": {},
   "source": [
    "Exercise 2(b)"
   ]
  },
  {
   "attachments": {},
   "cell_type": "markdown",
   "metadata": {},
   "source": [
    "Exercise 2(c)"
   ]
  },
  {
   "attachments": {},
   "cell_type": "markdown",
   "metadata": {},
   "source": [
    "Exercise 2(d)"
   ]
  },
  {
   "attachments": {},
   "cell_type": "markdown",
   "metadata": {},
   "source": [
    "Exercise 2(e)"
   ]
  },
  {
   "attachments": {},
   "cell_type": "markdown",
   "metadata": {},
   "source": [
    "Exercise 2(f)"
   ]
  },
  {
   "attachments": {},
   "cell_type": "markdown",
   "metadata": {},
   "source": [
    "Exercise 2(h)"
   ]
  },
  {
   "attachments": {},
   "cell_type": "markdown",
   "metadata": {},
   "source": [
    "Exercise 2(i)"
   ]
  },
  {
   "attachments": {},
   "cell_type": "markdown",
   "metadata": {},
   "source": [
    "Junk"
   ]
  },
  {
   "cell_type": "code",
   "execution_count": null,
   "metadata": {},
   "outputs": [],
   "source": [
    "def var_information_criteria_given(y_t: np.array, sigma_u: np.array, p_max: int):\n",
    "    \"\"\"A function to calculate the 4 information criteria (FPE, AIC, HQ, SC) for a VAR process with maxlag = pmax.\n",
    "       Assumes the covariance matrix Σ_u is known. Return the chosen lag order.\n",
    "\n",
    "    Args:\n",
    "        y_t (np.array): K x T matrix of observations on y_t\n",
    "        sigma_u (np.array): covariance matrix Σ_u\n",
    "        p_max (int): maximum number of lags included in the model\n",
    "\n",
    "    Returns:\n",
    "        int: The chosen information criterion based on the mode of the suggestions of the 4 criteria. \n",
    "             In case of a draw, the higher one is selected.\n",
    "    \"\"\"\n",
    "    \n",
    "    # arrays to store IC values\n",
    "    FPE, AIC, HQ, SC = np.zeros(p_max), np.zeros(p_max), np.zeros(p_max), np.zeros(p_max)\n",
    "\n",
    "    # get T and K from the shape of the input\n",
    "    K = y_t.shape[0]\n",
    "    T = y_t.shape[1]\n",
    "    \n",
    "    # calculate information criteria for lags \n",
    "    for m in range(1, p_max+1):\n",
    "        \n",
    "        # calculate ICs for given lag m (2.107 - 2.114)\n",
    "        FPE[m-1] = (((T + K*m + 1) / (T - K*m - 1)) ** K) * det(sigma_u)\n",
    "        AIC[m-1] = np.log(det(sigma_u)) + ((2*(K**2)*m)/T)\n",
    "        HQ[m-1] = np.log(det(sigma_u)) + ((2*np.log(np.log(T)))/T) * (K**2)*m\n",
    "        SC[m-1] = np.log(det(sigma_u)) + (np.log(T)/T) * (K**2)*m\n",
    "    \n",
    "    # store all in one array and select the lowest values    \n",
    "    criteria_all_lags = np.array([FPE, AIC, SC, HQ])\n",
    "    lag_orders_selected = np.argmin(criteria_all_lags, axis=1)+1\n",
    "    \n",
    "    \n",
    "    return p_hat"
   ]
  },
  {
   "cell_type": "code",
   "execution_count": null,
   "metadata": {},
   "outputs": [],
   "source": [
    "def var_information_criteria(y_t: np.array, p_max: int):\n",
    "    \"\"\"A function to calculate the 4 information criteria (FPE, AIC, HQ, SC) for a VAR process with maxlag = pmax.\n",
    "       Assumes model has an intercept and at least one lag. Returns the chosen lag order.\n",
    "       \n",
    "       ### Right now also has built-in as controls ###\n",
    "\n",
    "    Args:\n",
    "        y_t (np.array): K x (T + p_max) matrix of observations on y_t\n",
    "        p_max (int): maximum number of lags included in the model\n",
    "\n",
    "    Returns:\n",
    "        int: The chosen information criterion based on the mode of the suggestions of the 4 criteria. \n",
    "             In case of a draw, the higher one is selected.\n",
    "    \"\"\"\n",
    "    \n",
    "    # arrays to store IC values\n",
    "    FPE, AIC, HQ, SC = np.zeros(p_max), np.zeros(p_max), np.zeros(p_max), np.zeros(p_max)\n",
    "    b_FPE, b_AIC, b_HQ, b_SC = np.zeros(p_max), np.zeros(p_max), np.zeros(p_max), np.zeros(p_max) # built-in for control\n",
    "\n",
    "    # get T and K from the shape of the input\n",
    "    K = y_t.shape[0]\n",
    "    T = y_t.shape[1] - p_max # lags needed for estimation\n",
    "    \n",
    "    # calculate information criteria for lags m\n",
    "    for m in range(1, p_max+1):\n",
    "        \n",
    "        # built-in test for control\n",
    "        model = VAR(y_t[:, p_max-m:].T)\n",
    "        \n",
    "        # estimate sigma_u_tilde with MLE (2.55 - 2.56)\n",
    "        Z = Z_matrix(y_t[:, p_max-m:].T,  m, c=1) # take m lags for estimation\n",
    "        B_tilde = y_t[:, p_max:] @ Z.T @ inv(Z@Z.T)\n",
    "        sigma_tilde_m = (1/T)*(y_t[:, p_max:] - B_tilde@Z)@(y_t[:, p_max:] - B_tilde@Z).T\n",
    "        \n",
    "        # calculate ICs for given lag m (2.107 - 2.114)\n",
    "        det_sigma_tilde_m = det(sigma_tilde_m)\n",
    "        FPE[m-1] = (((T + K*m + 1) / (T - K*m - 1)) ** K) * det_sigma_tilde_m\n",
    "        AIC[m-1] = np.log(det_sigma_tilde_m) + ((2*(K**2)*m)/T)\n",
    "        HQ[m-1] = np.log(det_sigma_tilde_m) + ((2*np.log(np.log(T)))/T) * (K**2)*m\n",
    "        SC[m-1] = np.log(det_sigma_tilde_m) + (np.log(T)/T) * (K**2)*m\n",
    "        \n",
    "        # built in for control\n",
    "        result = model.fit(m)\n",
    "        b_FPE[m-1] = result.fpe\n",
    "        b_AIC[m-1] = result.aic\n",
    "        b_HQ[m-1] = result.hqic\n",
    "        b_SC[m-1] = result.bic\n",
    "    \n",
    "    # store all in one array and select the lowest values    \n",
    "    criteria_all_lags = np.array([FPE, AIC, SC, HQ])\n",
    "    lag_orders_selected = np.argmin(criteria_all_lags, axis=1)+1\n",
    "    infoC = np.amin(criteria_all_lags, axis=1)\n",
    "    \n",
    "    # built-in for control \n",
    "    b_criteria_all_lags = np.array([b_FPE, b_AIC, b_SC, b_HQ])\n",
    "    b_lag_orders_selected = np.argmin(b_criteria_all_lags, axis=1)+1\n",
    "    b_infoC = np.amin(criteria_all_lags, axis=1)\n",
    "\n",
    "    \n",
    "    \"\"\"\n",
    "    Note: Liew (2004) (https://ssrn.com/abstract=885505):\n",
    "    \"The most interesting finding of this study is that Akaike’s information criterion (AIC) and \n",
    "    final prediction error (FPE) are superior than the other criteria under study in the case of \n",
    "    small sample (60 observations and below), in the manners that they minimize the chance of under\n",
    "    estimation while maximizing the chance of recovering the true lag length.\"  \n",
    "    \"\"\"\n",
    "    \n",
    "    return p_hat, lag_orders_selected"
   ]
  }
 ],
 "metadata": {
  "kernelspec": {
   "display_name": "base",
   "language": "python",
   "name": "python3"
  },
  "language_info": {
   "codemirror_mode": {
    "name": "ipython",
    "version": 3
   },
   "file_extension": ".py",
   "mimetype": "text/x-python",
   "name": "python",
   "nbconvert_exporter": "python",
   "pygments_lexer": "ipython3",
   "version": "3.8.8"
  },
  "orig_nbformat": 4,
  "vscode": {
   "interpreter": {
    "hash": "f53b217d8430526303bffcd87b390d5c67e67390f11595101f60a03768747934"
   }
  }
 },
 "nbformat": 4,
 "nbformat_minor": 2
}
