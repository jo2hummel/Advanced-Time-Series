{
 "cells": [
  {
   "cell_type": "markdown",
   "metadata": {},
   "source": [
    "## Programming Assignment 03\n",
    "\n",
    "Student ID: \n",
    "\n",
    "Collaborators: 919755"
   ]
  },
  {
   "cell_type": "code",
   "execution_count": 1,
   "metadata": {},
   "outputs": [
    {
     "name": "stderr",
     "output_type": "stream",
     "text": [
      "C:\\Users\\ameli\\anaconda3\\lib\\site-packages\\statsmodels\\tsa\\base\\tsa_model.py:7: FutureWarning: pandas.Int64Index is deprecated and will be removed from pandas in a future version. Use pandas.Index with the appropriate dtype instead.\n",
      "  from pandas import (to_datetime, Int64Index, DatetimeIndex, Period,\n",
      "C:\\Users\\ameli\\anaconda3\\lib\\site-packages\\statsmodels\\tsa\\base\\tsa_model.py:7: FutureWarning: pandas.Float64Index is deprecated and will be removed from pandas in a future version. Use pandas.Index with the appropriate dtype instead.\n",
      "  from pandas import (to_datetime, Int64Index, DatetimeIndex, Period,\n"
     ]
    }
   ],
   "source": [
    "import numpy as np\n",
    "import pandas as pd\n",
    "import scipy.stats as st\n",
    "from numpy.linalg import matrix_power as mp\n",
    "\n",
    "from statsmodels.tsa.api import VAR"
   ]
  },
  {
   "cell_type": "markdown",
   "metadata": {},
   "source": [
    "#### Helper Functions from previous assignments"
   ]
  },
  {
   "cell_type": "code",
   "execution_count": 2,
   "metadata": {},
   "outputs": [],
   "source": [
    "def Z_matrix(y: np.array, p: int, c: int):\n",
    "    \"\"\"Calculate the Z-matrix for a given input\n",
    "\n",
    "    Args:\n",
    "        y (np.array): input with all the data of shape (T + p) × K\n",
    "        p (int): lags\n",
    "        c (int): intercept yes=1, no=0\n",
    "\n",
    "    Returns:\n",
    "        (np.array): Z-matrix for given input\n",
    "    \"\"\"\n",
    "\n",
    "    y = y.T\n",
    "\n",
    "    #determine matrix dimensions:\n",
    "    T = y.shape[1] - p\n",
    "    K = y.shape[0]\n",
    "\n",
    "    # build Z-matrix\n",
    "    if c==1:\n",
    "        Z = np.ones((1, T+p), dtype=float)\n",
    "\n",
    "    # 1b stacked lagged data\n",
    "    for i in range(p):\n",
    "        #add i columns of leading zeros (EDIT: empty, comp cost lower) to ktpmat\n",
    "        zeros = np.zeros((K, i), dtype=float)\n",
    "        zerostack = np.hstack((zeros, y[:,:(T+p-i)]))\n",
    "        # vertically stack this to Z\n",
    "        Z = np.vstack((Z, zerostack))\n",
    "\n",
    "    # cutting of leading p columns and retrieving Z\n",
    "    Z = Z[:, p-1:-1]\n",
    "\n",
    "    return Z"
   ]
  },
  {
   "cell_type": "code",
   "execution_count": 3,
   "metadata": {},
   "outputs": [],
   "source": [
    "def B_matrix(y: np.array, p: int, c: int):\n",
    "    \"\"\"Calculates the B matrix with the estimated coefficients\n",
    "\n",
    "    Args:\n",
    "        y (np.array): input with all the data of shape (T + p) × K\n",
    "        p (int): lags\n",
    "        c (int): intercept yes=1, no=0\n",
    "\n",
    "    Returns:\n",
    "        _type_: B = matrix with estimated coefficients; Z=Z-matrix; sigma_u=covariance matrix\n",
    "    \"\"\"\n",
    "\n",
    "    # get Z-matrix from function above\n",
    "    Z = Z_matrix(y, p, c)\n",
    "\n",
    "    y = y.T # transpose y\n",
    "    y = y[:,p:] # first p observations are lost as we need prior lags for estimation\n",
    "    K = y.shape[0] # number of variables\n",
    "    T = y.shape[1] # number of observations\n",
    "\n",
    "    # calculate B\n",
    "    B = y @ Z.T @ np.linalg.inv((Z@Z.T))\n",
    "\n",
    "    # calculate sigma_u (covariance matrix)\n",
    "    sigma_u = (1/(T-K*p-1))*(y-(B@Z))@(y-(B@Z)).T\n",
    "\n",
    "    return B, Z, sigma_u"
   ]
  },
  {
   "cell_type": "markdown",
   "metadata": {},
   "source": [
    "#### Exercise 1"
   ]
  },
  {
   "cell_type": "code",
   "execution_count": 4,
   "metadata": {},
   "outputs": [],
   "source": [
    "# helperfunction\n",
    "def resid_bootstrap(Tpkmat, p):\n",
    "    '''\n",
    "    helperfunction used to calculate B, Z and sigma_u when applying the bootstrapping later\n",
    "    :param Tpkmat: a T + p × K matrix of observations on yt,\n",
    "    :param p: the lag length p,\n",
    "    :param R: and the number of bootstrap replications R as input.\n",
    "    :return: B, Z and sigma_u\n",
    "    '''\n",
    "\n",
    "    y = Tpkmat.T # transpose input matrix to K x (T+p)\n",
    "    T = y.shape[1] - p # get T (number of observations)\n",
    "    K = y.shape[0]\n",
    "\n",
    "    '''\n",
    "    Description from Lütkepohl, appendix D, page 709\n",
    "    (1) The parameters of the model under consideration are estimated. Let uthat, t = 1, . . . , T, be the estimation residuals.\n",
    "    '''\n",
    "\n",
    "    B, Z, sigma_u = B_matrix(Tpkmat, p, c=1)\n",
    "\n",
    "    '''\n",
    "    (2) Centered residuals are computed (usual average). Bootstrap residuals u∗1, . . . , u∗T are then obtained by randomly drawing with replacement from the centered residuals.\n",
    "    '''\n",
    "\n",
    "    uthat = y[:,p:] - (B@Z)\n",
    "    uthatbar = np.sum(uthat, axis=1)/T\n",
    "    uthatcenterded = uthat - uthatbar.T.reshape(K, 1)\n",
    "    draws = np.random.randint(0, T, T)\n",
    "\n",
    "\n",
    "    '''\n",
    "    (3) Bootstrap time series are computed recursively [...]where the same initial values may be used for each generated series, (y∗ −p+1, . . . , y∗0) = (y−p+1, . . . , y0).\n",
    "    '''\n",
    "    # set bootstrap time series pre-sample values to the same presample series from original data for every repetition\n",
    "\n",
    "    bs_y = y[:,:p]\n",
    "\n",
    "    for i in range(T):\n",
    "        y_t = B[:,0] + uthatcenterded[:,draws[i]]\n",
    "        for l in range(p):\n",
    "            y_t = y_t + (B[:, (l*K+1):(l*K+K+1)] @ bs_y[:,-l])\n",
    "        bs_y = np.hstack((bs_y, y_t.reshape(K, 1)))\n",
    "\n",
    "    B_bs, Z_bs, sigma_u_bs = B_matrix(bs_y.T, p, c=1)\n",
    "\n",
    "    return B_bs, Z_bs, sigma_u_bs"
   ]
  },
  {
   "cell_type": "code",
   "execution_count": 5,
   "metadata": {},
   "outputs": [],
   "source": [
    "# bootstrapping function\n",
    "def bootstrap_se(Tpkmat, p, R):\n",
    "    \"\"\"\n",
    "    Tpkmat:a T + p × K matrix of observations on yt\n",
    "    p:the lag length\n",
    "    R: and the number of bootstrap replications\n",
    "    returns the bootstrap standard error of VAR coefficients in B \n",
    "    \"\"\"\n",
    "    K = Tpkmat.shape[1]\n",
    "    \n",
    "    # apply bootstrapping using helper function from above\n",
    "    B_bs_list = np.empty((K, K*p+1))\n",
    "    for i in range(R):\n",
    "        B_bs, _, _ = resid_bootstrap(Tpkmat, p)\n",
    "        B_bs_list = np.dstack((B_bs_list, B_bs))\n",
    "        \n",
    "    #calculate standard error\n",
    "    Bbar_bs_list = np.mean(B_bs_list, axis = 2)\n",
    "    deviation = B_bs_list - Bbar_bs_list[:, :, None]\n",
    "    deviation_squared = deviation**2\n",
    "    sd = np.sqrt(np.sum(deviation_squared, axis=2)/(R-1))\n",
    "    se = sd/np.sqrt(R)\n",
    "\n",
    "    return se.T"
   ]
  },
  {
   "cell_type": "markdown",
   "metadata": {},
   "source": [
    "#### Exercise 2"
   ]
  },
  {
   "cell_type": "code",
   "execution_count": 6,
   "metadata": {},
   "outputs": [],
   "source": [
    "# read in data\n",
    "awm = pd.read_csv(\"awm19up18.csv\")\n",
    "awm.rename(columns={awm.columns[0]: \"Q\" }, inplace = True)\n",
    "\n",
    "of_interest = [\"Q\", \"YER\", \"ITR\", \"LTN\", \"STN\"]\n",
    "awm = awm[awm.columns.intersection(of_interest)]\n",
    "awm.set_index('Q', inplace=True)"
   ]
  },
  {
   "cell_type": "code",
   "execution_count": 7,
   "metadata": {},
   "outputs": [],
   "source": [
    "# calculate logs and first differences and assign names accordingly\n",
    "awm[\"YER_log\"] = np.log(awm['YER'])\n",
    "awm[\"ITR_log\"] = np.log(awm['ITR'])\n",
    "\n",
    "awm[\"d_lgdp\"] = awm[\"YER_log\"].diff()\n",
    "awm[\"d_invest\"] = awm[\"ITR_log\"].diff()\n",
    "\n",
    "awm[\"d_lgdp\"] = awm[\"d_lgdp\"] * 400\n",
    "awm[\"d_invest\"] = awm[\"d_invest\"] * 400\n",
    "\n",
    "awm[\"d_R\"] = awm[\"LTN\"].diff()\n",
    "awm[\"d_r\"] = awm[\"STN\"].diff()\n",
    "\n",
    "awm.dropna(inplace=True)"
   ]
  },
  {
   "cell_type": "code",
   "execution_count": 8,
   "metadata": {},
   "outputs": [],
   "source": [
    "# get the input for our function\n",
    "y_t = np.array(awm[[\"d_lgdp\", \"d_invest\", \"d_R\", \"d_r\"]])"
   ]
  },
  {
   "cell_type": "code",
   "execution_count": 9,
   "metadata": {},
   "outputs": [],
   "source": [
    "# test our function\n",
    "B, Z, sigma_u = B_matrix(y_t, p=2, c=1)\n",
    "B_se = bootstrap_se(y_t, 2, R=499)"
   ]
  },
  {
   "cell_type": "code",
   "execution_count": 10,
   "metadata": {},
   "outputs": [
    {
     "name": "stdout",
     "output_type": "stream",
     "text": [
      "[[0.77194319 0.5856217  0.01558155 0.0173267 ]\n",
      " [2.72829801 3.36768547 0.0497609  0.22509575]\n",
      " [3.01713258 3.01003027 0.12830278 0.40636359]\n",
      " [0.02706953 0.07120453 0.0285401  0.03551318]\n",
      " [0.0941176  0.14180661 0.03289757 0.07137329]\n",
      " [2.4217989  2.63614965 0.04137624 0.18387338]\n",
      " [2.91557675 5.41164495 0.07066543 0.34500082]\n",
      " [0.05282022 0.11819475 0.00893912 0.00992757]\n",
      " [0.04756774 0.11368452 0.02203134 0.02515038]]\n"
     ]
    }
   ],
   "source": [
    "# show our B_se\n",
    "print(B_se)"
   ]
  },
  {
   "cell_type": "code",
   "execution_count": 11,
   "metadata": {},
   "outputs": [
    {
     "data": {
      "text/plain": [
       "array([[0.2697177 , 0.6727813 , 0.04033584, 0.0646388 ],\n",
       "       [0.09634184, 0.24031419, 0.01440777, 0.02308866],\n",
       "       [0.03812077, 0.09508808, 0.0057009 , 0.00913578],\n",
       "       [0.53710206, 1.3397423 , 0.08032274, 0.12871841],\n",
       "       [0.33948962, 0.8468197 , 0.05077012, 0.08135989],\n",
       "       [0.10218602, 0.25489185, 0.01528175, 0.02448924],\n",
       "       [0.03699542, 0.09228102, 0.0055326 , 0.00886608],\n",
       "       [0.54350851, 1.3557225 , 0.08128081, 0.13025374],\n",
       "       [0.32538508, 0.81163747, 0.04866081, 0.07797969]])"
      ]
     },
     "execution_count": 11,
     "metadata": {},
     "output_type": "execute_result"
    }
   ],
   "source": [
    "# Compare to built-in function from VAR package\n",
    "model = VAR(y_t)\n",
    "var = model.fit(2) #number = lag order\n",
    "var.bse # standard errors"
   ]
  },
  {
   "cell_type": "code",
   "execution_count": 13,
   "metadata": {
    "tags": []
   },
   "outputs": [
    {
     "data": {
      "text/plain": [
       "  Summary of Regression Results   \n",
       "==================================\n",
       "Model:                         VAR\n",
       "Method:                        OLS\n",
       "Date:           Mon, 12, Dec, 2022\n",
       "Time:                     16:19:40\n",
       "--------------------------------------------------------------------\n",
       "No. of Equations:         4.00000    BIC:                    1.40924\n",
       "Nobs:                     189.000    HQIC:                   1.04192\n",
       "Log likelihood:          -1111.54    FPE:                    2.20793\n",
       "AIC:                     0.791766    Det(Omega_mle):         1.83304\n",
       "--------------------------------------------------------------------\n",
       "Results for equation y1\n",
       "========================================================================\n",
       "           coefficient       std. error           t-stat            prob\n",
       "------------------------------------------------------------------------\n",
       "const         0.819992         0.269718            3.040           0.002\n",
       "L1.y1         0.441894         0.096342            4.587           0.000\n",
       "L1.y2        -0.030952         0.038121           -0.812           0.417\n",
       "L1.y3         0.353840         0.537102            0.659           0.510\n",
       "L1.y4         0.280813         0.339490            0.827           0.408\n",
       "L2.y1         0.140349         0.102186            1.373           0.170\n",
       "L2.y2         0.028966         0.036995            0.783           0.434\n",
       "L2.y3        -0.661783         0.543509           -1.218           0.223\n",
       "L2.y4        -0.699815         0.325385           -2.151           0.031\n",
       "========================================================================\n",
       "\n",
       "Results for equation y2\n",
       "========================================================================\n",
       "           coefficient       std. error           t-stat            prob\n",
       "------------------------------------------------------------------------\n",
       "const        -1.006071         0.672781           -1.495           0.135\n",
       "L1.y1         1.203121         0.240314            5.006           0.000\n",
       "L1.y2        -0.228830         0.095088           -2.407           0.016\n",
       "L1.y3        -1.266312         1.339742           -0.945           0.345\n",
       "L1.y4         0.699606         0.846820            0.826           0.409\n",
       "L2.y1        -0.051731         0.254892           -0.203           0.839\n",
       "L2.y2         0.241250         0.092281            2.614           0.009\n",
       "L2.y3        -1.219686         1.355722           -0.900           0.368\n",
       "L2.y4        -1.579706         0.811637           -1.946           0.052\n",
       "========================================================================\n",
       "\n",
       "Results for equation y3\n",
       "========================================================================\n",
       "           coefficient       std. error           t-stat            prob\n",
       "------------------------------------------------------------------------\n",
       "const        -0.065747         0.040336           -1.630           0.103\n",
       "L1.y1         0.012060         0.014408            0.837           0.403\n",
       "L1.y2         0.000179         0.005701            0.031           0.975\n",
       "L1.y3         0.515583         0.080323            6.419           0.000\n",
       "L1.y4         0.037856         0.050770            0.746           0.456\n",
       "L2.y1         0.013223         0.015282            0.865           0.387\n",
       "L2.y2        -0.005881         0.005533           -1.063           0.288\n",
       "L2.y3        -0.220154         0.081281           -2.709           0.007\n",
       "L2.y4         0.070611         0.048661            1.451           0.147\n",
       "========================================================================\n",
       "\n",
       "Results for equation y4\n",
       "========================================================================\n",
       "           coefficient       std. error           t-stat            prob\n",
       "------------------------------------------------------------------------\n",
       "const        -0.243279         0.064639           -3.764           0.000\n",
       "L1.y1         0.072841         0.023089            3.155           0.002\n",
       "L1.y2        -0.007479         0.009136           -0.819           0.413\n",
       "L1.y3         0.422383         0.128718            3.281           0.001\n",
       "L1.y4         0.278528         0.081360            3.423           0.001\n",
       "L2.y1         0.038712         0.024489            1.581           0.114\n",
       "L2.y2        -0.002408         0.008866           -0.272           0.786\n",
       "L2.y3        -0.289227         0.130254           -2.220           0.026\n",
       "L2.y4        -0.072584         0.077980           -0.931           0.352\n",
       "========================================================================\n",
       "\n",
       "Correlation matrix of residuals\n",
       "            y1        y2        y3        y4\n",
       "y1    1.000000  0.639853  0.120617  0.204882\n",
       "y2    0.639853  1.000000  0.115598  0.191145\n",
       "y3    0.120617  0.115598  1.000000  0.409821\n",
       "y4    0.204882  0.191145  0.409821  1.000000\n",
       "\n"
      ]
     },
     "execution_count": 13,
     "metadata": {},
     "output_type": "execute_result"
    }
   ],
   "source": [
    "# show whole built-in output \n",
    "var.summary()"
   ]
  },
  {
   "cell_type": "markdown",
   "metadata": {},
   "source": [
    "#### Exercise 3"
   ]
  },
  {
   "cell_type": "code",
   "execution_count": 14,
   "metadata": {},
   "outputs": [],
   "source": [
    "def var2sim(A1: np.array, A2: np.array, sigma_u: np.array, T: int):\n",
    "    \"\"\"A function that simulates time series data from a K-dimensional VAR(2) process yt = A1 y_t−1 + A2 y_t−2 + u_t, \n",
    "    where the innovations ut are drawn from a multivariate normal distribution with mean zero and covariance matrix Σ_u. \n",
    "    Uses y_−1 = y_0 = 0 as starting values, where 0 is a K ×1 vector of zeros.\n",
    "    Generates time series of length T+50 and discards the first 50 observations, such that it returns a time series of total length equal to T.\n",
    "\n",
    "    Args:\n",
    "        A1 (np.array): coefficient matrix at lag 1\n",
    "        A2 (np.array): coefficient matrix at lag 2\n",
    "        sigma_u (np.array): covariance matrix Σ_u\n",
    "        T (int): number of observations\n",
    "\n",
    "    Returns:\n",
    "        np.array: T x K matrix of observations on y_t\n",
    "    \"\"\"\n",
    "    K = sigma_u.shape[0]\n",
    "\n",
    "    # set starting values\n",
    "    y_tminus1 = np.zeros((K, 1))\n",
    "    y_tminus2 = np.zeros((K, 1))\n",
    "\n",
    "    P = np.linalg.cholesky(sigma_u)\n",
    "\n",
    "    y = np.empty((K, 0))\n",
    "    for i in range(T+50):\n",
    "        # draw disturbance u_t\n",
    "        u_t = P @ np.random.standard_normal(K)\n",
    "        u_t = u_t.reshape(K, 1)\n",
    "        #recursively calculate y_t\n",
    "        y_t = A1@y_tminus1 + A2@y_tminus2 - 2 + u_t\n",
    "        y = np.hstack((y, y_t))\n",
    "        y_tminus2 = y_tminus1\n",
    "        y_tminus1 = y_t\n",
    "\n",
    "    # discard first 50 observations\n",
    "    y = y[:,50:]\n",
    "\n",
    "    return y.T"
   ]
  },
  {
   "cell_type": "code",
   "execution_count": 15,
   "metadata": {
    "collapsed": true,
    "jupyter": {
     "outputs_hidden": true
    },
    "tags": []
   },
   "outputs": [
    {
     "data": {
      "text/plain": [
       "array([[ 2.00051091e+00,  1.13953139e+01, -3.95038747e+00,\n",
       "        -3.17438443e+00],\n",
       "       [-8.65439260e-01,  9.77380171e+00, -3.46851426e+00,\n",
       "        -2.71829897e+00],\n",
       "       [ 2.48645906e+00,  1.53782841e+01, -2.35611150e+00,\n",
       "        -3.52958160e+00],\n",
       "       [ 3.55112728e-01,  8.62012878e+00, -2.75414600e+00,\n",
       "        -2.91359189e+00],\n",
       "       [-1.79758952e+00,  5.82483872e+00, -3.07830218e+00,\n",
       "        -2.39076524e+00],\n",
       "       [-2.48039898e+00,  7.27333593e+00, -3.08753224e+00,\n",
       "        -2.65850483e+00],\n",
       "       [-4.56743589e+00, -5.49502949e+00, -3.58832472e+00,\n",
       "        -3.66284658e+00],\n",
       "       [-5.48035897e+00, -6.10665923e-01, -3.46705731e+00,\n",
       "        -4.05312504e+00],\n",
       "       [-3.98790972e+00,  8.22983615e-01, -3.59508875e+00,\n",
       "        -4.53295529e+00],\n",
       "       [-3.81199963e+00, -6.19645427e-01, -3.21636212e+00,\n",
       "        -4.06599433e+00],\n",
       "       [-1.96120655e+00, -1.59168446e+00, -3.64723806e+00,\n",
       "        -4.06463634e+00],\n",
       "       [ 2.33953213e+00,  1.84078265e+01, -3.31546434e+00,\n",
       "        -3.69169027e+00],\n",
       "       [ 5.10559433e+00,  1.01229981e+01, -3.31857121e+00,\n",
       "        -2.93131953e+00],\n",
       "       [ 4.98963896e+00,  1.02995318e+01, -3.14727674e+00,\n",
       "        -3.09652083e+00],\n",
       "       [ 4.90907152e+00,  1.81331536e+01, -3.15632060e+00,\n",
       "        -2.49592014e+00],\n",
       "       [ 3.03239997e+00,  2.04554294e+01, -3.22440456e+00,\n",
       "        -2.09079310e+00],\n",
       "       [-6.13250828e-02,  9.64692871e+00, -3.08487418e+00,\n",
       "        -2.89022423e+00],\n",
       "       [ 1.24056250e+00,  1.26844524e+01, -2.80325738e+00,\n",
       "        -3.66255622e+00],\n",
       "       [ 1.59851053e+00,  6.86997946e+00, -3.28620360e+00,\n",
       "        -2.63383992e+00],\n",
       "       [ 4.39030439e+00,  2.10658193e+01, -3.23119397e+00,\n",
       "        -3.39407546e+00],\n",
       "       [-1.82092878e-01,  6.65359067e+00, -3.35321036e+00,\n",
       "        -2.65085209e+00],\n",
       "       [-2.11487955e+00,  1.63497199e+00, -3.58022491e+00,\n",
       "        -3.51585240e+00],\n",
       "       [-2.63704653e+00,  3.93123849e+00, -3.41881485e+00,\n",
       "        -3.70059195e+00],\n",
       "       [-2.93708310e+00,  3.66964518e+00, -3.42044015e+00,\n",
       "        -3.31916548e+00],\n",
       "       [-1.52612856e+00,  3.45987761e+00, -4.09036016e+00,\n",
       "        -3.45497488e+00],\n",
       "       [-2.56870369e+00,  3.00699097e+00, -3.71413368e+00,\n",
       "        -4.30708259e+00],\n",
       "       [-1.91908173e+00,  4.40721674e+00, -3.00597044e+00,\n",
       "        -3.04146502e+00],\n",
       "       [ 4.97084430e-01,  6.86301213e+00, -2.69581870e+00,\n",
       "        -3.14473876e+00],\n",
       "       [-4.98773129e+00, -2.38706244e+00, -2.80081614e+00,\n",
       "        -3.03477837e+00],\n",
       "       [ 2.74105410e+00,  1.80174319e+01, -3.67206518e+00,\n",
       "        -4.21303794e+00],\n",
       "       [-2.88430475e+00,  8.39008293e+00, -4.09994577e+00,\n",
       "        -4.25631154e+00],\n",
       "       [-2.49488129e+00,  9.75640119e+00, -3.98667493e+00,\n",
       "        -3.40909056e+00],\n",
       "       [-4.93046743e-01, -2.49407604e+00, -3.76397329e+00,\n",
       "        -3.23869311e+00],\n",
       "       [ 4.51993678e-01,  1.36857049e+01, -3.39439232e+00,\n",
       "        -2.51136838e+00],\n",
       "       [-2.14463501e+00, -4.22469621e+00, -3.63708253e+00,\n",
       "        -2.69127423e+00],\n",
       "       [-5.01515445e-02,  1.15223995e+01, -3.85762600e+00,\n",
       "        -3.20424907e+00],\n",
       "       [ 2.63525823e-01,  7.31382961e+00, -3.57760436e+00,\n",
       "        -3.95917021e+00],\n",
       "       [-1.80849340e+00,  6.75681944e+00, -4.10932228e+00,\n",
       "        -3.57230340e+00],\n",
       "       [ 3.05290872e-01,  4.02998202e+00, -3.69643898e+00,\n",
       "        -3.31320645e+00],\n",
       "       [ 1.44534810e+00,  9.79013279e+00, -2.90980302e+00,\n",
       "        -2.09243924e+00],\n",
       "       [ 6.70831051e+00,  1.45074889e+01, -2.38977393e+00,\n",
       "        -2.38810133e+00],\n",
       "       [ 1.95357744e+00,  9.77665299e+00, -2.58745784e+00,\n",
       "        -1.97408462e+00],\n",
       "       [-2.13436735e-01,  4.04522237e+00, -3.11496323e+00,\n",
       "        -2.84257837e+00],\n",
       "       [-3.03119434e+00, -1.69743680e+00, -2.85920288e+00,\n",
       "        -2.94718232e+00],\n",
       "       [-2.48898973e+00,  1.72706391e+00, -2.96380359e+00,\n",
       "        -3.09854764e+00],\n",
       "       [-8.72809358e-02,  5.07466734e+00, -2.52391333e+00,\n",
       "        -2.74734468e+00],\n",
       "       [-5.10652130e+00,  6.77727054e+00, -3.01222433e+00,\n",
       "        -2.77695442e+00],\n",
       "       [-4.96762595e+00, -6.60674128e+00, -3.90030333e+00,\n",
       "        -4.15235643e+00],\n",
       "       [-2.67346930e+00,  1.34464789e+01, -3.96082242e+00,\n",
       "        -3.51403193e+00],\n",
       "       [-9.74350009e-01,  8.20693716e+00, -3.22425309e+00,\n",
       "        -3.63865485e+00],\n",
       "       [ 2.90228092e+00,  1.26332465e+01, -3.10068003e+00,\n",
       "        -2.57867966e+00],\n",
       "       [ 5.90547075e-01,  6.49488060e+00, -2.58024545e+00,\n",
       "        -2.20387687e+00],\n",
       "       [-8.09107809e-01,  8.31695604e+00, -2.33088754e+00,\n",
       "        -2.28732063e+00],\n",
       "       [ 3.36001921e+00,  5.48802737e+00, -2.97195836e+00,\n",
       "        -2.22391984e+00],\n",
       "       [ 2.81880803e+00,  1.79316693e+01, -2.93512156e+00,\n",
       "        -2.47770117e+00],\n",
       "       [ 1.44508248e-01,  4.73459640e+00, -2.62883510e+00,\n",
       "        -2.67410395e+00],\n",
       "       [ 1.77177543e+00,  1.67666694e+01, -2.48219425e+00,\n",
       "        -2.71244585e+00],\n",
       "       [ 8.20628631e-01, -1.25047922e+00, -3.11792643e+00,\n",
       "        -2.25448633e+00],\n",
       "       [ 1.53294097e+00,  1.11044065e+01, -3.51063008e+00,\n",
       "        -3.40782904e+00],\n",
       "       [ 8.02414449e-01,  8.37516214e+00, -3.00036063e+00,\n",
       "        -2.76277531e+00],\n",
       "       [ 2.61934594e-01,  8.54819300e+00, -3.61562943e+00,\n",
       "        -3.15631019e+00],\n",
       "       [-1.43683784e-03,  8.53987482e+00, -3.63048594e+00,\n",
       "        -3.46530244e+00],\n",
       "       [-3.05848558e+00,  8.57460803e-01, -3.47461122e+00,\n",
       "        -4.03796679e+00],\n",
       "       [-3.37622946e+00,  1.27619329e+01, -2.91446154e+00,\n",
       "        -3.93269651e+00],\n",
       "       [-4.62386251e+00, -3.06320257e+00, -3.64017234e+00,\n",
       "        -2.84505200e+00],\n",
       "       [-4.62094994e+00,  6.69503111e+00, -3.84263477e+00,\n",
       "        -3.60614730e+00],\n",
       "       [-3.81110500e+00, -2.46997197e+00, -3.03910498e+00,\n",
       "        -3.74848323e+00],\n",
       "       [ 2.99508938e-01,  4.42243028e+00, -3.44288554e+00,\n",
       "        -3.52365622e+00],\n",
       "       [-9.89101168e-01,  1.36543732e+01, -3.58595367e+00,\n",
       "        -3.99295647e+00],\n",
       "       [-1.61617818e+00,  6.74154131e+00, -3.42234801e+00,\n",
       "        -3.68197813e+00],\n",
       "       [ 4.57149990e-01,  1.14036309e+01, -3.81676854e+00,\n",
       "        -3.81148426e+00],\n",
       "       [ 3.25741114e+00,  1.85960961e+01, -3.37855673e+00,\n",
       "        -3.05001973e+00],\n",
       "       [ 4.69146026e-01,  1.13821984e+01, -2.79179251e+00,\n",
       "        -2.32891608e+00],\n",
       "       [ 5.37334849e-01,  7.10134367e+00, -3.36774749e+00,\n",
       "        -3.45478580e+00],\n",
       "       [ 3.93318139e+00,  1.03495558e+01, -3.59866449e+00,\n",
       "        -3.64051327e+00],\n",
       "       [ 1.56824878e+00,  9.37977626e+00, -3.38908532e+00,\n",
       "        -4.15850299e+00],\n",
       "       [ 2.31496538e+00,  2.09461370e+01, -3.17509255e+00,\n",
       "        -2.81343394e+00],\n",
       "       [ 3.59854102e+00,  1.70432347e+01, -2.52882886e+00,\n",
       "        -1.72899404e+00],\n",
       "       [-9.03512647e-04,  6.56933909e+00, -3.08736113e+00,\n",
       "        -2.60627148e+00],\n",
       "       [-2.98632234e+00,  1.00160033e+00, -3.80152216e+00,\n",
       "        -3.71074127e+00],\n",
       "       [-3.61799691e+00, -1.73392680e+00, -4.44105281e+00,\n",
       "        -4.75414502e+00],\n",
       "       [ 3.38718581e+00,  1.77755650e+01, -4.21896521e+00,\n",
       "        -3.57360096e+00],\n",
       "       [ 2.72276842e+00,  1.49683313e+01, -3.46723494e+00,\n",
       "        -2.67095886e+00],\n",
       "       [ 2.89475421e+00,  7.65252511e+00, -2.91759443e+00,\n",
       "        -2.58448022e+00],\n",
       "       [ 4.63577556e+00,  2.21062248e+01, -3.16349864e+00,\n",
       "        -1.94494919e+00],\n",
       "       [ 2.03872882e+00,  1.23508925e+01, -2.86478167e+00,\n",
       "        -2.66840679e+00],\n",
       "       [ 2.91394861e+00,  1.69932671e+01, -3.15801785e+00,\n",
       "        -3.11494590e+00],\n",
       "       [ 1.39638826e+00,  1.66153690e+01, -3.86778599e+00,\n",
       "        -3.62374781e+00],\n",
       "       [ 9.09877218e-01,  9.21347493e+00, -4.14330544e+00,\n",
       "        -3.49766135e+00],\n",
       "       [ 9.51548655e-01,  1.72110983e+01, -3.33898313e+00,\n",
       "        -3.68274683e+00],\n",
       "       [ 2.36798775e+00,  8.38113617e+00, -3.08168129e+00,\n",
       "        -3.19583665e+00],\n",
       "       [ 3.18280028e+00,  1.88816988e+01, -4.05026665e+00,\n",
       "        -2.96900677e+00],\n",
       "       [-4.61312962e-01,  1.88073853e+00, -4.24563716e+00,\n",
       "        -4.25313497e+00],\n",
       "       [ 2.54129425e-01,  2.01448158e+01, -3.64629198e+00,\n",
       "        -3.42449338e+00],\n",
       "       [-8.23033072e-01, -8.72141797e-01, -3.64264674e+00,\n",
       "        -2.80716181e+00],\n",
       "       [ 5.97397762e+00,  2.48453724e+01, -3.93485450e+00,\n",
       "        -2.76714444e+00],\n",
       "       [ 4.74123290e+00,  1.81813689e+01, -3.62865773e+00,\n",
       "        -2.78167026e+00],\n",
       "       [ 2.38275651e+00,  1.08892555e+01, -2.96315629e+00,\n",
       "        -2.96302021e+00],\n",
       "       [ 1.21618402e+00,  9.30908564e+00, -2.88077668e+00,\n",
       "        -2.19508218e+00],\n",
       "       [-6.72578141e-01,  7.51908564e+00, -2.89751278e+00,\n",
       "        -2.09561943e+00]])"
      ]
     },
     "execution_count": 15,
     "metadata": {},
     "output_type": "execute_result"
    }
   ],
   "source": [
    "# Test our var2sim function\n",
    "\n",
    "K = 4\n",
    "p = 2\n",
    "T = 100\n",
    "\n",
    "A1 = B[:,1:K+1]\n",
    "A2 = B[:,K+1:2*K+1]\n",
    "\n",
    "var2sim(A1, A2, sigma_u, T)"
   ]
  },
  {
   "cell_type": "markdown",
   "metadata": {},
   "source": [
    "#### Exercise 4"
   ]
  },
  {
   "cell_type": "code",
   "execution_count": 16,
   "metadata": {},
   "outputs": [],
   "source": [
    "def hstep_forecast(y: np.array, p: int, h: int):\n",
    "    \"\"\"A function that computes the h-step ahead point forecasts y_T (h) and the corresponding MSE matrix Σˆ_y(h) based on a VAR(p) with intercept\n",
    "\n",
    "    Args:\n",
    "        y (np.array): K × T matrix of observations\n",
    "        p (int): lag order\n",
    "        h (int): forecast horizon\n",
    "\n",
    "    Returns:\n",
    "        list: h-step ahead forecasts and the corresponding MSE matrix\n",
    "    \"\"\"\n",
    "    \n",
    "    K = y.shape[0]\n",
    "    T = y.shape[1]\n",
    "\n",
    "    # retrieving estimates\n",
    "    B, Z, sigma_u = B_matrix(y.T, p, c=1)\n",
    "\n",
    "    # constructing matrices\n",
    "    J1 = np.hstack((np.zeros((K, 1)), np.identity(K), np.zeros((K, K*(p-1)))))\n",
    "\n",
    "    row0 = np.hstack((np.ones((1,1)), np.zeros((1, K*p))))\n",
    "    rowz = np.hstack((np.zeros((K*(p-1), 1)), np.identity(K*(p-1)), np.zeros((K*(p-1), K))))\n",
    "    B = np.vstack((row0, B, rowz))\n",
    "\n",
    "    Zt = y[:,-p:]                       # selecting y[:,-p:] from t-p up to t\n",
    "    Zt = Zt[:,::-1].T.flatten()             # reverse order horizontally, transpose and flatten.\n",
    "    Zt = np.hstack((np.array([(1)]), Zt)).reshape(K*p+1, 1)   # adding one leading 1, transposing, dimension is: 1+K*T x 1\n",
    "   \n",
    "     # predicting y_th\n",
    "    y_th = J1@mp(B, h)@Zt\n",
    "    \n",
    "    # calculate the corresponding MSE matrix\n",
    "    sigma_hat_yh = 0\n",
    "    for i in range(h):                # formula at p. 64\n",
    "        PHIi = J1@mp(B, i)@J1.T \n",
    "        part_of_sum = PHIi@sigma_u@PHIi.T\n",
    "        sigma_hat_yh += part_of_sum\n",
    "\n",
    "    return y_th, sigma_hat_yh"
   ]
  },
  {
   "cell_type": "markdown",
   "metadata": {},
   "source": [
    "#### Exercise 5"
   ]
  },
  {
   "cell_type": "code",
   "execution_count": 17,
   "metadata": {},
   "outputs": [],
   "source": [
    "# Define parameters\n",
    "\n",
    "T = 100\n",
    "p = 2\n",
    "\n",
    "A1 = np.array([(0.4, 0.25), (0.0, 0.5)])\n",
    "A2 = np.array([(0.2, 0.4), (0.0, 0.0)])\n",
    "sigma_u = np.array([(1, 0.5), (0.5, 1)])"
   ]
  },
  {
   "cell_type": "code",
   "execution_count": 18,
   "metadata": {},
   "outputs": [],
   "source": [
    "# Test functions\n",
    "\n",
    "time_series_TK = var2sim(A1, A2, sigma_u, T)"
   ]
  },
  {
   "cell_type": "code",
   "execution_count": 19,
   "metadata": {},
   "outputs": [
    {
     "name": "stdout",
     "output_type": "stream",
     "text": [
      "[[-10.80431433]\n",
      " [ -4.3641528 ]]\n"
     ]
    },
    {
     "data": {
      "text/plain": [
       "array([[1.28347615, 0.69094748],\n",
       "       [0.69094748, 1.09583828]])"
      ]
     },
     "execution_count": 19,
     "metadata": {},
     "output_type": "execute_result"
    }
   ],
   "source": [
    "# Forecast horizon h = 1\n",
    "h = 1\n",
    "y_th1, mse_mat1 = hstep_forecast(time_series_TK.T, p, h)\n",
    "\n",
    "print(y_th1) \n",
    "mse_mat1"
   ]
  },
  {
   "cell_type": "code",
   "execution_count": 20,
   "metadata": {},
   "outputs": [
    {
     "name": "stdout",
     "output_type": "stream",
     "text": [
      "[[-11.54677303]\n",
      " [ -4.05759448]]\n"
     ]
    },
    {
     "data": {
      "text/plain": [
       "array([[3.49924425, 1.45243372],\n",
       "       [1.45243372, 1.61554987]])"
      ]
     },
     "execution_count": 20,
     "metadata": {},
     "output_type": "execute_result"
    }
   ],
   "source": [
    "# Forecast horizon h = 4\n",
    "h = 4\n",
    "y_th4, mse_mat4 = hstep_forecast(time_series_TK.T, p, h)\n",
    "print(y_th4) \n",
    "mse_mat4"
   ]
  },
  {
   "cell_type": "code",
   "execution_count": 21,
   "metadata": {},
   "outputs": [],
   "source": [
    "# set up 95 % interval forecast (assuming data is generated from gaussian process)\n",
    "\n",
    "CIone95 = [y_th1 - 1.96 * np.sqrt(np.diag(mse_mat1)), y_th1 + 1.96 * np.sqrt(np.diag(mse_mat1))]\n",
    "CIfour95 = [y_th4 - 1.96 * np.sqrt(np.diag(mse_mat4)), y_th4 + 1.96 * np.sqrt(np.diag(mse_mat4))]\n"
   ]
  },
  {
   "cell_type": "code",
   "execution_count": 22,
   "metadata": {},
   "outputs": [
    {
     "name": "stdout",
     "output_type": "stream",
     "text": [
      "[[-10.80431433  -4.3641528 ]]\n"
     ]
    },
    {
     "data": {
      "text/plain": [
       "array([[[1.28347615, 0.69094748],\n",
       "        [0.69094748, 1.09583828]]])"
      ]
     },
     "execution_count": 22,
     "metadata": {},
     "output_type": "execute_result"
    }
   ],
   "source": [
    "# Compare to built-in function from VAR package\n",
    "model = VAR(time_series_TK)\n",
    "results = model.fit(2)\n",
    "\n",
    "# result for h = 1\n",
    "print(results.forecast(time_series_TK, 1))\n",
    "results.mse(1)"
   ]
  },
  {
   "cell_type": "code",
   "execution_count": 23,
   "metadata": {},
   "outputs": [
    {
     "name": "stdout",
     "output_type": "stream",
     "text": [
      "[[-10.80431433  -4.3641528 ]\n",
      " [-11.25624552  -4.2149854 ]\n",
      " [-11.4732682   -4.1122999 ]\n",
      " [-11.54677303  -4.05759448]]\n"
     ]
    },
    {
     "data": {
      "text/plain": [
       "array([[[1.28347615, 0.69094748],\n",
       "        [0.69094748, 1.09583828]],\n",
       "\n",
       "       [[1.86328927, 1.1113288 ],\n",
       "        [1.1113288 , 1.52131331]],\n",
       "\n",
       "       [[2.82757291, 1.37733252],\n",
       "        [1.37733252, 1.60579393]],\n",
       "\n",
       "       [[3.49924425, 1.45243372],\n",
       "        [1.45243372, 1.61554987]]])"
      ]
     },
     "execution_count": 23,
     "metadata": {},
     "output_type": "execute_result"
    }
   ],
   "source": [
    "# result for h = 4\n",
    "print(results.forecast(time_series_TK, 4))\n",
    "results.mse(4)"
   ]
  }
 ],
 "metadata": {
  "kernelspec": {
   "display_name": "Python 3",
   "language": "python",
   "name": "python3"
  },
  "language_info": {
   "codemirror_mode": {
    "name": "ipython",
    "version": 3
   },
   "file_extension": ".py",
   "mimetype": "text/x-python",
   "name": "python",
   "nbconvert_exporter": "python",
   "pygments_lexer": "ipython3",
   "version": "3.8.8"
  },
  "vscode": {
   "interpreter": {
    "hash": "f53b217d8430526303bffcd87b390d5c67e67390f11595101f60a03768747934"
   }
  }
 },
 "nbformat": 4,
 "nbformat_minor": 4
}
