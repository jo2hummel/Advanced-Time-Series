{
 "cells": [
  {
   "cell_type": "markdown",
   "metadata": {},
   "source": [
    "## Programming Assignment 03\n",
    "\n",
    "Student ID: 1151277\n",
    "\n",
    "Collaborators: 919755, 1153929, 1152810, 1151248"
   ]
  },
  {
   "cell_type": "code",
   "execution_count": 1,
   "metadata": {},
   "outputs": [],
   "source": [
    "import numpy as np\n",
    "import pandas as pd\n",
    "import scipy.stats as st\n",
    "from numpy.linalg import matrix_power as mp\n",
    "\n",
    "from statsmodels.tsa.api import VAR"
   ]
  },
  {
   "cell_type": "markdown",
   "metadata": {},
   "source": [
    "#### Helper Functions from previous assignments"
   ]
  },
  {
   "cell_type": "code",
   "execution_count": 2,
   "metadata": {},
   "outputs": [],
   "source": [
    "def Z_matrix(y: np.array, p: int, c: int):\n",
    "    \"\"\"Calculate the Z-matrix for a given input\n",
    "\n",
    "    Args:\n",
    "        y (np.array): input with all the data of shape (T + p) × K\n",
    "        p (int): lags\n",
    "        c (int): intercept yes=1, no=0\n",
    "\n",
    "    Returns:\n",
    "        (np.array): Z-matrix for given input\n",
    "    \"\"\"\n",
    "\n",
    "    y = y.T\n",
    "\n",
    "    #determine matrix dimensions:\n",
    "    T = y.shape[1] - p\n",
    "    K = y.shape[0]\n",
    "\n",
    "    # build Z-matrix\n",
    "    if c==1:\n",
    "        Z = np.ones((1, T+p), dtype=float)\n",
    "\n",
    "    # 1b stacked lagged data\n",
    "    for i in range(p):\n",
    "        #add i columns of leading zeros (EDIT: empty, comp cost lower) to ktpmat\n",
    "        zeros = np.zeros((K, i), dtype=float)\n",
    "        zerostack = np.hstack((zeros, y[:,:(T+p-i)]))\n",
    "        # vertically stack this to Z\n",
    "        Z = np.vstack((Z, zerostack))\n",
    "\n",
    "    # cutting of leading p columns and retrieving Z\n",
    "    Z = Z[:, p-1:-1]\n",
    "\n",
    "    return Z"
   ]
  },
  {
   "cell_type": "code",
   "execution_count": 3,
   "metadata": {},
   "outputs": [],
   "source": [
    "def B_matrix(y: np.array, p: int, c: int):\n",
    "    \"\"\"Calculates the B matrix with the estimated coefficients\n",
    "\n",
    "    Args:\n",
    "        y (np.array): input with all the data of shape (T + p) × K\n",
    "        p (int): lags\n",
    "        c (int): intercept yes=1, no=0\n",
    "\n",
    "    Returns:\n",
    "        _type_: B = matrix with estimated coefficients; Z=Z-matrix; sigma_u=covariance matrix\n",
    "    \"\"\"\n",
    "\n",
    "    # get Z-matrix from function above\n",
    "    Z = Z_matrix(y, p, c)\n",
    "\n",
    "    y = y.T # transpose y\n",
    "    y = y[:,p:] # first p observations are lost as we need prior lags for estimation\n",
    "    K = y.shape[0] # number of variables\n",
    "    T = y.shape[1] # number of observations\n",
    "\n",
    "    # calculate B\n",
    "    B = y @ Z.T @ np.linalg.inv((Z@Z.T))\n",
    "\n",
    "    # calculate sigma_u (covariance matrix)\n",
    "    sigma_u = (1/(T-K*p-1))*(y-(B@Z))@(y-(B@Z)).T\n",
    "\n",
    "    return B, Z, sigma_u"
   ]
  },
  {
   "cell_type": "markdown",
   "metadata": {},
   "source": [
    "#### Exercise 1"
   ]
  },
  {
   "cell_type": "code",
   "execution_count": 4,
   "metadata": {},
   "outputs": [],
   "source": [
    "# helperfunction\n",
    "def resid_bootstrap(y,T,K,B,Z, p):\n",
    "    '''\n",
    "    helperfunction used to calculate B, Z and sigma_u when applying the bootstrapping later\n",
    "    :param y: a K x T + p matrix of observations on yt,\n",
    "    :param T: number of observations\n",
    "    :param K: number of variables\n",
    "    :param B: B matrix with estimated coefficients\n",
    "    :param Z: Z matrix\n",
    "    :param p: the lag length p,\n",
    "    :return: estimations for B, Z and sigma_u for one bootstrap iteration\n",
    "    '''\n",
    "\n",
    "    '''\n",
    "    (2) Centered residuals are computed (usual average). Bootstrap residuals u∗1, . . . , u∗T are then obtained by randomly drawing with replacement from the centered residuals.\n",
    "    '''\n",
    "\n",
    "    uthat = y[:,p:] - (B@Z)\n",
    "    uthatbar = np.sum(uthat, axis=1)/T\n",
    "    uthatcenterded = uthat - uthatbar.T.reshape(K, 1)\n",
    "    draws = np.random.randint(0, T, T)\n",
    "\n",
    "\n",
    "    '''\n",
    "    (3) Bootstrap time series are computed recursively [...]where the same initial values may be used for each generated series, (y∗ −p+1, . . . , y∗0) = (y−p+1, . . . , y0).\n",
    "    '''\n",
    "    # set bootstrap time series pre-sample values to the same presample series from original data for every repetition\n",
    "\n",
    "    bs_y = y[:,:p]\n",
    "\n",
    "    for i in range(T):\n",
    "        y_t = B[:,0] + uthatcenterded[:,draws[i]]\n",
    "        for l in range(p):\n",
    "            y_t = y_t + (B[:, (l*K+1):(l*K+K+1)] @ bs_y[:,-(l+1)])  \n",
    "        bs_y = np.hstack((bs_y, y_t.reshape(K, 1)))\n",
    "\n",
    "    B_bs, Z_bs, sigma_u_bs = B_matrix(bs_y.T, p, c=1)\n",
    "\n",
    "    return B_bs, Z_bs, sigma_u_bs"
   ]
  },
  {
   "cell_type": "code",
   "execution_count": 5,
   "metadata": {},
   "outputs": [],
   "source": [
    "# bootstrapping function\n",
    "def bootstrap_se(Tpkmat, p, R):\n",
    "    \"\"\"\n",
    "    Tpkmat:a T + p × K matrix of observations on yt\n",
    "    p:the lag length\n",
    "    R: and the number of bootstrap replications\n",
    "    returns the bootstrap standard error of VAR coefficients in B \n",
    "    \"\"\"\n",
    "    y = Tpkmat.T # transpose input matrix to K x (T+p)\n",
    "    T = y.shape[1] - p # get T (number of observations)\n",
    "    K = y.shape[0]\n",
    "\n",
    "    '''\n",
    "    Description from Lütkepohl, appendix D, page 709\n",
    "    (1) The parameters of the model under consideration are estimated. Let uthat, t = 1, . . . , T, be the estimation residuals.\n",
    "    '''\n",
    "\n",
    "    B, Z, sigma_u = B_matrix(Tpkmat, p, c=1)\n",
    "\n",
    "\n",
    "    \n",
    "    # apply bootstrapping using helper function from above\n",
    "    for i in range(R):\n",
    "        if i == 0:\n",
    "            B_bs_list, _, _ = resid_bootstrap(y,T,K,B,Z, p)\n",
    "        else:\n",
    "            B_bs, _, _ = resid_bootstrap(y,T,K,B,Z, p)\n",
    "            B_bs_list = np.dstack((B_bs_list, B_bs))\n",
    "    \n",
    "    #calculate standard error\n",
    "    Bbar_bs_list = np.mean(B_bs_list, axis = 2)\n",
    "    deviation = B_bs_list - Bbar_bs_list[:, :, None]\n",
    "    deviation_squared = deviation**2\n",
    "    sd = np.sqrt(np.sum(deviation_squared, axis=2)/(R-1))\n",
    "\n",
    "    return sd.T"
   ]
  },
  {
   "cell_type": "markdown",
   "metadata": {},
   "source": [
    "#### Exercise 2"
   ]
  },
  {
   "cell_type": "code",
   "execution_count": 6,
   "metadata": {},
   "outputs": [],
   "source": [
    "# read in data\n",
    "awm = pd.read_csv(\"awm19up18.csv\")\n",
    "awm.rename(columns={awm.columns[0]: \"Q\" }, inplace = True)\n",
    "\n",
    "of_interest = [\"Q\", \"YER\", \"ITR\", \"LTN\", \"STN\"]\n",
    "awm = awm[awm.columns.intersection(of_interest)]\n",
    "awm.set_index('Q', inplace=True)"
   ]
  },
  {
   "cell_type": "code",
   "execution_count": 7,
   "metadata": {},
   "outputs": [],
   "source": [
    "# calculate logs and first differences and assign names accordingly\n",
    "awm[\"YER_log\"] = np.log(awm['YER'])\n",
    "awm[\"ITR_log\"] = np.log(awm['ITR'])\n",
    "\n",
    "awm[\"d_lgdp\"] = awm[\"YER_log\"].diff()\n",
    "awm[\"d_invest\"] = awm[\"ITR_log\"].diff()\n",
    "\n",
    "awm[\"d_lgdp\"] = awm[\"d_lgdp\"] * 400\n",
    "awm[\"d_invest\"] = awm[\"d_invest\"] * 400\n",
    "\n",
    "awm[\"d_R\"] = awm[\"LTN\"].diff()\n",
    "awm[\"d_r\"] = awm[\"STN\"].diff()\n",
    "\n",
    "awm.dropna(inplace=True)"
   ]
  },
  {
   "cell_type": "code",
   "execution_count": 8,
   "metadata": {},
   "outputs": [],
   "source": [
    "# get the input for our function\n",
    "y_t = np.array(awm[[\"d_lgdp\", \"d_invest\", \"d_R\", \"d_r\"]])"
   ]
  },
  {
   "cell_type": "code",
   "execution_count": 9,
   "metadata": {},
   "outputs": [],
   "source": [
    "# test our function\n",
    "B, Z, sigma_u = B_matrix(y_t, p=2, c=1)\n",
    "B_se = bootstrap_se(y_t, 2, R=499)"
   ]
  },
  {
   "cell_type": "code",
   "execution_count": 10,
   "metadata": {},
   "outputs": [
    {
     "name": "stdout",
     "output_type": "stream",
     "text": [
      "[[0.30425759 0.73592353 0.04279562 0.06816006]\n",
      " [0.10002155 0.25754394 0.01404188 0.02396775]\n",
      " [0.03856782 0.09594441 0.00597267 0.00995316]\n",
      " [0.54897577 1.41293458 0.08084083 0.12250975]\n",
      " [0.34146842 0.8693739  0.04951256 0.07961024]\n",
      " [0.10022499 0.25092225 0.01623496 0.02512259]\n",
      " [0.03718894 0.08926193 0.00607914 0.00881139]\n",
      " [0.53032229 1.33326117 0.08121617 0.13284352]\n",
      " [0.31073515 0.80000332 0.04762424 0.07529631]]\n"
     ]
    }
   ],
   "source": [
    "# show our B_se\n",
    "print(B_se)"
   ]
  },
  {
   "cell_type": "code",
   "execution_count": 11,
   "metadata": {},
   "outputs": [
    {
     "data": {
      "text/plain": [
       "array([[0.2697177 , 0.6727813 , 0.04033584, 0.0646388 ],\n",
       "       [0.09634184, 0.24031419, 0.01440777, 0.02308866],\n",
       "       [0.03812077, 0.09508808, 0.0057009 , 0.00913578],\n",
       "       [0.53710206, 1.3397423 , 0.08032274, 0.12871841],\n",
       "       [0.33948962, 0.8468197 , 0.05077012, 0.08135989],\n",
       "       [0.10218602, 0.25489185, 0.01528175, 0.02448924],\n",
       "       [0.03699542, 0.09228102, 0.0055326 , 0.00886608],\n",
       "       [0.54350851, 1.3557225 , 0.08128081, 0.13025374],\n",
       "       [0.32538508, 0.81163747, 0.04866081, 0.07797969]])"
      ]
     },
     "execution_count": 11,
     "metadata": {},
     "output_type": "execute_result"
    }
   ],
   "source": [
    "# Compare to built-in function from VAR package\n",
    "model = VAR(y_t)\n",
    "var = model.fit(2) #number = lag order\n",
    "var.bse # standard errors"
   ]
  },
  {
   "cell_type": "code",
   "execution_count": 12,
   "metadata": {
    "tags": []
   },
   "outputs": [],
   "source": [
    "# show whole built-in output \n",
    "#var.summary()"
   ]
  },
  {
   "cell_type": "markdown",
   "metadata": {},
   "source": [
    "#### Exercise 3"
   ]
  },
  {
   "cell_type": "code",
   "execution_count": 13,
   "metadata": {},
   "outputs": [],
   "source": [
    "def var2sim(A1: np.array, A2: np.array, sigma_u: np.array, T: int):\n",
    "    \"\"\"A function that simulates time series data from a K-dimensional VAR(2) process yt = A1 y_t−1 + A2 y_t−2 + u_t, \n",
    "    where the innovations ut are drawn from a multivariate normal distribution with mean zero and covariance matrix Σ_u. \n",
    "    Uses y_−1 = y_0 = 0 as starting values, where 0 is a K ×1 vector of zeros.\n",
    "    Generates time series of length T+50 and discards the first 50 observations, such that it returns a time series of total length equal to T.\n",
    "\n",
    "    Args:\n",
    "        A1 (np.array): coefficient matrix at lag 1\n",
    "        A2 (np.array): coefficient matrix at lag 2\n",
    "        sigma_u (np.array): covariance matrix Σ_u\n",
    "        T (int): number of observations\n",
    "\n",
    "    Returns:\n",
    "        np.array: T x K matrix of observations on y_t\n",
    "    \"\"\"\n",
    "    K = sigma_u.shape[0]\n",
    "\n",
    "    # set starting values\n",
    "    y_tminus1 = np.zeros((K, 1))\n",
    "    y_tminus2 = np.zeros((K, 1))\n",
    "\n",
    "    P = np.linalg.cholesky(sigma_u)\n",
    "\n",
    "    for i in range(T+50):\n",
    "        # draw disturbance u_t\n",
    "        u_t = P @ np.random.standard_normal(K)\n",
    "        u_t = u_t.reshape(K, 1)\n",
    "        #recursively calculate y_t \n",
    "        y_t = A1@y_tminus1 + A2@y_tminus2 - 2 + u_t\n",
    "        if i == 0:\n",
    "            y = y_t\n",
    "        else:\n",
    "            y = np.hstack((y, y_t))\n",
    "        y_tminus2 = y_tminus1\n",
    "        y_tminus1 = y_t\n",
    "\n",
    "    # discard first 50 observations\n",
    "    y = y[:,50:]\n",
    "\n",
    "    return y.T"
   ]
  },
  {
   "cell_type": "code",
   "execution_count": 14,
   "metadata": {
    "tags": []
   },
   "outputs": [
    {
     "data": {
      "text/plain": [
       "array([[ 2.28971509e+00,  1.55043403e+01, -3.52301237e+00,\n",
       "        -3.01881083e+00],\n",
       "       [-9.57069986e-01,  1.32301899e+01, -3.90374498e+00,\n",
       "        -3.50761557e+00],\n",
       "       [-1.63443569e+00,  3.80784070e+00, -3.23163154e+00,\n",
       "        -3.95836158e+00],\n",
       "       [ 1.32698380e-01,  7.18128084e+00, -3.37339436e+00,\n",
       "        -4.14400849e+00],\n",
       "       [ 2.01951392e+00,  1.09452270e+01, -3.57049678e+00,\n",
       "        -2.44118585e+00],\n",
       "       [ 3.28337165e+00,  2.15674529e+01, -3.46502658e+00,\n",
       "        -2.75677552e+00],\n",
       "       [ 2.71629648e+00,  1.72853498e+01, -3.20029610e+00,\n",
       "        -3.18901292e+00],\n",
       "       [ 9.27610515e-01,  1.65433744e+01, -3.16081049e+00,\n",
       "        -2.88865798e+00],\n",
       "       [ 2.73123063e+00,  1.12577330e+01, -3.18966837e+00,\n",
       "        -2.53708950e+00],\n",
       "       [ 3.79696187e+00,  1.24905425e+01, -3.36350744e+00,\n",
       "        -2.94686662e+00],\n",
       "       [-1.62530776e+00,  2.60959583e+00, -3.17012215e+00,\n",
       "        -3.02413410e+00],\n",
       "       [ 4.30665747e-02,  7.47925997e+00, -3.89470104e+00,\n",
       "        -3.80467345e+00],\n",
       "       [ 1.64683142e+00,  1.46420462e+01, -3.88303026e+00,\n",
       "        -4.35766235e+00],\n",
       "       [-5.03618909e+00,  2.03754876e+00, -3.29018594e+00,\n",
       "        -4.18412778e+00],\n",
       "       [-7.16252880e-01,  4.58198997e+00, -3.00386958e+00,\n",
       "        -2.86554058e+00],\n",
       "       [ 2.01589365e+00,  1.36600481e+01, -3.47635614e+00,\n",
       "        -2.16311063e+00],\n",
       "       [-4.07362284e-01,  5.58652423e+00, -3.31821298e+00,\n",
       "        -2.47690369e+00],\n",
       "       [-2.44012682e-01,  1.19191584e+01, -2.95681765e+00,\n",
       "        -3.04907217e+00],\n",
       "       [-3.86793715e+00, -9.34297059e-01, -3.85393340e+00,\n",
       "        -3.80984234e+00],\n",
       "       [-2.17273612e+00,  1.42235187e+01, -4.09015216e+00,\n",
       "        -3.75715602e+00],\n",
       "       [-3.04429802e+00,  1.04254311e+01, -4.37916328e+00,\n",
       "        -3.37916509e+00],\n",
       "       [-4.12577586e-01,  4.63639275e+00, -3.84908051e+00,\n",
       "        -3.66002415e+00],\n",
       "       [ 1.65893793e+00,  1.80859168e+01, -3.16357490e+00,\n",
       "        -3.24351138e+00],\n",
       "       [ 1.81015002e+00,  7.17348602e+00, -2.70763350e+00,\n",
       "        -2.61090831e+00],\n",
       "       [ 2.18600858e+00,  6.03081539e+00, -3.56392396e+00,\n",
       "        -3.05846758e+00],\n",
       "       [ 3.88645197e+00,  1.22142977e+01, -3.47451363e+00,\n",
       "        -3.10052959e+00],\n",
       "       [ 6.85374119e+00,  1.93407639e+01, -3.18227693e+00,\n",
       "        -2.33168326e+00],\n",
       "       [ 5.51617149e+00,  1.83059684e+01, -3.02378838e+00,\n",
       "        -2.44031674e+00],\n",
       "       [ 5.37968032e+00,  1.92890636e+01, -3.48787142e+00,\n",
       "        -2.21947138e+00],\n",
       "       [ 2.56492814e+00,  1.30504263e+01, -3.00114282e+00,\n",
       "        -2.44648613e+00],\n",
       "       [ 3.36226356e+00,  1.10153509e+01, -3.55387066e+00,\n",
       "        -3.55922860e+00],\n",
       "       [ 2.40921230e+00,  1.64204506e+01, -3.33368306e+00,\n",
       "        -2.97664671e+00],\n",
       "       [ 6.26517379e+00,  2.56429434e+01, -3.06150081e+00,\n",
       "        -2.30109461e+00],\n",
       "       [-1.31855003e+00,  1.44349385e+01, -3.08485230e+00,\n",
       "        -3.00556053e+00],\n",
       "       [ 3.02801302e+00,  1.92256568e+01, -2.74668882e+00,\n",
       "        -2.65568616e+00],\n",
       "       [-2.38081032e+00,  7.76371960e+00, -3.22201859e+00,\n",
       "        -2.11690854e+00],\n",
       "       [ 1.25001501e+00,  1.06873893e+01, -3.31162821e+00,\n",
       "        -3.18006589e+00],\n",
       "       [ 3.33599314e+00,  1.63687408e+01, -3.12018048e+00,\n",
       "        -2.66995218e+00],\n",
       "       [ 2.53245810e+00,  1.56973514e+01, -2.72656133e+00,\n",
       "        -1.76497692e+00],\n",
       "       [ 1.63098602e+00,  1.48414336e+01, -2.64200880e+00,\n",
       "        -1.84680358e+00],\n",
       "       [ 1.22747713e+00,  1.21381987e+01, -3.47571561e+00,\n",
       "        -2.21568447e+00],\n",
       "       [ 7.40668100e-01,  1.51623322e+01, -3.39414475e+00,\n",
       "        -3.23152688e+00],\n",
       "       [ 2.11222840e+00,  7.86541844e+00, -3.05044533e+00,\n",
       "        -2.94786212e+00],\n",
       "       [ 1.63842006e+00,  6.94853871e+00, -3.42286850e+00,\n",
       "        -3.18422984e+00],\n",
       "       [ 1.04004018e+00,  4.66879351e+00, -3.63564466e+00,\n",
       "        -3.62090232e+00],\n",
       "       [ 4.23141200e+00,  1.69620613e+01, -3.24706624e+00,\n",
       "        -3.75208421e+00],\n",
       "       [ 3.41984449e+00,  1.27660764e+01, -3.51658922e+00,\n",
       "        -3.18524072e+00],\n",
       "       [ 5.41572201e+00,  1.62353068e+01, -3.12603656e+00,\n",
       "        -2.36792804e+00],\n",
       "       [ 2.09288301e+00,  6.71460227e+00, -3.52334279e+00,\n",
       "        -2.59579476e+00],\n",
       "       [ 4.87168274e+00,  1.59826617e+01, -3.38086513e+00,\n",
       "        -3.24934013e+00],\n",
       "       [ 1.52414500e+00,  1.39792674e+01, -3.69146828e+00,\n",
       "        -2.70205810e+00],\n",
       "       [ 2.55251795e+00,  1.47050839e+01, -3.41376380e+00,\n",
       "        -2.77000683e+00],\n",
       "       [ 1.25374140e+00,  1.16095850e+01, -3.42417834e+00,\n",
       "        -3.31225187e+00],\n",
       "       [ 6.92263705e-01,  1.13352909e+01, -3.43371567e+00,\n",
       "        -3.81040640e+00],\n",
       "       [-6.93438214e-01,  1.23095219e+01, -3.46033900e+00,\n",
       "        -3.16280405e+00],\n",
       "       [ 9.98116761e-01,  1.02906196e+01, -3.44489295e+00,\n",
       "        -4.10520943e+00],\n",
       "       [ 5.68049859e-01,  1.46330855e+01, -3.32353153e+00,\n",
       "        -3.68518422e+00],\n",
       "       [ 2.74683468e+00,  1.33003471e+01, -2.86949013e+00,\n",
       "        -2.26851348e+00],\n",
       "       [ 3.04134711e+00,  2.08731401e+01, -3.12908302e+00,\n",
       "        -3.07978869e+00],\n",
       "       [ 2.68006487e+00,  1.05039742e+01, -3.36977690e+00,\n",
       "        -2.45404067e+00],\n",
       "       [ 4.98158332e+00,  2.19798361e+01, -3.05971555e+00,\n",
       "        -2.48642473e+00],\n",
       "       [ 4.90727578e+00,  1.58105944e+01, -3.13068721e+00,\n",
       "        -2.51630954e+00],\n",
       "       [ 3.17218097e+00,  1.03687688e+01, -3.39092504e+00,\n",
       "        -2.58229960e+00],\n",
       "       [ 3.61465598e+00,  1.73656784e+01, -3.11172262e+00,\n",
       "        -3.24818989e+00],\n",
       "       [-3.22966514e+00,  1.36907468e+01, -3.58837550e+00,\n",
       "        -4.23963927e+00],\n",
       "       [ 2.52492739e-01,  1.66105078e+01, -3.78226921e+00,\n",
       "        -3.25297646e+00],\n",
       "       [-3.04188778e+00,  1.15152173e+01, -3.11033559e+00,\n",
       "        -3.77703916e+00],\n",
       "       [-5.29653391e+00,  3.90197251e+00, -3.17387532e+00,\n",
       "        -3.22026247e+00],\n",
       "       [-6.83790453e-01,  1.25341308e+01, -3.21123959e+00,\n",
       "        -3.46620464e+00],\n",
       "       [-1.32541039e+00,  6.80680223e+00, -3.40721225e+00,\n",
       "        -3.95335755e+00],\n",
       "       [-2.84695517e+00,  5.83149141e+00, -3.52855546e+00,\n",
       "        -3.62436854e+00],\n",
       "       [-9.56399922e-01,  2.62497125e+00, -3.38466092e+00,\n",
       "        -3.62319946e+00],\n",
       "       [-1.44187606e+00,  9.46766424e+00, -3.68822488e+00,\n",
       "        -3.50939461e+00],\n",
       "       [-1.62084058e-02,  1.07861868e+01, -3.46428037e+00,\n",
       "        -3.13706419e+00],\n",
       "       [ 1.45149359e+00,  1.52169889e+01, -3.13207274e+00,\n",
       "        -3.88504389e+00],\n",
       "       [ 4.21485685e+00,  1.87034112e+01, -3.01092840e+00,\n",
       "        -2.84035891e+00],\n",
       "       [ 2.52496176e+00,  1.84303759e+01, -3.26865579e+00,\n",
       "        -1.91865057e+00],\n",
       "       [ 3.49973067e+00,  1.45808362e+01, -3.28399902e+00,\n",
       "        -2.08793706e+00],\n",
       "       [ 1.04377061e-01,  1.26930065e+01, -3.37802215e+00,\n",
       "        -3.08539558e+00],\n",
       "       [ 6.21331116e-01,  8.21328347e+00, -3.73468676e+00,\n",
       "        -3.59509479e+00],\n",
       "       [ 5.37854186e-01,  9.84503935e+00, -3.61203775e+00,\n",
       "        -4.26860944e+00],\n",
       "       [-1.99444075e-01,  7.00361088e+00, -3.81164672e+00,\n",
       "        -3.86297799e+00],\n",
       "       [ 3.93491310e+00,  1.53208921e+01, -3.63886859e+00,\n",
       "        -4.69993367e+00],\n",
       "       [ 3.30769105e+00,  7.07847323e+00, -3.77751638e+00,\n",
       "        -3.78448427e+00],\n",
       "       [ 5.64797431e+00,  3.13284635e+01, -2.83205349e+00,\n",
       "        -2.52479980e+00],\n",
       "       [ 6.28346165e+00,  1.69986730e+01, -2.60759660e+00,\n",
       "        -3.07310078e+00],\n",
       "       [ 5.08360500e+00,  2.32749467e+01, -2.54927558e+00,\n",
       "        -1.87908567e+00],\n",
       "       [ 4.54983379e+00,  1.30000204e+01, -2.92175061e+00,\n",
       "        -2.19502087e+00],\n",
       "       [ 5.24088196e+00,  2.32536200e+01, -3.46104937e+00,\n",
       "        -2.38199560e+00],\n",
       "       [ 2.29540564e+00,  1.74424400e+01, -3.55137462e+00,\n",
       "        -2.52396470e+00],\n",
       "       [-1.48998835e-02,  7.54447530e+00, -4.06224800e+00,\n",
       "        -4.03508084e+00],\n",
       "       [ 1.14744206e+00,  1.00104227e+01, -3.97690779e+00,\n",
       "        -3.65425049e+00],\n",
       "       [ 9.02838248e-02,  1.16304925e+01, -3.63460414e+00,\n",
       "        -3.76673203e+00],\n",
       "       [-1.77021665e+00, -4.20779411e-01, -3.09700894e+00,\n",
       "        -2.63586050e+00],\n",
       "       [-2.05250257e+00,  8.11548453e+00, -2.82859997e+00,\n",
       "        -2.25681802e+00],\n",
       "       [-8.47396127e-01,  9.73503632e+00, -3.33449356e+00,\n",
       "        -2.85457545e+00],\n",
       "       [-2.67162721e+00, -1.15689903e+00, -3.61557110e+00,\n",
       "        -3.46269362e+00],\n",
       "       [ 1.69307887e-01,  1.18775052e+01, -3.72594998e+00,\n",
       "        -3.71090462e+00],\n",
       "       [ 9.70187757e-01,  1.93888392e+00, -3.32185043e+00,\n",
       "        -3.12671657e+00],\n",
       "       [ 1.95483506e+00,  1.66402097e+01, -3.30604949e+00,\n",
       "        -2.46684142e+00]])"
      ]
     },
     "execution_count": 14,
     "metadata": {},
     "output_type": "execute_result"
    }
   ],
   "source": [
    "# Test our var2sim function\n",
    "\n",
    "K = 4\n",
    "p = 2\n",
    "T = 100\n",
    "\n",
    "A1 = B[:,1:K+1]\n",
    "A2 = B[:,K+1:2*K+1]\n",
    "\n",
    "var2sim(A1, A2, sigma_u, T)"
   ]
  },
  {
   "cell_type": "markdown",
   "metadata": {},
   "source": [
    "#### Exercise 4"
   ]
  },
  {
   "cell_type": "code",
   "execution_count": 15,
   "metadata": {},
   "outputs": [],
   "source": [
    "def hstep_forecast(y: np.array, p: int, h: int):\n",
    "    \"\"\"A function that computes the h-step ahead point forecasts y_T (h) and the corresponding MSE matrix Σˆ_y(h) based on a VAR(p) with intercept\n",
    "\n",
    "    Args:\n",
    "        y (np.array): K × T matrix of observations\n",
    "        p (int): lag order\n",
    "        h (int): forecast horizon\n",
    "\n",
    "    Returns:\n",
    "        list: h-step ahead forecasts and the corresponding MSE matrix\n",
    "    \"\"\"\n",
    "    \n",
    "    K = y.shape[0]\n",
    "    T = y.shape[1]\n",
    "\n",
    "    # retrieving estimates\n",
    "    B, Z, sigma_u = B_matrix(y.T, p, c=1)\n",
    "\n",
    "    # constructing matrices\n",
    "    J1 = np.hstack((np.zeros((K, 1)), np.identity(K), np.zeros((K, K*(p-1)))))\n",
    "\n",
    "    row0 = np.hstack((np.ones((1,1)), np.zeros((1, K*p))))\n",
    "    rowz = np.hstack((np.zeros((K*(p-1), 1)), np.identity(K*(p-1)), np.zeros((K*(p-1), K))))\n",
    "    B = np.vstack((row0, B, rowz))\n",
    "\n",
    "    Zt = y[:,-p:]                       # selecting y[:,-p:] from t-p up to t\n",
    "    Zt = Zt[:,::-1].T.flatten()             # reverse order horizontally, transpose and flatten.\n",
    "    Zt = np.hstack((np.array([(1)]), Zt)).reshape(K*p+1, 1)   # adding one leading 1, transposing, dimension is: 1+K*T x 1\n",
    "   \n",
    "     # predicting y_th\n",
    "    y_th = J1@mp(B, h)@Zt\n",
    "    \n",
    "    # calculate the corresponding MSE matrix\n",
    "    sigma_hat_yh = 0\n",
    "    for i in range(h):                # formula at p. 64\n",
    "        PHIi = J1@mp(B, i)@J1.T \n",
    "        part_of_sum = PHIi@sigma_u@PHIi.T\n",
    "        sigma_hat_yh += part_of_sum\n",
    "\n",
    "    return y_th, sigma_hat_yh"
   ]
  },
  {
   "cell_type": "markdown",
   "metadata": {},
   "source": [
    "#### Exercise 5"
   ]
  },
  {
   "cell_type": "code",
   "execution_count": 16,
   "metadata": {},
   "outputs": [],
   "source": [
    "# Define parameters\n",
    "\n",
    "T = 100\n",
    "p = 2\n",
    "\n",
    "A1 = np.array([(0.4, 0.25), (0.0, 0.5)])\n",
    "A2 = np.array([(0.2, 0.4), (0.0, 0.0)])\n",
    "sigma_u = np.array([(1, 0.5), (0.5, 1)])"
   ]
  },
  {
   "cell_type": "code",
   "execution_count": 17,
   "metadata": {},
   "outputs": [],
   "source": [
    "# Test functions\n",
    "\n",
    "time_series_TK = var2sim(A1, A2, sigma_u, T)"
   ]
  },
  {
   "cell_type": "code",
   "execution_count": 18,
   "metadata": {},
   "outputs": [
    {
     "name": "stdout",
     "output_type": "stream",
     "text": [
      "[[-13.62604712]\n",
      " [ -4.11882076]]\n"
     ]
    },
    {
     "data": {
      "text/plain": [
       "array([[1.06892064, 0.54797763],\n",
       "       [0.54797763, 1.00714966]])"
      ]
     },
     "execution_count": 18,
     "metadata": {},
     "output_type": "execute_result"
    }
   ],
   "source": [
    "# Forecast horizon h = 1\n",
    "h = 1\n",
    "y_th1, mse_mat1 = hstep_forecast(time_series_TK.T, p, h)\n",
    "\n",
    "print(y_th1) \n",
    "mse_mat1"
   ]
  },
  {
   "cell_type": "code",
   "execution_count": 19,
   "metadata": {},
   "outputs": [
    {
     "name": "stdout",
     "output_type": "stream",
     "text": [
      "[[-12.53209079]\n",
      " [ -4.35780055]]\n"
     ]
    },
    {
     "data": {
      "text/plain": [
       "array([[3.02534847, 1.27699281],\n",
       "       [1.27699281, 1.61979859]])"
      ]
     },
     "execution_count": 19,
     "metadata": {},
     "output_type": "execute_result"
    }
   ],
   "source": [
    "# Forecast horizon h = 4\n",
    "h = 4\n",
    "y_th4, mse_mat4 = hstep_forecast(time_series_TK.T, p, h)\n",
    "print(y_th4) \n",
    "mse_mat4"
   ]
  },
  {
   "cell_type": "code",
   "execution_count": 20,
   "metadata": {},
   "outputs": [],
   "source": [
    "# set up 95 % interval forecast (assuming data is generated from gaussian process)\n",
    "\n",
    "CIone95 = [y_th1.reshape(2,) - 1.96 * np.sqrt(np.diag(mse_mat1)), y_th1.reshape(2,) + 1.96 * np.sqrt(np.diag(mse_mat1))]\n",
    "CIfour95 = [y_th4.reshape(2,) - 1.96 * np.sqrt(np.diag(mse_mat4)), y_th4.reshape(2,) + 1.96 * np.sqrt(np.diag(mse_mat4))]\n",
    "\n",
    "# note that resulting confidence have the for: [array of negative intervall bound for both k, array of positive intervall bound for both k]"
   ]
  },
  {
   "cell_type": "code",
   "execution_count": 21,
   "metadata": {},
   "outputs": [
    {
     "name": "stdout",
     "output_type": "stream",
     "text": [
      "[[-13.62604712  -4.11882076]]\n"
     ]
    },
    {
     "data": {
      "text/plain": [
       "array([[[1.06892064, 0.54797763],\n",
       "        [0.54797763, 1.00714966]]])"
      ]
     },
     "execution_count": 21,
     "metadata": {},
     "output_type": "execute_result"
    }
   ],
   "source": [
    "# Compare to built-in function from VAR package\n",
    "model = VAR(time_series_TK)\n",
    "results = model.fit(2)\n",
    "\n",
    "# result for h = 1\n",
    "print(results.forecast(time_series_TK, 1))\n",
    "results.mse(1)"
   ]
  },
  {
   "cell_type": "code",
   "execution_count": 22,
   "metadata": {},
   "outputs": [
    {
     "name": "stdout",
     "output_type": "stream",
     "text": [
      "[[-13.62604712  -4.11882076]\n",
      " [-13.16055237  -4.18331592]\n",
      " [-12.72339058  -4.28157107]\n",
      " [-12.53209079  -4.35780055]]\n"
     ]
    },
    {
     "data": {
      "text/plain": [
       "array([[[1.06892064, 0.54797763],\n",
       "        [0.54797763, 1.00714966]],\n",
       "\n",
       "       [[1.49135162, 0.89063576],\n",
       "        [0.89063576, 1.48543085]],\n",
       "\n",
       "       [[2.35096243, 1.18990685],\n",
       "        [1.18990685, 1.60719652]],\n",
       "\n",
       "       [[3.02534847, 1.27699281],\n",
       "        [1.27699281, 1.61979859]]])"
      ]
     },
     "execution_count": 22,
     "metadata": {},
     "output_type": "execute_result"
    }
   ],
   "source": [
    "# result for h = 4\n",
    "print(results.forecast(time_series_TK, 4))\n",
    "results.mse(4)"
   ]
  },
  {
   "cell_type": "code",
   "execution_count": null,
   "metadata": {},
   "outputs": [],
   "source": []
  }
 ],
 "metadata": {
  "kernelspec": {
   "display_name": "Python 3 (ipykernel)",
   "language": "python",
   "name": "python3"
  },
  "language_info": {
   "codemirror_mode": {
    "name": "ipython",
    "version": 3
   },
   "file_extension": ".py",
   "mimetype": "text/x-python",
   "name": "python",
   "nbconvert_exporter": "python",
   "pygments_lexer": "ipython3",
   "version": "3.9.7"
  },
  "vscode": {
   "interpreter": {
    "hash": "f53b217d8430526303bffcd87b390d5c67e67390f11595101f60a03768747934"
   }
  }
 },
 "nbformat": 4,
 "nbformat_minor": 4
}
