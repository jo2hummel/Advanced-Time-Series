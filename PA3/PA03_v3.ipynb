{
 "cells": [
  {
   "cell_type": "markdown",
   "metadata": {},
   "source": [
    "## Programming Assignment 03\n",
    "\n",
    "Student ID: \n",
    "\n",
    "Collaborators: "
   ]
  },
  {
   "cell_type": "code",
   "execution_count": 1,
   "metadata": {},
   "outputs": [
    {
     "name": "stderr",
     "output_type": "stream",
     "text": [
      "C:\\Users\\HP\\anaconda3\\lib\\site-packages\\statsmodels\\tsa\\base\\tsa_model.py:7: FutureWarning: pandas.Int64Index is deprecated and will be removed from pandas in a future version. Use pandas.Index with the appropriate dtype instead.\n",
      "  from pandas import (to_datetime, Int64Index, DatetimeIndex, Period,\n",
      "C:\\Users\\HP\\anaconda3\\lib\\site-packages\\statsmodels\\tsa\\base\\tsa_model.py:7: FutureWarning: pandas.Float64Index is deprecated and will be removed from pandas in a future version. Use pandas.Index with the appropriate dtype instead.\n",
      "  from pandas import (to_datetime, Int64Index, DatetimeIndex, Period,\n"
     ]
    }
   ],
   "source": [
    "import numpy as np\n",
    "import pandas as pd\n",
    "import scipy.stats as st\n",
    "from numpy.linalg import matrix_power as mp\n",
    "\n",
    "from statsmodels.tsa.api import VAR"
   ]
  },
  {
   "cell_type": "markdown",
   "metadata": {},
   "source": [
    "#### Helper Functions from previous assignments"
   ]
  },
  {
   "cell_type": "code",
   "execution_count": 2,
   "metadata": {},
   "outputs": [],
   "source": [
    "def Z_matrix(y: np.array, p: int, c: int):\n",
    "    \"\"\"Calculate the Z-matrix for a given input\n",
    "\n",
    "    Args:\n",
    "        y (np.array): input with all the data of shape (T + p) × K\n",
    "        p (int): lags\n",
    "        c (int): intercept yes=1, no=0\n",
    "\n",
    "    Returns:\n",
    "        (np.array): Z-matrix for given input\n",
    "    \"\"\"\n",
    "\n",
    "    y = y.T\n",
    "\n",
    "    #determine matrix dimensions:\n",
    "    T = y.shape[1] - p\n",
    "    K = y.shape[0]\n",
    "\n",
    "    # build Z-matrix\n",
    "    if c==1:\n",
    "        Z = np.ones((1, T+p), dtype=float)\n",
    "\n",
    "    # 1b stacked lagged data\n",
    "    for i in range(p):\n",
    "        #add i columns of leading zeros (EDIT: empty, comp cost lower) to ktpmat\n",
    "        zeros = np.zeros((K, i), dtype=float)\n",
    "        zerostack = np.hstack((zeros, y[:,:(T+p-i)]))\n",
    "        # vertically stack this to Z\n",
    "        Z = np.vstack((Z, zerostack))\n",
    "\n",
    "    # cutting of leading p columns and retrieving Z\n",
    "    Z = Z[:, p-1:-1]\n",
    "\n",
    "    return Z"
   ]
  },
  {
   "cell_type": "code",
   "execution_count": 3,
   "metadata": {},
   "outputs": [],
   "source": [
    "def B_matrix(y: np.array, p: int, c: int):\n",
    "    \"\"\"Calculates the B matrix with the estimated coefficients\n",
    "\n",
    "    Args:\n",
    "        y (np.array): input with all the data of shape (T + p) × K\n",
    "        p (int): lags\n",
    "        c (int): intercept yes=1, no=0\n",
    "\n",
    "    Returns:\n",
    "        _type_: B = matrix with estimated coefficients; Z=Z-matrix; sigma_u=covariance matrix\n",
    "    \"\"\"\n",
    "\n",
    "    # get Z-matrix from function above\n",
    "    Z = Z_matrix(y, p, c)\n",
    "\n",
    "    y = y.T # transpose y\n",
    "    y = y[:,p:] # first p observations are lost as we need prior lags for estimation\n",
    "    K = y.shape[0] # number of variables\n",
    "    T = y.shape[1] # number of observations\n",
    "\n",
    "    # calculate B\n",
    "    B = y @ Z.T @ np.linalg.inv((Z@Z.T))\n",
    "\n",
    "    # calculate sigma_u (covariance matrix)\n",
    "    sigma_u = (1/(T-K*p-1))*(y-(B@Z))@(y-(B@Z)).T\n",
    "\n",
    "    return B, Z, sigma_u"
   ]
  },
  {
   "cell_type": "markdown",
   "metadata": {},
   "source": [
    "#### Exercise 1"
   ]
  },
  {
   "cell_type": "code",
   "execution_count": 4,
   "metadata": {},
   "outputs": [],
   "source": [
    "def resid_bootstrap(Tpkmat, p):\n",
    "    '''\n",
    "    :param Tpkmat: a T + p × K matrix of observations on yt,\n",
    "    :param p: the lag length p,\n",
    "    :param R: and the number of bootstrap replications R as input.\n",
    "    :return: returns the bootstrap standard errors of the VAR coefficients in B\n",
    "    '''\n",
    "\n",
    "    y = Tpkmat.T # transpose input matrix to K x (T+p)\n",
    "    T = y.shape[1] - p # get T (number of observations)\n",
    "    K = y.shape[0]\n",
    "\n",
    "    '''\n",
    "    Description from Lütkepohl, appendix D, page 709\n",
    "    (1) The parameters of the model under consideration are estimated. Let uthat, t = 1, . . . , T, be the estimation residuals.\n",
    "    '''\n",
    "\n",
    "    B, Z, sigma_u = B_matrix(Tpkmat, p, c=1)\n",
    "\n",
    "    '''\n",
    "    (2) Centered residuals are computed (usual average). Bootstrap residuals u∗1, . . . , u∗T are then obtained by randomly drawing with replacement from the centered residuals.\n",
    "    '''\n",
    "\n",
    "    uthat = y[:,p:] - (B@Z)\n",
    "    uthatbar = np.sum(uthat, axis=1)/T\n",
    "    uthatcenterded = uthat - uthatbar.T.reshape(K, 1)\n",
    "    draws = np.random.randint(0, T, T)\n",
    "\n",
    "\n",
    "    '''\n",
    "    (3) Bootstrap time series are computed recursively [...]where the same initial values may be used for each generated series, (y∗ −p+1, . . . , y∗0) = (y−p+1, . . . , y0).\n",
    "    '''\n",
    "    # set bootstrap time series pre-sample values to the same presample series from original data for every repetition\n",
    "\n",
    "    bs_y = y[:,:p]\n",
    "\n",
    "    for i in range(T):\n",
    "        y_t = B[:,0] + uthatcenterded[:,draws[i]]\n",
    "        for l in range(p):\n",
    "            y_t = y_t + (B[:, (l*K+1):(l*K+K+1)] @ bs_y[:,-l])\n",
    "        bs_y = np.hstack((bs_y, y_t.reshape(K, 1)))\n",
    "\n",
    "    B_bs, Z_bs, sigma_u_bs = B_matrix(bs_y.T, p, c=1)\n",
    "\n",
    "    return B_bs, Z_bs, sigma_u_bs"
   ]
  },
  {
   "cell_type": "code",
   "execution_count": 5,
   "metadata": {},
   "outputs": [],
   "source": [
    "def bootstrap_se(Tpkmat, p, R):\n",
    "    K = Tpkmat.shape[1]\n",
    "\n",
    "    B_bs_list = np.empty((K, K*p+1))\n",
    "    for i in range(R):\n",
    "        B_bs, _, _ = resid_bootstrap(Tpkmat, p)\n",
    "        B_bs_list = np.dstack((B_bs_list, B_bs))\n",
    "\n",
    "    Bbar_bs_list = np.mean(B_bs_list, axis = 2)\n",
    "    deviation = B_bs_list - Bbar_bs_list[:, :, None]\n",
    "    deviation_squared = deviation**2\n",
    "    sd = np.sqrt(np.sum(deviation_squared, axis=2)/(R-1))\n",
    "    se = sd/np.sqrt(R)\n",
    "\n",
    "    return se"
   ]
  },
  {
   "cell_type": "markdown",
   "metadata": {},
   "source": [
    "#### Exercise 2"
   ]
  },
  {
   "cell_type": "code",
   "execution_count": 6,
   "metadata": {},
   "outputs": [],
   "source": [
    "# read in data\n",
    "awm = pd.read_csv(\"awm19up18.csv\")\n",
    "awm.rename(columns={awm.columns[0]: \"Q\" }, inplace = True)\n",
    "\n",
    "of_interest = [\"Q\", \"YER\", \"ITR\", \"LTN\", \"STN\"]\n",
    "awm = awm[awm.columns.intersection(of_interest)]\n",
    "awm.set_index('Q', inplace=True)"
   ]
  },
  {
   "cell_type": "code",
   "execution_count": 7,
   "metadata": {},
   "outputs": [],
   "source": [
    "# calculate logs and first differences and assign names accordingly\n",
    "awm[\"YER_log\"] = np.log(awm['YER'])\n",
    "awm[\"ITR_log\"] = np.log(awm['ITR'])\n",
    "\n",
    "awm[\"d_lgdp\"] = awm[\"YER_log\"].diff()\n",
    "awm[\"d_invest\"] = awm[\"ITR_log\"].diff()\n",
    "\n",
    "awm[\"d_lgdp\"] = awm[\"d_lgdp\"] * 400\n",
    "awm[\"d_invest\"] = awm[\"d_invest\"] * 400\n",
    "\n",
    "awm[\"d_R\"] = awm[\"LTN\"].diff()\n",
    "awm[\"d_r\"] = awm[\"STN\"].diff()\n",
    "\n",
    "awm.dropna(inplace=True)"
   ]
  },
  {
   "cell_type": "code",
   "execution_count": 8,
   "metadata": {},
   "outputs": [],
   "source": [
    "# get the input for our function\n",
    "y_t = np.array(awm[[\"d_lgdp\", \"d_invest\", \"d_R\", \"d_r\"]])"
   ]
  },
  {
   "cell_type": "code",
   "execution_count": 9,
   "metadata": {},
   "outputs": [],
   "source": [
    "# test our function\n",
    "B, Z, sigma_u = B_matrix(y_t, p=2, c=1)\n",
    "B_se = bootstrap_se(y_t, 2, R=499)"
   ]
  },
  {
   "cell_type": "code",
   "execution_count": 10,
   "metadata": {},
   "outputs": [
    {
     "data": {
      "text/plain": [
       "array([[ 8.19991990e-01,  4.41893745e-01, -3.09516135e-02,\n",
       "         3.53840313e-01,  2.80812932e-01,  1.40348551e-01,\n",
       "         2.89658568e-02, -6.61782716e-01, -6.99814626e-01],\n",
       "       [-1.00607134e+00,  1.20312057e+00, -2.28829643e-01,\n",
       "        -1.26631209e+00,  6.99606104e-01, -5.17309344e-02,\n",
       "         2.41250166e-01, -1.21968589e+00, -1.57970603e+00],\n",
       "       [-6.57473325e-02,  1.20603459e-02,  1.78784492e-04,\n",
       "         5.15582681e-01,  3.78561218e-02,  1.32232293e-02,\n",
       "        -5.88137520e-03, -2.20154123e-01,  7.06111408e-02],\n",
       "       [-2.43278598e-01,  7.28410851e-02, -7.47895590e-03,\n",
       "         4.22382718e-01,  2.78528354e-01,  3.87124972e-02,\n",
       "        -2.40842053e-03, -2.89226900e-01, -7.25841414e-02]])"
      ]
     },
     "execution_count": 10,
     "metadata": {},
     "output_type": "execute_result"
    }
   ],
   "source": [
    "# show our B\n",
    "B"
   ]
  },
  {
   "cell_type": "code",
   "execution_count": 11,
   "metadata": {},
   "outputs": [
    {
     "data": {
      "text/plain": [
       "array([[0.77190023, 2.7283103 , 3.01713067, 0.02657026, 0.09411188,\n",
       "        2.42180794, 2.91557075, 0.05327746, 0.04742767],\n",
       "       [0.58559912, 3.36772417, 3.01003595, 0.07371742, 0.1427841 ,\n",
       "        2.63617144, 5.41164219, 0.11860891, 0.11295921],\n",
       "       [0.01555725, 0.04976197, 0.12830207, 0.02852804, 0.03289061,\n",
       "        0.04137467, 0.07066695, 0.00891678, 0.02201646],\n",
       "       [0.01721686, 0.2250957 , 0.40636276, 0.0354957 , 0.07136084,\n",
       "        0.18387073, 0.34500189, 0.00983931, 0.0250677 ]])"
      ]
     },
     "execution_count": 11,
     "metadata": {},
     "output_type": "execute_result"
    }
   ],
   "source": [
    "# show our B_se\n",
    "B_se"
   ]
  },
  {
   "cell_type": "code",
   "execution_count": 12,
   "metadata": {},
   "outputs": [
    {
     "data": {
      "text/plain": [
       "array([[0.2697177 , 0.6727813 , 0.04033584, 0.0646388 ],\n",
       "       [0.09634184, 0.24031419, 0.01440777, 0.02308866],\n",
       "       [0.03812077, 0.09508808, 0.0057009 , 0.00913578],\n",
       "       [0.53710206, 1.3397423 , 0.08032274, 0.12871841],\n",
       "       [0.33948962, 0.8468197 , 0.05077012, 0.08135989],\n",
       "       [0.10218602, 0.25489185, 0.01528175, 0.02448924],\n",
       "       [0.03699542, 0.09228102, 0.0055326 , 0.00886608],\n",
       "       [0.54350851, 1.3557225 , 0.08128081, 0.13025374],\n",
       "       [0.32538508, 0.81163747, 0.04866081, 0.07797969]])"
      ]
     },
     "execution_count": 12,
     "metadata": {},
     "output_type": "execute_result"
    }
   ],
   "source": [
    "# Compare to built-in function from VAR package\n",
    "model = VAR(y_t)\n",
    "var = model.fit(2) #number = lag order\n",
    "var.bse # standard errors"
   ]
  },
  {
   "cell_type": "code",
   "execution_count": 13,
   "metadata": {
    "collapsed": true,
    "jupyter": {
     "outputs_hidden": true
    },
    "tags": []
   },
   "outputs": [
    {
     "data": {
      "text/plain": [
       "  Summary of Regression Results   \n",
       "==================================\n",
       "Model:                         VAR\n",
       "Method:                        OLS\n",
       "Date:           Sun, 11, Dec, 2022\n",
       "Time:                     18:15:16\n",
       "--------------------------------------------------------------------\n",
       "No. of Equations:         4.00000    BIC:                    1.40924\n",
       "Nobs:                     189.000    HQIC:                   1.04192\n",
       "Log likelihood:          -1111.54    FPE:                    2.20793\n",
       "AIC:                     0.791766    Det(Omega_mle):         1.83304\n",
       "--------------------------------------------------------------------\n",
       "Results for equation y1\n",
       "========================================================================\n",
       "           coefficient       std. error           t-stat            prob\n",
       "------------------------------------------------------------------------\n",
       "const         0.819992         0.269718            3.040           0.002\n",
       "L1.y1         0.441894         0.096342            4.587           0.000\n",
       "L1.y2        -0.030952         0.038121           -0.812           0.417\n",
       "L1.y3         0.353840         0.537102            0.659           0.510\n",
       "L1.y4         0.280813         0.339490            0.827           0.408\n",
       "L2.y1         0.140349         0.102186            1.373           0.170\n",
       "L2.y2         0.028966         0.036995            0.783           0.434\n",
       "L2.y3        -0.661783         0.543509           -1.218           0.223\n",
       "L2.y4        -0.699815         0.325385           -2.151           0.031\n",
       "========================================================================\n",
       "\n",
       "Results for equation y2\n",
       "========================================================================\n",
       "           coefficient       std. error           t-stat            prob\n",
       "------------------------------------------------------------------------\n",
       "const        -1.006071         0.672781           -1.495           0.135\n",
       "L1.y1         1.203121         0.240314            5.006           0.000\n",
       "L1.y2        -0.228830         0.095088           -2.407           0.016\n",
       "L1.y3        -1.266312         1.339742           -0.945           0.345\n",
       "L1.y4         0.699606         0.846820            0.826           0.409\n",
       "L2.y1        -0.051731         0.254892           -0.203           0.839\n",
       "L2.y2         0.241250         0.092281            2.614           0.009\n",
       "L2.y3        -1.219686         1.355722           -0.900           0.368\n",
       "L2.y4        -1.579706         0.811637           -1.946           0.052\n",
       "========================================================================\n",
       "\n",
       "Results for equation y3\n",
       "========================================================================\n",
       "           coefficient       std. error           t-stat            prob\n",
       "------------------------------------------------------------------------\n",
       "const        -0.065747         0.040336           -1.630           0.103\n",
       "L1.y1         0.012060         0.014408            0.837           0.403\n",
       "L1.y2         0.000179         0.005701            0.031           0.975\n",
       "L1.y3         0.515583         0.080323            6.419           0.000\n",
       "L1.y4         0.037856         0.050770            0.746           0.456\n",
       "L2.y1         0.013223         0.015282            0.865           0.387\n",
       "L2.y2        -0.005881         0.005533           -1.063           0.288\n",
       "L2.y3        -0.220154         0.081281           -2.709           0.007\n",
       "L2.y4         0.070611         0.048661            1.451           0.147\n",
       "========================================================================\n",
       "\n",
       "Results for equation y4\n",
       "========================================================================\n",
       "           coefficient       std. error           t-stat            prob\n",
       "------------------------------------------------------------------------\n",
       "const        -0.243279         0.064639           -3.764           0.000\n",
       "L1.y1         0.072841         0.023089            3.155           0.002\n",
       "L1.y2        -0.007479         0.009136           -0.819           0.413\n",
       "L1.y3         0.422383         0.128718            3.281           0.001\n",
       "L1.y4         0.278528         0.081360            3.423           0.001\n",
       "L2.y1         0.038712         0.024489            1.581           0.114\n",
       "L2.y2        -0.002408         0.008866           -0.272           0.786\n",
       "L2.y3        -0.289227         0.130254           -2.220           0.026\n",
       "L2.y4        -0.072584         0.077980           -0.931           0.352\n",
       "========================================================================\n",
       "\n",
       "Correlation matrix of residuals\n",
       "            y1        y2        y3        y4\n",
       "y1    1.000000  0.639853  0.120617  0.204882\n",
       "y2    0.639853  1.000000  0.115598  0.191145\n",
       "y3    0.120617  0.115598  1.000000  0.409821\n",
       "y4    0.204882  0.191145  0.409821  1.000000\n",
       "\n"
      ]
     },
     "execution_count": 13,
     "metadata": {},
     "output_type": "execute_result"
    }
   ],
   "source": [
    "# show whole built-in output \n",
    "var.summary()"
   ]
  },
  {
   "cell_type": "markdown",
   "metadata": {},
   "source": [
    "#### Exercise 3"
   ]
  },
  {
   "cell_type": "code",
   "execution_count": 14,
   "metadata": {},
   "outputs": [],
   "source": [
    "def var2sim(A1: np.array, A2: np.array, sigma_u: np.array, T: int):\n",
    "    \"\"\"A function that simulates time series data from a K-dimensional VAR(2) process yt = A1 y_t−1 + A2 y_t−2 + u_t, \n",
    "    where the innovations ut are drawn from a multivariate normal distribution with mean zero and covariance matrix Σ_u. \n",
    "    Uses y_−1 = y_0 = 0 as starting values, where 0 is a K ×1 vector of zeros.\n",
    "    Generates time series of length T+50 and discards the first 50 observations, such that it returns a time series of total length equal to T.\n",
    "\n",
    "    Args:\n",
    "        A1 (np.array): coefficient matrix at lag 1\n",
    "        A2 (np.array): coefficient matrix at lag 2\n",
    "        sigma_u (np.array): covariance matrix Σ_u\n",
    "        T (int): number of observations\n",
    "\n",
    "    Returns:\n",
    "        np.array: T x K matrix of observations on y_t\n",
    "    \"\"\"\n",
    "    K = sigma_u.shape[0]\n",
    "\n",
    "    # set starting values\n",
    "    y_tminus1 = np.zeros((K, 1))\n",
    "    y_tminus2 = np.zeros((K, 1))\n",
    "\n",
    "    P = np.linalg.cholesky(sigma_u)\n",
    "\n",
    "    y = np.empty((K, 0))\n",
    "    for i in range(T+50):\n",
    "        # draw disturbance u_t\n",
    "        u_t = P @ np.random.standard_normal(K)\n",
    "        u_t = u_t.reshape(K, 1)\n",
    "        #recursively calculate y_t\n",
    "        y_t = A1@y_tminus1 + A2@y_tminus2 - 2 + u_t\n",
    "        y = np.hstack((y, y_t))\n",
    "        y_tminus2 = y_tminus1\n",
    "        y_tminus1 = y_t\n",
    "\n",
    "    # discard first 50 observations\n",
    "    y = y[:,50:]\n",
    "\n",
    "    return y.T"
   ]
  },
  {
   "cell_type": "code",
   "execution_count": 15,
   "metadata": {
    "collapsed": true,
    "jupyter": {
     "outputs_hidden": true
    },
    "tags": []
   },
   "outputs": [
    {
     "data": {
      "text/plain": [
       "array([[-4.68394468,  0.42682324, -3.59379327, -2.5425902 ],\n",
       "       [-0.88359543,  2.70710557, -3.35717274, -3.23704861],\n",
       "       [ 0.178621  ,  8.65946396, -3.63458451, -2.25884941],\n",
       "       [-0.46834474,  7.80974746, -3.23199473, -2.57816545],\n",
       "       [ 0.78630907, 16.09948362, -3.05393645, -2.64911336],\n",
       "       [ 0.80532192,  5.27952662, -2.88565707, -2.58557739],\n",
       "       [-1.88891858,  4.97734656, -2.78614877, -2.21102917],\n",
       "       [ 1.99784466,  3.5957491 , -2.97071212, -2.73262906],\n",
       "       [ 1.02148588,  9.39634071, -3.50501368, -3.99386185],\n",
       "       [-3.75392884,  2.87351513, -3.37095897, -2.61869721],\n",
       "       [-0.80915108, 11.6791593 , -3.65121712, -3.94393205],\n",
       "       [ 2.33675677,  8.43246102, -3.26002506, -3.46499289],\n",
       "       [ 4.62190574,  8.27507816, -3.50026745, -3.26527697],\n",
       "       [ 2.39832444, 15.95938805, -3.35073803, -2.89998067],\n",
       "       [ 3.85381637, 16.33030437, -3.42237127, -2.7059405 ],\n",
       "       [-0.53617772, 12.45887911, -3.26455634, -3.75367201],\n",
       "       [ 1.15053275, 11.1910694 , -3.06364764, -2.70018367],\n",
       "       [ 1.29100274,  9.95304072, -3.06399749, -2.70907893],\n",
       "       [ 0.8982802 ,  0.2153755 , -3.75675696, -2.87326615],\n",
       "       [ 0.83806195, 13.68332436, -3.63108175, -3.37799086],\n",
       "       [ 1.03481933, 13.80065653, -3.241459  , -2.92969437],\n",
       "       [ 2.2424415 , 12.04174618, -3.18887201, -3.10887463],\n",
       "       [ 2.33977133, 24.24808059, -3.11108756, -2.29938597],\n",
       "       [-0.76019774, -2.86425422, -3.73459596, -3.69784228],\n",
       "       [-1.80501555, 15.02416681, -3.55984712, -3.4654496 ],\n",
       "       [ 1.93658765, 10.46163452, -3.77704914, -3.08766429],\n",
       "       [ 1.85838906, 10.84689388, -3.85058759, -3.07317909],\n",
       "       [ 4.7628711 , 17.13063324, -3.40778313, -3.88143263],\n",
       "       [ 3.56770188, 12.08869758, -2.96018233, -2.67412193],\n",
       "       [ 1.72776377,  9.5035437 , -2.64898355, -2.33662468],\n",
       "       [ 1.70358882,  1.50447871, -2.62984111, -2.38871895],\n",
       "       [ 8.31195099, 23.97479117, -2.89492187, -2.33122272],\n",
       "       [ 6.09032836, 17.18768452, -2.82691227, -2.28840215],\n",
       "       [ 1.96022885, 15.02350539, -2.70580543, -1.4175773 ],\n",
       "       [-0.33761828,  9.19291675, -2.73153858, -2.13231584],\n",
       "       [-5.97486305, -5.65268167, -3.26181996, -3.49715565],\n",
       "       [ 1.36561863, 12.22766298, -3.69204345, -3.1416846 ],\n",
       "       [ 5.20217798, 12.38495735, -4.23471988, -2.97815887],\n",
       "       [ 1.72409022, 15.68534252, -3.66228909, -2.69349599],\n",
       "       [ 1.12038253, 22.15715381, -3.63774766, -2.78817679],\n",
       "       [ 1.29989694,  6.07992659, -3.2668585 , -3.36530839],\n",
       "       [ 4.55018388, 18.25240383, -3.0763516 , -2.75794221],\n",
       "       [ 2.69898107, 14.11438349, -3.73081163, -3.28488791],\n",
       "       [ 1.35546729, 18.50232545, -4.01604777, -3.4622722 ],\n",
       "       [-0.35547856,  7.81399337, -4.36881653, -4.17167335],\n",
       "       [ 3.62466482, 22.14264743, -3.56957444, -3.11156503],\n",
       "       [ 3.90358871, 15.37642628, -3.32805715, -2.3158465 ],\n",
       "       [ 3.93318709, 20.06590584, -3.11314995, -2.63935756],\n",
       "       [ 3.17777447, 10.72351909, -2.98965995, -2.34107154],\n",
       "       [ 1.51575122,  8.88081763, -3.40013077, -2.87948494],\n",
       "       [ 3.08947146,  8.75692794, -3.17077304, -2.85371165],\n",
       "       [ 0.76051595, 13.64270101, -3.61051631, -3.38070454],\n",
       "       [-1.6595176 ,  0.73570204, -3.72543406, -3.02402397],\n",
       "       [ 0.77724845, 18.1297627 , -3.55459661, -3.07707179],\n",
       "       [ 0.25248071,  1.28295377, -2.66595863, -3.60028267],\n",
       "       [ 1.86536338, 13.81141001, -2.65823388, -2.53044019],\n",
       "       [-1.97347317, -3.96894851, -3.02634302, -2.3768401 ],\n",
       "       [ 1.74471816, 14.73189113, -3.13865776, -2.91586027],\n",
       "       [-3.37993963,  4.60339604, -3.44739256, -2.92031317],\n",
       "       [-0.82273982, 10.24076096, -3.69328069, -3.8515464 ],\n",
       "       [-1.92261943,  9.16301369, -3.05583458, -3.02412535],\n",
       "       [ 1.17986107, 13.78280857, -3.38699252, -2.83503596],\n",
       "       [-3.75721598,  7.717418  , -3.2866123 , -3.38257671],\n",
       "       [ 0.7748788 ,  7.0980726 , -2.96147099, -3.11815613],\n",
       "       [-3.17738942,  7.4319474 , -3.88245752, -3.07238704],\n",
       "       [ 0.22884155, 11.72203967, -3.88081951, -4.02269739],\n",
       "       [-2.21803995,  9.23073879, -3.15768461, -3.35020658],\n",
       "       [ 7.11110478, 24.95312943, -3.0252476 , -2.72223635],\n",
       "       [ 4.56823558, 12.53345073, -2.8031016 , -2.58618659],\n",
       "       [ 1.89539839, 13.84692541, -2.57163715, -2.47662134],\n",
       "       [ 0.82360538,  5.17329176, -3.14375801, -3.3089712 ],\n",
       "       [-0.31988568, 10.56514915, -3.22612267, -3.28355694],\n",
       "       [ 0.18647943,  1.73452129, -3.2957245 , -3.57350899],\n",
       "       [ 0.97562414, 12.96610887, -3.28117205, -2.37378551],\n",
       "       [ 0.20553893,  7.57087317, -2.68483917, -2.80071072],\n",
       "       [-1.5933195 ,  7.34575153, -3.07013816, -2.26737789],\n",
       "       [-0.59990134,  7.07147339, -3.73433203, -3.27820257],\n",
       "       [ 0.46985515,  8.2704752 , -3.82656851, -3.69156049],\n",
       "       [ 3.21954404,  9.74298918, -3.90003617, -3.6795166 ],\n",
       "       [ 2.45754519, 14.87608125, -4.12720639, -3.84690719],\n",
       "       [ 3.53221078, 13.22435802, -3.82759956, -3.40978405],\n",
       "       [ 1.00544111, 14.16323461, -3.70462301, -3.15348793],\n",
       "       [ 0.62219595, 12.51344268, -3.54860055, -3.3254043 ],\n",
       "       [-0.14401181,  5.5640924 , -3.96715447, -3.28179665],\n",
       "       [ 2.66658572, 15.84016146, -3.46022974, -3.12527998],\n",
       "       [-4.31477116,  5.24892188, -3.3363053 , -3.79856975],\n",
       "       [-0.65778278,  5.04415035, -3.43858986, -2.88958114],\n",
       "       [-2.23832439, 12.74519246, -3.14555512, -3.13494841],\n",
       "       [-0.77964748,  5.26710703, -3.57143353, -3.20395046],\n",
       "       [-3.31006564,  3.04492664, -3.59578906, -3.89724434],\n",
       "       [-2.98164787,  7.20931204, -3.91074085, -3.78948827],\n",
       "       [ 0.10944529,  8.60299317, -4.15039532, -4.0801319 ],\n",
       "       [ 2.93120341, 14.1167443 , -3.54551314, -3.44284785],\n",
       "       [ 2.01295577, 16.30085371, -3.88530962, -3.53779859],\n",
       "       [ 3.12050143, 11.56339817, -3.33524551, -3.21371528],\n",
       "       [ 2.53726971, 11.66110425, -3.14239114, -2.72818155],\n",
       "       [ 3.33316191, 18.77066105, -3.57392172, -2.89496036],\n",
       "       [ 5.78178968, 24.65373554, -3.66335483, -3.63840848],\n",
       "       [-0.19272824, 12.34133268, -2.96353036, -2.48798374],\n",
       "       [ 1.7862162 , 19.58924589, -2.85273895, -2.32730804]])"
      ]
     },
     "execution_count": 15,
     "metadata": {},
     "output_type": "execute_result"
    }
   ],
   "source": [
    "# Test our var2sim function\n",
    "\n",
    "K = 4\n",
    "p = 2\n",
    "T = 100\n",
    "\n",
    "A1 = B[:,1:K+1]\n",
    "A2 = B[:,K+1:2*K+1]\n",
    "\n",
    "var2sim(A1, A2, sigma_u, T)"
   ]
  },
  {
   "cell_type": "markdown",
   "metadata": {},
   "source": [
    "#### Exercise 4"
   ]
  },
  {
   "cell_type": "code",
   "execution_count": 16,
   "metadata": {},
   "outputs": [],
   "source": [
    "def hstep_forecast(y: np.array, p: int, h: int):\n",
    "    \"\"\"A function that computes the h-step ahead point forecasts y_T (h) and the corresponding MSE matrix Σˆ_y(h) based on a VAR(p) with intercept\n",
    "\n",
    "    Args:\n",
    "        y (np.array): K × T matrix of observations\n",
    "        p (int): lag order\n",
    "        h (int): forecast horizon\n",
    "\n",
    "    Returns:\n",
    "        list: h-step ahead forecasts and the corresponding MSE matrix\n",
    "    \"\"\"\n",
    "    \n",
    "    K = y.shape[0]\n",
    "    T = y.shape[1]\n",
    "\n",
    "    # retrieving estimates\n",
    "    B, Z, sigma_u = B_matrix(y.T, p, c=1)\n",
    "\n",
    "    # constructing matrices\n",
    "    J1 = np.hstack((np.zeros((K, 1)), np.identity(K), np.zeros((K, K*(p-1)))))\n",
    "\n",
    "    row0 = np.hstack((np.ones((1,1)), np.zeros((1, K*p))))\n",
    "    rowz = np.hstack((np.zeros((K*(p-1), 1)), np.identity(K*(p-1)), np.zeros((K*(p-1), K))))\n",
    "    B = np.vstack((row0, B, rowz))\n",
    "\n",
    "    Zt = y[:,-p:]                       # selecting y[:,-p:] from t-p up to t\n",
    "    Zt = Zt[:,::-1].T.flatten()             # reverse order horizontally, transpose and flatten.\n",
    "    Zt = np.hstack((np.array([(1)]), Zt)).reshape(K*p+1, 1)   # adding one leading 1, transposing, dimension is: 1+K*T x 1\n",
    "   \n",
    "     # predicting y_th\n",
    "    y_th = J1@mp(B, h)@Zt\n",
    "    \n",
    "    # calculate the corresponding MSE matrix\n",
    "    sigma_hat_yh = 0\n",
    "    for i in range(h):                # formula at p. 64\n",
    "        PHIi = J1@mp(B, i)@J1.T \n",
    "        part_of_sum = PHIi@sigma_u@PHIi.T\n",
    "        sigma_hat_yh += part_of_sum\n",
    "\n",
    "    return y_th, sigma_hat_yh"
   ]
  },
  {
   "cell_type": "markdown",
   "metadata": {},
   "source": [
    "#### Exercise 5"
   ]
  },
  {
   "cell_type": "code",
   "execution_count": 17,
   "metadata": {},
   "outputs": [],
   "source": [
    "# Define parameters\n",
    "\n",
    "T = 100\n",
    "p = 2\n",
    "\n",
    "A1 = np.array([(0.4, 0.25), (0.0, 0.5)])\n",
    "A2 = np.array([(0.2, 0.4), (0.0, 0.0)])\n",
    "sigma_u = np.array([(1, 0.5), (0.5, 1)])"
   ]
  },
  {
   "cell_type": "code",
   "execution_count": 18,
   "metadata": {},
   "outputs": [],
   "source": [
    "# Test functions\n",
    "\n",
    "time_series_TK = var2sim(A1, A2, sigma_u, T)"
   ]
  },
  {
   "cell_type": "code",
   "execution_count": 19,
   "metadata": {},
   "outputs": [
    {
     "name": "stdout",
     "output_type": "stream",
     "text": [
      "[[-11.2371927 ]\n",
      " [ -4.30445104]]\n"
     ]
    },
    {
     "data": {
      "text/plain": [
       "array([[1.19163173, 0.43342152],\n",
       "       [0.43342152, 0.95170037]])"
      ]
     },
     "execution_count": 19,
     "metadata": {},
     "output_type": "execute_result"
    }
   ],
   "source": [
    "# Forecast horizon h = 1\n",
    "h = 1\n",
    "y_th1, mse_mat1 = hstep_forecast(time_series_TK.T, p, h)\n",
    "\n",
    "print(y_th1) \n",
    "mse_mat1"
   ]
  },
  {
   "cell_type": "code",
   "execution_count": 20,
   "metadata": {},
   "outputs": [
    {
     "name": "stdout",
     "output_type": "stream",
     "text": [
      "[[-11.38231128]\n",
      " [ -4.18333173]]\n"
     ]
    },
    {
     "data": {
      "text/plain": [
       "array([[1.98627935, 0.63289313],\n",
       "       [0.63289313, 1.18454123]])"
      ]
     },
     "execution_count": 20,
     "metadata": {},
     "output_type": "execute_result"
    }
   ],
   "source": [
    "# Forecast horizon h = 4\n",
    "h = 4\n",
    "y_th4, mse_mat4 = hstep_forecast(time_series_TK.T, p, h)\n",
    "print(y_th4) \n",
    "mse_mat4"
   ]
  },
  {
   "cell_type": "code",
   "execution_count": 21,
   "metadata": {},
   "outputs": [],
   "source": [
    "# set up 95 % interval forecast (assuming data is generated from gaussian process)\n",
    "\n",
    "CIone95 = [y_th1 - 1.96 * np.sqrt(np.diag(mse_mat1)), y_th1 + 1.96 * np.sqrt(np.diag(mse_mat1))]\n",
    "CIfour95 = [y_th4 - 1.96 * np.sqrt(np.diag(mse_mat4)), y_th4 + 1.96 * np.sqrt(np.diag(mse_mat4))]\n"
   ]
  },
  {
   "cell_type": "code",
   "execution_count": 22,
   "metadata": {},
   "outputs": [
    {
     "name": "stdout",
     "output_type": "stream",
     "text": [
      "[[-11.2371927   -4.30445104]]\n"
     ]
    },
    {
     "data": {
      "text/plain": [
       "array([[[1.19163173, 0.43342152],\n",
       "        [0.43342152, 0.95170037]]])"
      ]
     },
     "execution_count": 22,
     "metadata": {},
     "output_type": "execute_result"
    }
   ],
   "source": [
    "# Compare to built-in function from VAR package\n",
    "model = VAR(time_series_TK)\n",
    "results = model.fit(2)\n",
    "\n",
    "# result for h = 1\n",
    "print(results.forecast(time_series_TK, 1))\n",
    "results.mse(1)"
   ]
  },
  {
   "cell_type": "code",
   "execution_count": 23,
   "metadata": {},
   "outputs": [
    {
     "name": "stdout",
     "output_type": "stream",
     "text": [
      "[[-11.2371927   -4.30445104]\n",
      " [-11.38011943  -4.20972674]\n",
      " [-11.38647217  -4.17563319]\n",
      " [-11.38231128  -4.18333173]]\n"
     ]
    },
    {
     "data": {
      "text/plain": [
       "array([[[1.19163173, 0.43342152],\n",
       "        [0.43342152, 0.95170037]],\n",
       "\n",
       "       [[1.32045363, 0.52664899],\n",
       "        [0.52664899, 1.15888597]],\n",
       "\n",
       "       [[1.80955306, 0.63470673],\n",
       "        [0.63470673, 1.18428005]],\n",
       "\n",
       "       [[1.98627935, 0.63289313],\n",
       "        [0.63289313, 1.18454123]]])"
      ]
     },
     "execution_count": 23,
     "metadata": {},
     "output_type": "execute_result"
    }
   ],
   "source": [
    "# result for h = 4\n",
    "print(results.forecast(time_series_TK, 4))\n",
    "results.mse(4)"
   ]
  }
 ],
 "metadata": {
  "kernelspec": {
   "display_name": "Python 3 (ipykernel)",
   "language": "python",
   "name": "python3"
  },
  "language_info": {
   "codemirror_mode": {
    "name": "ipython",
    "version": 3
   },
   "file_extension": ".py",
   "mimetype": "text/x-python",
   "name": "python",
   "nbconvert_exporter": "python",
   "pygments_lexer": "ipython3",
   "version": "3.8.8"
  },
  "vscode": {
   "interpreter": {
    "hash": "f53b217d8430526303bffcd87b390d5c67e67390f11595101f60a03768747934"
   }
  }
 },
 "nbformat": 4,
 "nbformat_minor": 4
}
