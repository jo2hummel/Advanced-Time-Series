{
 "cells": [
  {
   "cell_type": "markdown",
   "metadata": {},
   "source": [
    "## Programming Assignment 3\n",
    "Matriculation Nr: 01/1152810\n",
    "\n",
    "Other group members: 1151277, 919755, 1151248"
   ]
  },
  {
   "cell_type": "code",
   "execution_count": 3,
   "metadata": {},
   "outputs": [],
   "source": [
    "import numpy as np\n",
    "import pandas as pd\n",
    "import scipy.stats as st\n",
    "\n",
    "from statsmodels.tsa.api import VAR"
   ]
  },
  {
   "cell_type": "markdown",
   "source": [
    "# Task 1\n",
    "Read Appendix D in Lutkepohl (2005). Write a function that implements a residual bootstrap for a VAR(p) with intercept and returns the bootstrap standard errors of the VAR coefficients in B.†\n",
    "\n",
    "The function should take\n",
    "- a T + p × K matrix of observations on yt,\n",
    "- the lag length p,\n",
    "- and the number of bootstrap replications R as input."
   ],
   "metadata": {
    "collapsed": false,
    "pycharm": {
     "name": "#%% md\n"
    }
   }
  },
  {
   "cell_type": "code",
   "execution_count": 4,
   "outputs": [],
   "source": [
    "def Z_matrix(y: np.array, p: int, c: int):\n",
    "    \"\"\"Calculate the Z-matrix for a given input\n",
    "\n",
    "    Args:\n",
    "        y (np.array): input with all the data of shape (T + p) × K\n",
    "        p (int): lags\n",
    "        c (int): intercept yes=1, no=0\n",
    "\n",
    "    Returns:\n",
    "        (np.array): Z-matrix for given input\n",
    "    \"\"\"\n",
    "\n",
    "    y = y.T\n",
    "\n",
    "    #determine matrix dimensions:\n",
    "    T = y.shape[1] - p\n",
    "    K = y.shape[0]\n",
    "\n",
    "    # build Z-matrix\n",
    "    if c==1:\n",
    "        Z = np.ones((1, T+p), dtype=float)\n",
    "\n",
    "    # 1b stacked lagged data\n",
    "    for i in range(p):\n",
    "        #add i columns of leading zeros (EDIT: empty, comp cost lower) to ktpmat\n",
    "        zeros = np.zeros((K, i), dtype=float)\n",
    "        zerostack = np.hstack((zeros, y[:,:(T+p-i)]))\n",
    "        # vertically stack this to Z\n",
    "        Z = np.vstack((Z, zerostack))\n",
    "\n",
    "    # cutting of leading p columns and retrieving Z\n",
    "    Z = Z[:, p-1:-1]\n",
    "\n",
    "    return Z"
   ],
   "metadata": {
    "collapsed": false,
    "pycharm": {
     "name": "#%%\n"
    }
   }
  },
  {
   "cell_type": "code",
   "execution_count": 5,
   "outputs": [],
   "source": [
    "def B_matrix(y: np.array, p: int, c: int):\n",
    "    \"\"\"Calculates the B matrix with the estimated coefficients\n",
    "\n",
    "    Args:\n",
    "        y (np.array): input with all the data of shape (T + p) × K\n",
    "        p (int): lags\n",
    "        c (int): intercept yes=1, no=0\n",
    "\n",
    "    Returns:\n",
    "        _type_: B = matrix with estimated coefficients; Z=Z-matrix; sigma_u=covariance matrix\n",
    "    \"\"\"\n",
    "\n",
    "    # get Z-matrix from function above\n",
    "    Z = Z_matrix(y, p, c)\n",
    "\n",
    "    y = y.T # transpose y\n",
    "    y = y[:,p:] # first p observations are lost as we need prior lags for estimation\n",
    "    K = y.shape[0] # number of variables\n",
    "    T = y.shape[1] # number of observations\n",
    "\n",
    "    # calculate B\n",
    "    B = y @ Z.T @ np.linalg.inv((Z@Z.T))\n",
    "\n",
    "    # calculate sigma_u (covariance matrix)\n",
    "    sigma_u = (1/(T-K*p-1))*(y-(B@Z))@(y-(B@Z)).T\n",
    "\n",
    "    return B, Z, sigma_u"
   ],
   "metadata": {
    "collapsed": false,
    "pycharm": {
     "name": "#%%\n"
    }
   }
  },
  {
   "cell_type": "code",
   "execution_count": 6,
   "outputs": [],
   "source": [
    "def resid_bootstrap(Tpkmat, p):\n",
    "    '''\n",
    "    :param Tpkmat: a T + p × K matrix of observations on yt,\n",
    "    :param p: the lag length p,\n",
    "    :param R: and the number of bootstrap replications R as input.\n",
    "    :return: returns the bootstrap standard errors of the VAR coefficients in B\n",
    "    '''\n",
    "\n",
    "    y = Tpkmat.T # transpose input matrix to K x (T+p)\n",
    "    T = y.shape[1] - p # get T (number of observations)\n",
    "    K = y.shape[0]\n",
    "\n",
    "    '''\n",
    "    Description from Lütkepohl, appendix D, page 709\n",
    "    (1) The parameters of the model under consideration are estimated. Let uthat, t = 1, . . . , T, be the estimation residuals.\n",
    "    '''\n",
    "\n",
    "    B, Z, sigma_u = B_matrix(Tpkmat, p, c=1)\n",
    "\n",
    "    '''\n",
    "    (2) Centered residuals are computed (usual average). Bootstrap residuals u∗1, . . . , u∗T are then obtained by randomly drawing with replacement from the centered residuals.\n",
    "    '''\n",
    "\n",
    "    uthat = y[:,p:] - (B@Z)\n",
    "    uthatbar = np.sum(uthat, axis=1)/T\n",
    "    uthatcenterded = uthat - uthatbar.T.reshape(K, 1)\n",
    "    draws = np.random.randint(0, T, T)\n",
    "\n",
    "\n",
    "    '''\n",
    "    (3) Bootstrap time series are computed recursively [...]where the same initial values may be used for each generated series, (y∗ −p+1, . . . , y∗0) = (y−p+1, . . . , y0).\n",
    "    '''\n",
    "    # set bootstrap time series pre-sample values to the same presample series from original data for every repetition\n",
    "\n",
    "    bs_y = y[:,:p]\n",
    "\n",
    "    for i in range(T):\n",
    "        y_t = B[:,0] + uthatcenterded[:,draws[i]]\n",
    "        for l in range(p):\n",
    "            y_t = y_t + (B[:, (l*K+1):(l*K+K+1)] @ bs_y[:,-l])\n",
    "        bs_y = np.hstack((bs_y, y_t.reshape(K, 1)))\n",
    "\n",
    "    B_bs, Z_bs, sigma_u_bs = B_matrix(bs_y.T, p, c=1)\n",
    "\n",
    "    return B_bs, Z_bs, sigma_u_bs"
   ],
   "metadata": {
    "collapsed": false,
    "pycharm": {
     "name": "#%%\n"
    }
   }
  },
  {
   "cell_type": "code",
   "execution_count": 7,
   "outputs": [],
   "source": [
    "def bootstrap_se(Tpkmat, p, R):\n",
    "    K = Tpkmat.shape[1]\n",
    "\n",
    "    B_bs_list = np.empty((K, K*p+1))\n",
    "    for i in range(R):\n",
    "        B_bs, _, _ = resid_bootstrap(Tpkmat, p)\n",
    "        B_bs_list = np.dstack((B_bs_list, B_bs))\n",
    "\n",
    "    Bbar_bs_list = np.mean(B_bs_list, axis = 2)\n",
    "    deviation = B_bs_list - Bbar_bs_list[:, :, None]\n",
    "    deviation_squared = deviation**2\n",
    "    sd = np.sqrt(np.sum(deviation_squared, axis=2)/(R-1))\n",
    "    se = sd/np.sqrt(R)\n",
    "\n",
    "    return se"
   ],
   "metadata": {
    "collapsed": false,
    "pycharm": {
     "name": "#%%\n"
    }
   }
  },
  {
   "cell_type": "markdown",
   "source": [
    "# Task 2\n",
    "Use the VAR(2) from 2) on programming assignment 2 and your function from 1) with R = 499 bootstrap replications. Report the bootstrap standard errors of the VAR coefficients and compare them to the asymptotic standard errors from the Python VAR package/or your VAR estimation function."
   ],
   "metadata": {
    "collapsed": false,
    "pycharm": {
     "name": "#%% md\n"
    }
   }
  },
  {
   "cell_type": "code",
   "execution_count": 8,
   "outputs": [],
   "source": [
    "# read in data\n",
    "awm = pd.read_csv(\"awm19up18.csv\")\n",
    "awm.rename(columns={awm.columns[0]: \"Q\" }, inplace = True)\n",
    "\n",
    "of_interest = [\"Q\", \"YER\", \"ITR\", \"LTN\", \"STN\"]\n",
    "awm = awm[awm.columns.intersection(of_interest)]\n",
    "awm.set_index('Q', inplace=True)\n",
    "\n",
    "# calculate logs and first differences and assign names accordingly\n",
    "awm[\"YER_log\"] = np.log(awm['YER'])\n",
    "awm[\"ITR_log\"] = np.log(awm['ITR'])\n",
    "\n",
    "awm[\"d_lgdp\"] = awm[\"YER_log\"].diff()\n",
    "awm[\"d_invest\"] = awm[\"ITR_log\"].diff()\n",
    "\n",
    "awm[\"d_lgdp\"] = awm[\"d_lgdp\"] * 400\n",
    "awm[\"d_invest\"] = awm[\"d_invest\"] * 400\n",
    "\n",
    "awm[\"d_R\"] = awm[\"LTN\"].diff()\n",
    "awm[\"d_r\"] = awm[\"STN\"].diff()\n",
    "\n",
    "awm.dropna(inplace=True)\n",
    "\n",
    "# get the input for our function\n",
    "y_t = np.array(awm[[\"d_lgdp\", \"d_invest\", \"d_R\", \"d_r\"]])"
   ],
   "metadata": {
    "collapsed": false,
    "pycharm": {
     "name": "#%%\n"
    }
   }
  },
  {
   "cell_type": "code",
   "execution_count": 9,
   "outputs": [],
   "source": [
    "B, Z, sigma_u = B_matrix(y_t, p=2, c=1)"
   ],
   "metadata": {
    "collapsed": false,
    "pycharm": {
     "name": "#%%\n"
    }
   }
  },
  {
   "cell_type": "code",
   "execution_count": 10,
   "outputs": [],
   "source": [
    "B_se = bootstrap_se(y_t, 2, R=499)"
   ],
   "metadata": {
    "collapsed": false,
    "pycharm": {
     "name": "#%%\n"
    }
   }
  },
  {
   "cell_type": "code",
   "execution_count": 11,
   "outputs": [
    {
     "name": "stdout",
     "output_type": "stream",
     "text": [
      "[[ 1.06215220e+00  1.61966835e-01 -1.02585995e-02  1.33841904e+01\n",
      "   2.98371761e+00  5.79521898e-02  9.93488944e-03 -1.25041634e+01\n",
      "  -1.46961778e+01]\n",
      " [-1.71737723e+00  3.57250335e-01 -7.60219886e-02 -1.69256714e+01\n",
      "   4.91454522e+00 -1.96235238e-02  4.45799123e-02 -1.03675069e+01\n",
      "  -1.39595271e+01]\n",
      " [-4.22394981e+00  2.42373907e-01  1.39346146e-03  1.80719672e+01\n",
      "   1.15044849e+00  3.19615409e-01 -8.32276617e-02 -2.47484481e+01\n",
      "   3.20862724e+00]\n",
      " [-1.40472592e+01  3.23600533e-01 -1.84046616e-02  1.19040570e+01\n",
      "   3.90262951e+00  2.10542297e-01 -6.98091982e-03 -2.90121146e+01\n",
      "  -2.89123777e+00]]\n"
     ]
    }
   ],
   "source": [
    "print(B, B_se)"
   ],
   "metadata": {
    "collapsed": false,
    "pycharm": {
     "name": "#%%\n"
    }
   }
  },
  {
   "cell_type": "markdown",
   "source": [
    "# Task 3\n",
    "Write a Python function that simulates time series data from a K-dimensional VAR(2) process yt = A1yt−1 + A2yt−2 + ut, where the innovations ut are drawn from a multivariate normal distribution with mean zero and covariance matrix Σu. Use y−1 = y0 = 0 as starting values, where 0 is a K × 1 vector of zeros, generate time series of length T + 50 and discard the first 50 observations, such that you have available time series of total length equal to T.\n",
    "\n",
    "Your function should take A1, A2, Σu and T as an input and should return a T × K matrix of observations on yt."
   ],
   "metadata": {
    "collapsed": false,
    "pycharm": {
     "name": "#%% md\n"
    }
   }
  },
  {
   "cell_type": "code",
   "execution_count": 12,
   "outputs": [],
   "source": [
    "def var2sim(A1, A2, sigma_u, T):\n",
    "    '''\n",
    "    :param A1:\n",
    "    :param A2:\n",
    "    :param sigma_u:\n",
    "    :param T:\n",
    "    :return:\n",
    "    '''\n",
    "    K = sigma_u.shape[0]\n",
    "\n",
    "    # set starting values\n",
    "    y_tminus1 = np.zeros((K, 1))\n",
    "    y_tminus2 = np.zeros((K, 1))\n",
    "\n",
    "    P = np.linalg.cholesky(sigma_u)\n",
    "\n",
    "    y = np.empty((K, 0))\n",
    "    for i in range(T+50):\n",
    "        # draw disturbance u_t\n",
    "        u_t = P @ np.random.standard_normal(K)\n",
    "        u_t = u_t.reshape(K, 1)\n",
    "        #recursively calculate y_t\n",
    "        y_t = A1@y_tminus1 + A2@y_tminus2 - 2 + u_t\n",
    "        y = np.hstack((y, y_t))\n",
    "        y_tminus2 = y_tminus1\n",
    "        y_tminus1 = y_t\n",
    "\n",
    "    # discard first 50 observations\n",
    "    y = y[:,50:]\n",
    "\n",
    "    return y.T"
   ],
   "metadata": {
    "collapsed": false,
    "pycharm": {
     "name": "#%%\n"
    }
   }
  },
  {
   "cell_type": "code",
   "execution_count": 13,
   "outputs": [
    {
     "data": {
      "text/plain": "array([[-1.53708432,  6.27735458, -3.22677323, -4.12215519],\n       [-0.47921139,  0.36915628, -3.15259238, -3.01510349],\n       [ 0.15628225, 10.60784644, -3.00918952, -3.2814632 ],\n       [-0.27453634,  6.14958639, -3.66630978, -3.95205397],\n       [-1.01622283,  5.91769531, -3.416074  , -3.33218208],\n       [ 0.47063642,  8.23628365, -3.22928981, -2.71769182],\n       [ 4.83934219, 16.84273948, -3.28323843, -2.94957597],\n       [ 3.89610382, 16.19680253, -3.11373019, -2.73674655],\n       [ 4.21078919, 18.63721738, -2.9978715 , -2.51011639],\n       [ 3.37543573, 10.42395994, -2.91610051, -2.92613807],\n       [-1.99660476,  1.10572781, -3.02334524, -2.55402014],\n       [-2.01089122,  6.97651186, -3.38648307, -3.08438749],\n       [-3.41223542,  0.07932598, -3.22649629, -2.87964209],\n       [-0.17476255,  9.18832762, -3.51536294, -2.67424969],\n       [-2.82643149, -1.09914398, -3.80290677, -4.16041831],\n       [-1.22811519,  0.77642969, -3.51651045, -3.37675574],\n       [ 1.3405538 ,  7.55282846, -3.73577036, -3.26439833],\n       [ 0.89249857,  9.81002741, -2.91860457, -2.82056269],\n       [ 3.27974445,  9.91683191, -3.07217888, -2.30436985],\n       [ 6.80385244, 17.79893964, -2.68031805, -1.35301353],\n       [ 2.95995576, 20.96532804, -2.50243998, -1.73794181],\n       [ 0.8695761 ,  5.47427891, -2.87206141, -2.67337001],\n       [-3.44021912,  3.76350727, -3.08166403, -3.47333058],\n       [-3.66045255, 11.58976153, -3.04956141, -3.18007836],\n       [-4.46340644, -4.29737687, -3.99848303, -4.64398609],\n       [-0.90323259, 11.9134074 , -3.76056517, -4.00126379],\n       [-2.74830513,  1.43978152, -4.17806757, -4.05068637],\n       [-4.40341043,  8.97960412, -3.60634392, -3.29883361],\n       [-0.60218753,  4.55132731, -3.16092278, -3.22911965],\n       [-2.40390378,  7.11732704, -3.46702615, -3.01940569],\n       [ 1.11602641,  9.72534963, -3.553254  , -3.30139034],\n       [ 1.50251088, 17.11514413, -3.13591307, -3.51383825],\n       [ 0.84179298,  7.59970681, -4.18228103, -3.3174978 ],\n       [ 2.78750286, 17.72330245, -4.20959334, -3.56409305],\n       [ 2.71944803, 12.14130057, -3.68142216, -3.01999481],\n       [ 5.44154179, 19.95434567, -3.79234999, -2.60756788],\n       [ 4.18958065, 17.25053874, -3.62394639, -2.79437599],\n       [ 3.82410587, 13.07636232, -3.83021937, -2.71238866],\n       [ 1.0497099 , 18.11164158, -4.33221068, -3.18652346],\n       [ 0.61197543,  4.66105973, -3.67912523, -3.75800386],\n       [-0.32868602, 20.86629339, -3.48236865, -3.29258685],\n       [-2.51729065, 10.74793535, -2.99512395, -4.00645669],\n       [-0.27387351, 11.13964783, -3.10208275, -3.66097169],\n       [ 3.95053921,  7.78304511, -3.77008292, -3.29141366],\n       [ 2.54463895, 11.52276924, -3.51075908, -2.23939288],\n       [ 0.57987324,  6.95995674, -2.81336111, -2.31858614],\n       [ 1.30996895, 13.71775532, -2.4127439 , -2.16605527],\n       [-1.40018701,  9.00367464, -2.94282229, -3.22746019],\n       [ 2.72315994, 15.43858143, -2.97354829, -3.38329493],\n       [ 1.11753575, 12.45194626, -3.7343586 , -4.34139013],\n       [-1.73414576,  1.31429805, -4.04965491, -4.66343038],\n       [-2.1283953 ,  5.1101879 , -4.71353351, -3.89229499],\n       [-3.25471769,  5.71935698, -4.2164629 , -4.57612975],\n       [-2.04963298, 12.32089789, -3.73901232, -3.36620987],\n       [ 0.521124  ,  4.83622637, -3.21030924, -3.24490278],\n       [ 0.82552191, 13.78265679, -3.31174782, -3.29447172],\n       [ 3.67129539, 16.30178995, -3.08190121, -3.35037085],\n       [ 2.97092659,  7.14544065, -3.36858343, -2.92818806],\n       [ 2.74678148, 21.66084993, -3.40989231, -2.90078734],\n       [ 5.91167298, 14.66591103, -3.26220886, -2.86461289],\n       [ 1.16509095, 18.80322329, -3.53549759, -2.06468368],\n       [ 2.56957779,  8.08756995, -3.24975458, -3.17049914],\n       [ 5.46430157, 17.0900011 , -2.92285206, -1.93818976],\n       [-0.23461622, 13.2078053 , -3.35211498, -2.09122419],\n       [ 2.15426795,  9.53461078, -2.80661223, -2.76727899],\n       [-0.12947334,  1.89011544, -3.35555002, -2.79166986],\n       [-3.0303792 , -2.01410544, -3.63287362, -4.25012087],\n       [ 4.38390516,  9.27663766, -3.39442718, -3.60236984],\n       [ 1.9846191 , 13.26398989, -3.05723271, -3.03052812],\n       [ 4.95981005, 13.67444319, -3.06328224, -2.33606933],\n       [ 3.87294232, 20.59832724, -2.75522599, -2.84995229],\n       [ 2.49549152,  9.12474974, -3.07146654, -2.42885201],\n       [-0.63856496,  6.00901816, -3.60536864, -3.21764326],\n       [-0.752738  , 12.21858757, -3.84525704, -4.52541435],\n       [ 0.24663569,  0.42128909, -3.27009682, -3.41024399],\n       [ 2.66142263, 20.35059871, -3.18856302, -3.00371054],\n       [ 4.7756676 , 14.65262488, -3.38997136, -2.26995596],\n       [ 4.55148023, 25.83516721, -3.51271511, -2.00952284],\n       [ 2.09016794, 14.99901183, -3.33564076, -2.15555845],\n       [ 2.45994712,  3.99875234, -3.1813772 , -2.54573623],\n       [-0.55082414, 10.37670225, -3.56919819, -2.43294581],\n       [ 1.0486464 ,  7.72544018, -3.51656593, -3.29978199],\n       [-4.32810326,  2.93027456, -3.8165484 , -4.17659056],\n       [-0.61065338, -2.23230786, -3.85247406, -3.85367634],\n       [ 2.77276604, 18.33436053, -3.84125265, -2.96933925],\n       [ 2.00209323, 10.46824028, -3.22193275, -3.19337257],\n       [ 4.1843359 , 13.53166069, -3.1797994 , -2.28745743],\n       [ 5.0831891 , 14.84847327, -3.13393219, -3.78098636],\n       [ 2.14461012, 15.7101266 , -3.60059041, -3.64494628],\n       [ 0.51558901, 11.37935338, -3.56796909, -2.54085884],\n       [ 2.8300714 , 10.9780075 , -3.46520522, -3.2342187 ],\n       [-1.57518549,  7.62493985, -2.92321315, -3.30812861],\n       [-1.96206819, -0.98400823, -3.00647361, -3.01051891],\n       [-0.08094937, 12.8477934 , -3.6936721 , -4.00037818],\n       [-2.11076095,  9.50241407, -3.50565279, -3.32445829],\n       [ 3.78818162, 14.86759563, -3.55302245, -4.03395842],\n       [-0.25580679,  9.44687828, -3.36449259, -3.41738474],\n       [ 2.46116464, 12.24070211, -3.92313086, -3.92979253],\n       [ 0.02735779, 11.85600999, -4.09973726, -3.57162222],\n       [ 0.72561365, 17.06641023, -3.54014328, -3.16938283]])"
     },
     "execution_count": 13,
     "metadata": {},
     "output_type": "execute_result"
    }
   ],
   "source": [
    "K = 4\n",
    "p = 2\n",
    "T = 100\n",
    "\n",
    "A1 = B[:,1:K+1]\n",
    "A2 = B[:,K+1:2*K+1]\n",
    "\n",
    "var2sim(A1, A2, sigma_u, T)\n"
   ],
   "metadata": {
    "collapsed": false,
    "pycharm": {
     "name": "#%%\n"
    }
   }
  },
  {
   "cell_type": "markdown",
   "source": [
    "# Task 4\n",
    "Write a Python function that computes the h-step ahead point forecasts yT (h) and the corresponding MSE matrix ˆΣy(h) based on a VAR(p) with intercept. The inputs to the function should be a K × T matrix of observations, the lag order p, and the forecast horizon h. As an output, the function should return the h-step ahead forecasts and the corresponding MSE matrix.‡"
   ],
   "metadata": {
    "collapsed": false,
    "pycharm": {
     "name": "#%% md\n"
    }
   }
  },
  {
   "cell_type": "code",
   "execution_count": 130,
   "outputs": [],
   "source": [
    "def hstep_forecast(y, p, h):\n",
    "    '''\n",
    "    :param y: a K × T matrix of observations\n",
    "    :param p:\n",
    "    :param h:\n",
    "    :return:\n",
    "    '''\n",
    "    K = y.shape[0]\n",
    "    T = y.shape[1]\n",
    "\n",
    "    # retrieving estimates\n",
    "    B, Z, sigma_u = B_matrix(y.T, p, c=1)\n",
    "\n",
    "    # constructing matrices\n",
    "    J1 = np.hstack((np.zeros((K, 1)), np.identity(K), np.zeros((K, K*(p-1)))))\n",
    "\n",
    "    row0 = np.hstack((np.ones((1,1)), np.zeros((1, K*p))))\n",
    "    rowz = np.hstack((np.zeros((K*(p-1), 1)), np.identity(K*(p-1)), np.zeros((K*(p-1), K))))\n",
    "    B = np.vstack((row0, B, rowz))\n",
    "\n",
    "    Zt = y[:,-p:]                       # selecting y[:,-p:] from t-p up to t\n",
    "    Zt = Zt[:,::-1].T.flatten()             # reverse order horizontally, transpose and flatten.\n",
    "    Zt = np.hstack((np.array([(1)]), Zt)).reshape(K*p+1, 1)   # adding one leading 1, transposing, dimension is: 1+K*T x 1\n",
    "    # predicting y_th\n",
    "\n",
    "    y_th = J1@B**h@Zt\n",
    "\n",
    "\n",
    "    # ab hier alles wild. wie berechnen wir small sample mse? oder bootstrappen wir hier (formula von task1)?\n",
    "\n",
    "    # THIS IS ONLY THE FORMULA FOR one-step ahead forecast, others need to be calculated differently, see Lütkepohl page 98 ff\n",
    "    sigma_hat_yh_hat = sigma_u + ((K*p+1)/T)*sigma_u\n",
    "\n",
    "    ## was machen wir mit all dem stuff auf seite 97 ff? offensichtlich ist sigma_hat_yt_hat(2) != sigma_hat_yt(2) (see page 99)\n",
    "    PHIi = J1@B**(i-1)@J1.T\n",
    "    #sigma_hat_yh_hat = sigma_u + PHIi@sigma_u@PHIi.T + 1/T * omega_hat\n",
    "\n",
    "\n",
    "\n",
    "\n",
    "    return y_th, sigma_hat_yh_hat"
   ],
   "metadata": {
    "collapsed": false,
    "pycharm": {
     "name": "#%%\n"
    }
   }
  },
  {
   "cell_type": "markdown",
   "source": [
    "# Task 5\n",
    "Use your function in 3) and generate time series data of length T = 100 according to a bivariate VAR(2) process with the following parameters: [...]\n",
    "\n",
    "Use the function in 4) to compute h-step ahead forecasts and the corresponding MSE matrix based on a VAR(2) process with intercept for h = 1 and h = 4. Use these estimates to set up a 95% interval forecasts assuming that the process yt is Gaussian."
   ],
   "metadata": {
    "collapsed": false,
    "pycharm": {
     "name": "#%% md\n"
    }
   }
  },
  {
   "cell_type": "code",
   "execution_count": 131,
   "outputs": [],
   "source": [
    "T = 100\n",
    "p = 2\n",
    "A1 = np.array([(0.4, 0.25), (0.0, 0.5)])\n",
    "A2 = np.array([(0.2, 0.4), (0.0, 0.0)])\n",
    "sigma_u = np.array([(1, 0.5), (0.5, 1)])\n",
    "\n",
    "time_series_TK = var2sim(A1, A2, sigma_u, T)\n",
    "\n",
    "h = 1\n",
    "y_th1, mse_mat1 = hstep_forecast(time_series_TK.T, p, h)\n",
    "\n",
    "h = 4\n",
    "y_th4, mse_mat4 = hstep_forecast(time_series_TK.T, p, h)\n",
    "\n",
    "\n",
    "#### set up 95 % interval forecast (assuming data is generated from gaussian process)\n",
    "\n",
    "CIone95 = [y_th1 - 1.96 * np.sqrt(np.diag(mse_mat1)), y_th1 + 1.96 * np.sqrt(np.diag(mse_mat1))]\n",
    "CIfour95 = [y_th4 - 1.96 * np.sqrt(np.diag(mse_mat4)), y_th4 + 1.96 * np.sqrt(np.diag(mse_mat4))]\n"
   ],
   "metadata": {
    "collapsed": false,
    "pycharm": {
     "name": "#%%\n"
    }
   }
  },
  {
   "cell_type": "markdown",
   "source": [
    "# remaining code from assignment 2"
   ],
   "metadata": {
    "collapsed": false,
    "pycharm": {
     "name": "#%% md\n"
    }
   }
  },
  {
   "cell_type": "markdown",
   "metadata": {},
   "source": [
    "### Check with Built-In Functions"
   ]
  },
  {
   "cell_type": "code",
   "execution_count": 18,
   "metadata": {},
   "outputs": [
    {
     "name": "stderr",
     "output_type": "stream",
     "text": [
      "C:\\Users\\Georg\\anaconda3\\lib\\site-packages\\statsmodels\\tsa\\base\\tsa_model.py:471: ValueWarning: No frequency information was provided, so inferred frequency QS-OCT will be used.\n",
      "  self._init_dates(dates, freq)\n"
     ]
    }
   ],
   "source": [
    "# check result with statsmodels VAR module\n",
    "model = VAR(awm[[\"d_lgdp\", \"d_invest\", \"d_R\", \"d_r\"]])\n",
    "results = model.fit(2)"
   ]
  },
  {
   "cell_type": "code",
   "execution_count": 19,
   "metadata": {},
   "outputs": [
    {
     "data": {
      "text/plain": "<class 'statsmodels.iolib.table.SimpleTable'>",
      "text/html": "<table class=\"simpletable\">\n<caption>Granger causality Wald-test. H_0: ['d_R', 'd_r'] do not Granger-cause [d_lgdp, d_invest]. Conclusion: reject H_0 at 5% significance level.</caption>\n<tr>\n  <th>Test statistic</th> <th>Critical value</th> <th>p-value</th> <th>df</th>\n</tr>\n<tr>\n       <td>16.40</td>          <td>15.51</td>      <td>0.037</td>   <td>8</td>\n</tr>\n</table>"
     },
     "execution_count": 19,
     "metadata": {},
     "output_type": "execute_result"
    }
   ],
   "source": [
    "# Wald test\n",
    "granger_stat_wald = results.test_causality([\"d_lgdp\", \"d_invest\"],['d_R', \"d_r\"], kind='wald')\n",
    "granger_stat_wald.summary()"
   ]
  },
  {
   "cell_type": "code",
   "execution_count": 20,
   "metadata": {
    "pycharm": {
     "name": "#%%\n"
    }
   },
   "outputs": [
    {
     "data": {
      "text/plain": "<class 'statsmodels.iolib.table.SimpleTable'>",
      "text/html": "<table class=\"simpletable\">\n<caption>Granger causality F-test. H_0: ['d_R', 'd_r'] do not Granger-cause [d_lgdp, d_invest]. Conclusion: reject H_0 at 5% significance level.</caption>\n<tr>\n  <th>Test statistic</th> <th>Critical value</th> <th>p-value</th>    <th>df</th>   \n</tr>\n<tr>\n       <td>2.050</td>          <td>1.951</td>      <td>0.038</td>  <td>(8, 720)</td>\n</tr>\n</table>"
     },
     "execution_count": 20,
     "metadata": {},
     "output_type": "execute_result"
    }
   ],
   "source": [
    "# F-test\n",
    "granger_stat_f = results.test_causality([\"d_lgdp\", \"d_invest\"],['d_R', \"d_r\"], kind='f')\n",
    "granger_stat_f.summary()"
   ]
  }
 ],
 "metadata": {
  "kernelspec": {
   "display_name": "Python 3 (ipykernel)",
   "language": "python",
   "name": "python3"
  },
  "language_info": {
   "codemirror_mode": {
    "name": "ipython",
    "version": 3
   },
   "file_extension": ".py",
   "mimetype": "text/x-python",
   "name": "python",
   "nbconvert_exporter": "python",
   "pygments_lexer": "ipython3",
   "version": "3.9.7"
  },
  "vscode": {
   "interpreter": {
    "hash": "f53b217d8430526303bffcd87b390d5c67e67390f11595101f60a03768747934"
   }
  }
 },
 "nbformat": 4,
 "nbformat_minor": 4
}