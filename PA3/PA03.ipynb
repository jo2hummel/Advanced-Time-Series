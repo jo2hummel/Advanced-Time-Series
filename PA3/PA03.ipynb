{
 "cells": [
  {
   "cell_type": "markdown",
   "metadata": {},
   "source": [
    "## Programming Assignment 03\n",
    "\n",
    "Student ID: \n",
    "\n",
    "Collaborators: "
   ]
  },
  {
   "cell_type": "code",
   "execution_count": 18,
   "metadata": {},
   "outputs": [],
   "source": [
    "import numpy as np\n",
    "import pandas as pd\n"
   ]
  },
  {
   "cell_type": "markdown",
   "metadata": {},
   "source": [
    "#### Exercise 1"
   ]
  },
  {
   "cell_type": "code",
   "execution_count": 19,
   "metadata": {},
   "outputs": [],
   "source": [
    "def residual_bootstrap_var(y_t: np.array, p: int, R: int):\n",
    "    \"\"\"A function that implements a residual bootstrap for a VAR(p) with intercept and returns the \n",
    "    bootstrap standard errors of the VAR coefficients in B\n",
    "\n",
    "    Args:\n",
    "        y_t (np.array): (T + p) × K matrix of observations on y_t\n",
    "        p (int): lag length\n",
    "        R (int): number of bootstrap replications\n",
    "\n",
    "    Returns:\n",
    "        list: bootstrap standard errors of the VAR coefficients in B\n",
    "    \"\"\"\n",
    "    return []"
   ]
  },
  {
   "cell_type": "markdown",
   "metadata": {},
   "source": [
    "#### Exercise 2"
   ]
  },
  {
   "cell_type": "code",
   "execution_count": 20,
   "metadata": {},
   "outputs": [
    {
     "data": {
      "text/html": [
       "<div>\n",
       "<style scoped>\n",
       "    .dataframe tbody tr th:only-of-type {\n",
       "        vertical-align: middle;\n",
       "    }\n",
       "\n",
       "    .dataframe tbody tr th {\n",
       "        vertical-align: top;\n",
       "    }\n",
       "\n",
       "    .dataframe thead th {\n",
       "        text-align: right;\n",
       "    }\n",
       "</style>\n",
       "<table border=\"1\" class=\"dataframe\">\n",
       "  <thead>\n",
       "    <tr style=\"text-align: right;\">\n",
       "      <th></th>\n",
       "      <th>YER</th>\n",
       "      <th>ITR</th>\n",
       "      <th>STN</th>\n",
       "      <th>LTN</th>\n",
       "    </tr>\n",
       "    <tr>\n",
       "      <th>Q</th>\n",
       "      <th></th>\n",
       "      <th></th>\n",
       "      <th></th>\n",
       "      <th></th>\n",
       "    </tr>\n",
       "  </thead>\n",
       "  <tbody>\n",
       "    <tr>\n",
       "      <th>1970Q1</th>\n",
       "      <td>738304.250471</td>\n",
       "      <td>191787.320701</td>\n",
       "      <td>7.986993</td>\n",
       "      <td>7.922865</td>\n",
       "    </tr>\n",
       "    <tr>\n",
       "      <th>1970Q2</th>\n",
       "      <td>752495.866789</td>\n",
       "      <td>203176.720610</td>\n",
       "      <td>7.956545</td>\n",
       "      <td>8.254439</td>\n",
       "    </tr>\n",
       "    <tr>\n",
       "      <th>1970Q3</th>\n",
       "      <td>761561.610862</td>\n",
       "      <td>206267.925392</td>\n",
       "      <td>7.602189</td>\n",
       "      <td>8.384747</td>\n",
       "    </tr>\n",
       "    <tr>\n",
       "      <th>1970Q4</th>\n",
       "      <td>770787.033957</td>\n",
       "      <td>205426.358549</td>\n",
       "      <td>7.242308</td>\n",
       "      <td>8.340932</td>\n",
       "    </tr>\n",
       "    <tr>\n",
       "      <th>1971Q1</th>\n",
       "      <td>769439.321026</td>\n",
       "      <td>204324.652554</td>\n",
       "      <td>6.516898</td>\n",
       "      <td>7.860624</td>\n",
       "    </tr>\n",
       "  </tbody>\n",
       "</table>\n",
       "</div>"
      ],
      "text/plain": [
       "                  YER            ITR       STN       LTN\n",
       "Q                                                       \n",
       "1970Q1  738304.250471  191787.320701  7.986993  7.922865\n",
       "1970Q2  752495.866789  203176.720610  7.956545  8.254439\n",
       "1970Q3  761561.610862  206267.925392  7.602189  8.384747\n",
       "1970Q4  770787.033957  205426.358549  7.242308  8.340932\n",
       "1971Q1  769439.321026  204324.652554  6.516898  7.860624"
      ]
     },
     "execution_count": 20,
     "metadata": {},
     "output_type": "execute_result"
    }
   ],
   "source": [
    "# read in data\n",
    "awm = pd.read_csv(\"awm19up18.csv\")\n",
    "awm.rename(columns={awm.columns[0]: \"Q\" }, inplace = True)\n",
    "\n",
    "of_interest = [\"Q\", \"YER\", \"ITR\", \"LTN\", \"STN\"]\n",
    "awm = awm[awm.columns.intersection(of_interest)]\n",
    "awm.set_index('Q', inplace=True)\n",
    "\n",
    "awm.head()"
   ]
  },
  {
   "cell_type": "code",
   "execution_count": 21,
   "metadata": {},
   "outputs": [
    {
     "data": {
      "text/html": [
       "<div>\n",
       "<style scoped>\n",
       "    .dataframe tbody tr th:only-of-type {\n",
       "        vertical-align: middle;\n",
       "    }\n",
       "\n",
       "    .dataframe tbody tr th {\n",
       "        vertical-align: top;\n",
       "    }\n",
       "\n",
       "    .dataframe thead th {\n",
       "        text-align: right;\n",
       "    }\n",
       "</style>\n",
       "<table border=\"1\" class=\"dataframe\">\n",
       "  <thead>\n",
       "    <tr style=\"text-align: right;\">\n",
       "      <th></th>\n",
       "      <th>YER</th>\n",
       "      <th>ITR</th>\n",
       "      <th>STN</th>\n",
       "      <th>LTN</th>\n",
       "      <th>YER_log</th>\n",
       "      <th>ITR_log</th>\n",
       "      <th>d_lgdp</th>\n",
       "      <th>d_invest</th>\n",
       "      <th>d_R</th>\n",
       "      <th>d_r</th>\n",
       "    </tr>\n",
       "    <tr>\n",
       "      <th>Q</th>\n",
       "      <th></th>\n",
       "      <th></th>\n",
       "      <th></th>\n",
       "      <th></th>\n",
       "      <th></th>\n",
       "      <th></th>\n",
       "      <th></th>\n",
       "      <th></th>\n",
       "      <th></th>\n",
       "      <th></th>\n",
       "    </tr>\n",
       "  </thead>\n",
       "  <tbody>\n",
       "    <tr>\n",
       "      <th>1970Q2</th>\n",
       "      <td>752495.866789</td>\n",
       "      <td>203176.720610</td>\n",
       "      <td>7.956545</td>\n",
       "      <td>8.254439</td>\n",
       "      <td>13.531151</td>\n",
       "      <td>12.221831</td>\n",
       "      <td>7.615800</td>\n",
       "      <td>23.075637</td>\n",
       "      <td>0.331574</td>\n",
       "      <td>-0.030448</td>\n",
       "    </tr>\n",
       "    <tr>\n",
       "      <th>1970Q3</th>\n",
       "      <td>761561.610862</td>\n",
       "      <td>206267.925392</td>\n",
       "      <td>7.602189</td>\n",
       "      <td>8.384747</td>\n",
       "      <td>13.543126</td>\n",
       "      <td>12.236931</td>\n",
       "      <td>4.790229</td>\n",
       "      <td>6.039915</td>\n",
       "      <td>0.130308</td>\n",
       "      <td>-0.354356</td>\n",
       "    </tr>\n",
       "    <tr>\n",
       "      <th>1970Q4</th>\n",
       "      <td>770787.033957</td>\n",
       "      <td>205426.358549</td>\n",
       "      <td>7.242308</td>\n",
       "      <td>8.340932</td>\n",
       "      <td>13.555167</td>\n",
       "      <td>12.232843</td>\n",
       "      <td>4.816415</td>\n",
       "      <td>-1.635326</td>\n",
       "      <td>-0.043815</td>\n",
       "      <td>-0.359880</td>\n",
       "    </tr>\n",
       "    <tr>\n",
       "      <th>1971Q1</th>\n",
       "      <td>769439.321026</td>\n",
       "      <td>204324.652554</td>\n",
       "      <td>6.516898</td>\n",
       "      <td>7.860624</td>\n",
       "      <td>13.553417</td>\n",
       "      <td>12.227465</td>\n",
       "      <td>-0.700008</td>\n",
       "      <td>-2.150982</td>\n",
       "      <td>-0.480308</td>\n",
       "      <td>-0.725410</td>\n",
       "    </tr>\n",
       "    <tr>\n",
       "      <th>1971Q2</th>\n",
       "      <td>779295.962146</td>\n",
       "      <td>209724.713360</td>\n",
       "      <td>5.938638</td>\n",
       "      <td>7.930762</td>\n",
       "      <td>13.566146</td>\n",
       "      <td>12.253551</td>\n",
       "      <td>5.091522</td>\n",
       "      <td>10.434248</td>\n",
       "      <td>0.070138</td>\n",
       "      <td>-0.578261</td>\n",
       "    </tr>\n",
       "  </tbody>\n",
       "</table>\n",
       "</div>"
      ],
      "text/plain": [
       "                  YER            ITR       STN       LTN    YER_log  \\\n",
       "Q                                                                     \n",
       "1970Q2  752495.866789  203176.720610  7.956545  8.254439  13.531151   \n",
       "1970Q3  761561.610862  206267.925392  7.602189  8.384747  13.543126   \n",
       "1970Q4  770787.033957  205426.358549  7.242308  8.340932  13.555167   \n",
       "1971Q1  769439.321026  204324.652554  6.516898  7.860624  13.553417   \n",
       "1971Q2  779295.962146  209724.713360  5.938638  7.930762  13.566146   \n",
       "\n",
       "          ITR_log    d_lgdp   d_invest       d_R       d_r  \n",
       "Q                                                           \n",
       "1970Q2  12.221831  7.615800  23.075637  0.331574 -0.030448  \n",
       "1970Q3  12.236931  4.790229   6.039915  0.130308 -0.354356  \n",
       "1970Q4  12.232843  4.816415  -1.635326 -0.043815 -0.359880  \n",
       "1971Q1  12.227465 -0.700008  -2.150982 -0.480308 -0.725410  \n",
       "1971Q2  12.253551  5.091522  10.434248  0.070138 -0.578261  "
      ]
     },
     "execution_count": 21,
     "metadata": {},
     "output_type": "execute_result"
    }
   ],
   "source": [
    "# calculate logs and first differences and assign names accordingly\n",
    "awm[\"YER_log\"] = np.log(awm['YER'])\n",
    "awm[\"ITR_log\"] = np.log(awm['ITR'])\n",
    "\n",
    "awm[\"d_lgdp\"] = awm[\"YER_log\"].diff()\n",
    "awm[\"d_invest\"] = awm[\"ITR_log\"].diff()\n",
    "\n",
    "awm[\"d_lgdp\"] = awm[\"d_lgdp\"] * 400\n",
    "awm[\"d_invest\"] = awm[\"d_invest\"] * 400\n",
    "\n",
    "awm[\"d_R\"] = awm[\"LTN\"].diff()\n",
    "awm[\"d_r\"] = awm[\"STN\"].diff()\n",
    "\n",
    "awm.dropna(inplace=True)\n",
    "\n",
    "awm.head()"
   ]
  },
  {
   "cell_type": "code",
   "execution_count": 22,
   "metadata": {},
   "outputs": [],
   "source": [
    "# get the input for our function\n",
    "y_t = np.array(awm[[\"d_lgdp\", \"d_invest\", \"d_R\", \"d_r\"]])"
   ]
  },
  {
   "cell_type": "code",
   "execution_count": 23,
   "metadata": {},
   "outputs": [],
   "source": [
    "# test our function\n",
    "# residual_bootstrap_var(y_t, 2, 499)"
   ]
  },
  {
   "cell_type": "code",
   "execution_count": 24,
   "metadata": {},
   "outputs": [],
   "source": [
    "# Compare to built-in function from VAR package"
   ]
  },
  {
   "cell_type": "markdown",
   "metadata": {},
   "source": [
    "#### Exercise 3"
   ]
  },
  {
   "cell_type": "code",
   "execution_count": 25,
   "metadata": {},
   "outputs": [],
   "source": [
    "def simulate_var2(A_1: np.array, A_2: np.array, sigma_u: np.array, T: int):\n",
    "    \"\"\"A function that simulates time series data from a K-dimensional VAR(2) process yt = A1 y_t−1 + A2 y_t−2 + u_t, \n",
    "    where the innovations ut are drawn from a multivariate normal distribution with mean zero and covariance matrix Σ_u. \n",
    "    Uses y_−1 = y_0 = 0 as starting values, where 0 is a K ×1 vector of zeros.\n",
    "    Generates time series of length T+50 and discards the first 50 observations, such that it returns a time series of total length equal to T.\n",
    "\n",
    "    Args:\n",
    "        A_1 (np.array): coefficient matrix at lag 1\n",
    "        A_2 (np.array): coefficient matrix at lag 2\n",
    "        sigma_u (np.array): covariance matrix Σ_u\n",
    "        T (int): number of observations\n",
    "\n",
    "    Returns:\n",
    "        np.array: T x K matrix of observations on y_t\n",
    "    \"\"\"\n",
    "    return np.array"
   ]
  },
  {
   "cell_type": "markdown",
   "metadata": {},
   "source": [
    "#### Exercise 4"
   ]
  },
  {
   "cell_type": "code",
   "execution_count": 26,
   "metadata": {},
   "outputs": [],
   "source": [
    "def varp_forecast(matrix: np.array, p: int, h: int):\n",
    "    \"\"\"A function that computes the h-step ahead point forecasts y_T (h) and the corresponding MSE matrix Σˆ_y(h) based on a VAR(p) with intercept\n",
    "\n",
    "    Args:\n",
    "        matrix (np.array): K × T matrix of observations\n",
    "        p (int): lag order\n",
    "        h (int): forecast horizon\n",
    "\n",
    "    Returns:\n",
    "        list: h-step ahead forecasts and the corresponding MSE matrix\n",
    "    \"\"\"\n",
    "    return []"
   ]
  },
  {
   "cell_type": "markdown",
   "metadata": {},
   "source": [
    "#### Exercise 5"
   ]
  },
  {
   "cell_type": "code",
   "execution_count": 27,
   "metadata": {},
   "outputs": [],
   "source": [
    "T = 100\n",
    "\n",
    "A_1 = np.array([[0.4, 0.25], [0, 0.5]])\n",
    "A_2 = np.array([[0.2, 0.4], [0, 0]])\n",
    "sigma_u = np.array([[1, 0.5], [0.5, 1]])"
   ]
  },
  {
   "cell_type": "code",
   "execution_count": 28,
   "metadata": {},
   "outputs": [],
   "source": [
    "#matrix = simulate_var2(A_1, A_2, sigma_u, T)\n",
    "#input_matrix = matrix.T # transpose in order to make it suitable for function\n",
    "\n",
    "#h1_forec = varp_forecast(input_matrix, 2, 1)\n",
    "#h4_forec = varp_forecast(input_matrix, 2, 4)"
   ]
  },
  {
   "cell_type": "code",
   "execution_count": 29,
   "metadata": {},
   "outputs": [],
   "source": [
    "# Use these estimates to set up a 95% interval forecasts assuming that the process y_t is Gaussian"
   ]
  }
 ],
 "metadata": {
  "kernelspec": {
   "display_name": "Python 3.8.8 ('base')",
   "language": "python",
   "name": "python3"
  },
  "language_info": {
   "codemirror_mode": {
    "name": "ipython",
    "version": 3
   },
   "file_extension": ".py",
   "mimetype": "text/x-python",
   "name": "python",
   "nbconvert_exporter": "python",
   "pygments_lexer": "ipython3",
   "version": "3.8.8"
  },
  "orig_nbformat": 4,
  "vscode": {
   "interpreter": {
    "hash": "f53b217d8430526303bffcd87b390d5c67e67390f11595101f60a03768747934"
   }
  }
 },
 "nbformat": 4,
 "nbformat_minor": 2
}
