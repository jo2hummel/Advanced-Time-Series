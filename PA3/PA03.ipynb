{
 "cells": [
  {
   "cell_type": "markdown",
   "metadata": {},
   "source": [
    "## Programming Assignment 3\n",
    "Matriculation Nr: 01/1152810\n",
    "\n",
    "Other group members: 1151277, 919755, 1151248"
   ]
  },
  {
   "cell_type": "code",
   "execution_count": 139,
   "metadata": {},
   "outputs": [],
   "source": [
    "import numpy as np\n",
    "import pandas as pd\n",
    "import scipy.stats as st\n",
    "\n",
    "from statsmodels.tsa.api import VAR"
   ]
  },
  {
   "cell_type": "markdown",
   "source": [
    "Read Appendix D in Lutkepohl (2005). Write a function that implements a residual bootstrap for a VAR(p) with intercept and returns the bootstrap standard errors of the VAR coefficients in B.†\n",
    "\n",
    "The function should take\n",
    "- a T + p × K matrix of observations on yt,\n",
    "- the lag length p,\n",
    "- and the number of bootstrap replications R as input."
   ],
   "metadata": {
    "collapsed": false,
    "pycharm": {
     "name": "#%% md\n"
    }
   }
  },
  {
   "cell_type": "code",
   "execution_count": 140,
   "outputs": [],
   "source": [
    "def Z_matrix(y: np.array, p: int, c: int):\n",
    "    \"\"\"Calculate the Z-matrix for a given input\n",
    "\n",
    "    Args:\n",
    "        y (np.array): input with all the data of shape (T + p) × K\n",
    "        p (int): lags\n",
    "        c (int): intercept yes=1, no=0\n",
    "\n",
    "    Returns:\n",
    "        (np.array): Z-matrix for given input\n",
    "    \"\"\"\n",
    "\n",
    "    y = y.T\n",
    "\n",
    "    #determine matrix dimensions:\n",
    "    T = y.shape[1] - p\n",
    "    K = y.shape[0]\n",
    "\n",
    "    # build Z-matrix\n",
    "    if c==1:\n",
    "        Z = np.ones((1, T+p), dtype=float)\n",
    "\n",
    "    # 1b stacked lagged data\n",
    "    for i in range(p):\n",
    "        #add i columns of leading zeros (EDIT: empty, comp cost lower) to ktpmat\n",
    "        zeros = np.zeros((K, i), dtype=float)\n",
    "        zerostack = np.hstack((zeros, y[:,:(T+p-i)]))\n",
    "        # vertically stack this to Z\n",
    "        Z = np.vstack((Z, zerostack))\n",
    "\n",
    "    # cutting of leading p columns and retrieving Z\n",
    "    Z = Z[:, p-1:-1]\n",
    "\n",
    "    return Z"
   ],
   "metadata": {
    "collapsed": false,
    "pycharm": {
     "name": "#%%\n"
    }
   }
  },
  {
   "cell_type": "code",
   "execution_count": 141,
   "outputs": [],
   "source": [
    "def B_matrix(y: np.array, p: int, c: int):\n",
    "    \"\"\"Calculates the B matrix with the estimated coefficients\n",
    "\n",
    "    Args:\n",
    "        y (np.array): input with all the data of shape (T + p) × K\n",
    "        p (int): lags\n",
    "        c (int): intercept yes=1, no=0\n",
    "\n",
    "    Returns:\n",
    "        _type_: B = matrix with estimated coefficients; Z=Z-matrix; sigma_u=covariance matrix\n",
    "    \"\"\"\n",
    "\n",
    "    # get Z-matrix from function above\n",
    "    Z = Z_matrix(y, p, c)\n",
    "\n",
    "    y = y.T # transpose y\n",
    "    y = y[:,p:] # first p observations are lost as we need prior lags for estimation\n",
    "    K = y.shape[0] # number of variables\n",
    "    T = y.shape[1] # number of observations\n",
    "\n",
    "    # calculate B\n",
    "    B = y @ Z.T @ np.linalg.inv((Z@Z.T))\n",
    "\n",
    "    # calculate sigma_u (covariance matrix)\n",
    "    sigma_u = (1/(T-K*p-1))*(y-(B@Z))@(y-(B@Z)).T\n",
    "\n",
    "    return B, Z, sigma_u"
   ],
   "metadata": {
    "collapsed": false,
    "pycharm": {
     "name": "#%%\n"
    }
   }
  },
  {
   "cell_type": "code",
   "execution_count": 178,
   "outputs": [],
   "source": [
    "def resid_bootstrap(Tpkmat, p):\n",
    "    '''\n",
    "    :param Tpkmat: a T + p × K matrix of observations on yt,\n",
    "    :param p: the lag length p,\n",
    "    :param R: and the number of bootstrap replications R as input.\n",
    "    :return: returns the bootstrap standard errors of the VAR coefficients in B\n",
    "    '''\n",
    "\n",
    "    y = Tpkmat.T # transpose input matrix to K x (T+p)\n",
    "    T = y.shape[1] - p # get T (number of observations)\n",
    "    K = y.shape[0]\n",
    "\n",
    "    '''\n",
    "    Description from Lütkepohl, appendix D, page 709\n",
    "    (1) The parameters of the model under consideration are estimated. Let uthat, t = 1, . . . , T, be the estimation residuals.\n",
    "    '''\n",
    "\n",
    "    B, Z, sigma_u = B_matrix(Tpkmat, p, c=1)\n",
    "\n",
    "    '''\n",
    "    (2) Centered residuals are computed (usual average). Bootstrap residuals u∗1, . . . , u∗T are then obtained by randomly drawing with replacement from the centered residuals.\n",
    "    '''\n",
    "\n",
    "    uthat = y[:,p:] - (B@Z)\n",
    "    uthatbar = np.sum(uthat, axis=1)/T\n",
    "    uthatcenterded = uthat - uthatbar.T.reshape(K, 1)\n",
    "    draws = np.random.randint(0, T, T)\n",
    "\n",
    "\n",
    "    '''\n",
    "    (3) Bootstrap time series are computed recursively [...]where the same initial values may be used for each generated series, (y∗ −p+1, . . . , y∗0) = (y−p+1, . . . , y0).\n",
    "    '''\n",
    "    # set bootstrap time series pre-sample values to the same presample series from original data for every repetition\n",
    "\n",
    "    bs_y = y[:,:p]\n",
    "\n",
    "    for i in range(T):\n",
    "        y_t = B[:,0] + uthatcenterded[:,draws[i]]\n",
    "        for l in range(p):\n",
    "            y_t = y_t + (B[:, (l*K+1):(l*K+K+1)] @ bs_y[:,-l])\n",
    "        bs_y = np.hstack((bs_y, y_t.reshape(K, 1)))\n",
    "\n",
    "    B_bs, Z_bs, sigma_u_bs = B_matrix(bs_y.T, p, c=1)\n",
    "\n",
    "    return B_bs, Z_bs, sigma_u_bs"
   ],
   "metadata": {
    "collapsed": false,
    "pycharm": {
     "name": "#%%\n"
    }
   }
  },
  {
   "cell_type": "code",
   "execution_count": 180,
   "outputs": [],
   "source": [
    "def bootstrap_se(Tpkmat, p, R):\n",
    "    K = Tpkmat.shape[1]\n",
    "\n",
    "    B_bs_list = np.empty((K, K*p+1))\n",
    "    for i in range(R):\n",
    "        B_bs, _, _ = resid_bootstrap(Tpkmat, p)\n",
    "        B_bs_list = np.dstack((B_bs_list, B_bs))\n",
    "\n",
    "    Bbar_bs_list = np.mean(B_bs_list, axis = 2)\n",
    "    deviation = B_bs_list - Bbar_bs_list[:, :, None]\n",
    "    deviation_squared = deviation**2\n",
    "    sd = np.sqrt(np.sum(deviation_squared, axis=2)/(R-1))\n",
    "    se = sd/np.sqrt(R)\n",
    "\n",
    "    return se"
   ],
   "metadata": {
    "collapsed": false,
    "pycharm": {
     "name": "#%%\n"
    }
   }
  },
  {
   "cell_type": "code",
   "execution_count": 182,
   "outputs": [],
   "source": [
    "# read in data\n",
    "awm = pd.read_csv(\"awm19up18.csv\")\n",
    "awm.rename(columns={awm.columns[0]: \"Q\" }, inplace = True)\n",
    "\n",
    "of_interest = [\"Q\", \"YER\", \"ITR\", \"LTN\", \"STN\"]\n",
    "awm = awm[awm.columns.intersection(of_interest)]\n",
    "awm.set_index('Q', inplace=True)\n",
    "\n",
    "# calculate logs and first differences and assign names accordingly\n",
    "awm[\"YER_log\"] = np.log(awm['YER'])\n",
    "awm[\"ITR_log\"] = np.log(awm['ITR'])\n",
    "\n",
    "awm[\"d_lgdp\"] = awm[\"YER_log\"].diff()\n",
    "awm[\"d_invest\"] = awm[\"ITR_log\"].diff()\n",
    "\n",
    "awm[\"d_lgdp\"] = awm[\"d_lgdp\"] * 400\n",
    "awm[\"d_invest\"] = awm[\"d_invest\"] * 400\n",
    "\n",
    "awm[\"d_R\"] = awm[\"LTN\"].diff()\n",
    "awm[\"d_r\"] = awm[\"STN\"].diff()\n",
    "\n",
    "awm.dropna(inplace=True)\n",
    "\n",
    "# get the input for our function\n",
    "y_t = np.array(awm[[\"d_lgdp\", \"d_invest\", \"d_R\", \"d_r\"]])"
   ],
   "metadata": {
    "collapsed": false,
    "pycharm": {
     "name": "#%%\n"
    }
   }
  },
  {
   "cell_type": "code",
   "execution_count": 183,
   "outputs": [],
   "source": [
    "B, Z, sigma_u = B_matrix(y_t, p=2, c=1)"
   ],
   "metadata": {
    "collapsed": false,
    "pycharm": {
     "name": "#%%\n"
    }
   }
  },
  {
   "cell_type": "code",
   "execution_count": 188,
   "outputs": [],
   "source": [
    "B_se = bootstrap_se(y_t, 2, R=499)"
   ],
   "metadata": {
    "collapsed": false,
    "pycharm": {
     "name": "#%%\n"
    }
   }
  },
  {
   "cell_type": "code",
   "execution_count": 189,
   "outputs": [
    {
     "name": "stdout",
     "output_type": "stream",
     "text": [
      "[[ 8.19991990e-01  4.41893745e-01 -3.09516135e-02  3.53840313e-01\n",
      "   2.80812932e-01  1.40348551e-01  2.89658568e-02 -6.61782716e-01\n",
      "  -6.99814626e-01]\n",
      " [-1.00607134e+00  1.20312057e+00 -2.28829643e-01 -1.26631209e+00\n",
      "   6.99606104e-01 -5.17309344e-02  2.41250166e-01 -1.21968589e+00\n",
      "  -1.57970603e+00]\n",
      " [-6.57473325e-02  1.20603459e-02  1.78784492e-04  5.15582681e-01\n",
      "   3.78561218e-02  1.32232293e-02 -5.88137520e-03 -2.20154123e-01\n",
      "   7.06111408e-02]\n",
      " [-2.43278598e-01  7.28410851e-02 -7.47895590e-03  4.22382718e-01\n",
      "   2.78528354e-01  3.87124972e-02 -2.40842053e-03 -2.89226900e-01\n",
      "  -7.25841414e-02]] [[0.02283937 0.00683669 0.00624018 0.0254008  0.01533375 0.0065982\n",
      "  0.00611172 0.02538575 0.01457782]\n",
      " [0.0559889  0.01297949 0.00715414 0.05918127 0.03959638 0.01243265\n",
      "  0.01167807 0.06350459 0.03945869]\n",
      " [0.00330672 0.00063863 0.00037406 0.0037824  0.00239577 0.0006323\n",
      "  0.00029105 0.00374192 0.00237312]\n",
      " [0.00540538 0.0011102  0.00090607 0.00560284 0.00392899 0.00115815\n",
      "  0.00079881 0.00594337 0.0037617 ]]\n"
     ]
    }
   ],
   "source": [
    "## does our B_matrix function return SDs?\n",
    "print(B, B_se)"
   ],
   "metadata": {
    "collapsed": false,
    "pycharm": {
     "name": "#%%\n"
    }
   }
  },
  {
   "cell_type": "markdown",
   "source": [
    "Write a Python function that simulates time series data from a K-dimensional VAR(2) process yt = A1yt−1 + A2yt−2 + ut, where the innovations ut are drawn from a multivariate normal distribution with mean zero and covariance matrix Σu. Use y−1 = y0 = 0 as starting values, where 0 is a K × 1 vector of zeros, generate time series of length T + 50 and discard the first 50 observations, such that you have available time series of total length equal to T.\n",
    "\n",
    "Your function should take A1, A2, Σu and T as an input and should return a T × K matrix of observations on yt."
   ],
   "metadata": {
    "collapsed": false,
    "pycharm": {
     "name": "#%% md\n"
    }
   }
  },
  {
   "cell_type": "code",
   "execution_count": 192,
   "outputs": [],
   "source": [
    "def var2sim(A1, A2, sigma_u, T):\n",
    "    '''\n",
    "    :param A1:\n",
    "    :param A2:\n",
    "    :param sigma_u:\n",
    "    :param T:\n",
    "    :return:\n",
    "    '''\n",
    "    K = sigma_u.shape[0]\n",
    "\n",
    "    # set starting values\n",
    "    y_tminus1 = np.zeros((K, 1))\n",
    "    y_tminus2 = np.zeros((K, 1))\n",
    "\n",
    "    P = np.linalg.cholesky(sigma_u)\n",
    "\n",
    "    y = np.empty((K, 0))\n",
    "    for i in range(T+50):\n",
    "        # draw disturbance u_t\n",
    "        u_t = P @ np.random.standard_normal(K)\n",
    "        u_t = u_t.reshape(K, 1)\n",
    "        #recursively calculate y_t\n",
    "        y_t = A1@y_tminus1 + A2@y_tminus2 - 2 + u_t\n",
    "        y = np.hstack((y, y_t))\n",
    "        y_tminus2 = y_tminus1\n",
    "        y_tminus1 = y_t\n",
    "\n",
    "    # discard first 50 observations\n",
    "    y = y[:,50:]\n",
    "\n",
    "    return y"
   ],
   "metadata": {
    "collapsed": false,
    "pycharm": {
     "name": "#%%\n"
    }
   }
  },
  {
   "cell_type": "code",
   "execution_count": 195,
   "outputs": [
    {
     "data": {
      "text/plain": "array([[ 3.34775524,  2.72235854, -2.00055344, -0.38940007, -0.34949528,\n        -2.90363878, -0.44865126,  0.70613017,  5.65320823,  3.37677632,\n         5.40045483,  4.03573176, -0.60086612, -0.87464702,  2.17666725,\n        -3.69543869, -5.58652651, -2.57700428, -2.26455655, -2.62997635,\n        -3.85101517, -1.94920017,  1.63177463, -1.0342273 ,  0.88527081,\n         3.77233221, -3.00627628, -0.56752971, -0.13803759,  0.85408527,\n         1.49626022,  3.96786196,  1.94053258,  4.01319926,  1.52780245,\n         1.81096723,  2.03333437,  0.10382343, -0.13346659,  4.01106363,\n        -0.04496531, -3.47350015, -2.95566092,  1.60866626,  3.1819228 ,\n         3.51206641,  3.18145074, -0.26474359,  1.8530833 ,  5.82659499,\n        -0.87363365, -0.9993103 ,  1.1457673 ,  0.62227537, -0.89431452,\n         4.34683249,  2.48537347,  3.66956162,  5.93120846,  6.85538201,\n         4.08635729, -0.74650098,  5.25529243,  1.59516729,  4.30413131,\n         1.52867223,  1.6673621 ,  4.21000515,  5.43906733,  5.23268237,\n         5.97842134,  2.20085001,  4.2164718 ,  7.48285108,  7.35080232,\n         8.13283991,  8.96233489,  2.79062384,  0.97011501,  6.05672798,\n         3.70676222,  1.93553242,  5.39901379,  4.71378524,  3.03909542,\n         1.29618293, -1.31768432, -2.35317604,  1.63099543,  4.14249232,\n         1.89336957,  1.85604104,  0.93425758,  5.39837121,  2.02560354,\n         3.73258553,  3.82786442,  3.77946599,  5.42890852,  4.70587136],\n       [10.53389854,  5.25385298,  3.61203146, 13.72061913,  6.5844807 ,\n         3.06683039,  7.50925919,  8.58461772, 19.78714235, 20.36283668,\n        16.81675759, 17.91116098, -1.88781533,  6.76522966,  3.02713013,\n        13.49461533, -5.82063057,  7.70326151,  3.0929683 ,  5.75047755,\n         0.39032592, 15.43369924,  9.28797694,  4.10699088, 13.72028076,\n         6.98192209,  7.18379673,  5.24242256, 10.42589003,  6.33157489,\n        11.58077282, 15.88393588, 11.10484947, 14.70944423, 13.69404027,\n        13.68807562,  8.08603387,  3.95878457,  8.30264896, 22.96836855,\n        19.77471442,  5.27435643,  5.43399207,  8.47370594, 17.3395825 ,\n        15.644794  ,  7.15975071, 14.4157612 ,  8.78296253, 21.5060425 ,\n        17.8132668 ,  8.86602235, 18.79363474, 14.01852622,  9.76378603,\n         7.00449846, 15.29718291,  6.76350317, 25.07031859, 14.12742326,\n        22.10074063,  7.45401942, 20.95089429, 10.88945557, 17.57940526,\n        16.81863314, 13.68138496, 14.533881  , 15.28056655,  9.33993951,\n        27.4181588 ,  9.59424851, 16.94155745, 26.32748966, 22.62386687,\n        16.21962021, 24.46939995, 14.18504331,  6.14101421, 16.28300084,\n        17.76841566, 19.64020579, 18.65299125, 19.06547923,  8.23754021,\n        16.90879651, -1.27226076,  7.25180911,  9.49199751, 14.12950168,\n        12.54113928,  9.32462821, 10.31814712, 16.19267208, 18.88287023,\n        17.49202236, 13.51744931, 17.84590656, 24.03141798, 19.23379161],\n       [-2.98316619, -3.1811596 , -2.6697302 , -2.80630374, -3.75070391,\n        -3.92953889, -3.84591   , -3.36533863, -2.80492111, -2.80612377,\n        -3.01092657, -2.65994289, -2.62314349, -3.53016025, -3.1802387 ,\n        -3.01529788, -2.87379985, -2.63636768, -2.80582808, -3.83814157,\n        -3.41668711, -3.86828084, -3.49985362, -3.41557429, -3.13092998,\n        -3.47316901, -3.18246988, -3.4940116 , -3.70513211, -3.98842397,\n        -4.13865907, -3.45294269, -3.03842604, -3.01439161, -3.32383039,\n        -3.33066699, -3.44215164, -3.66943347, -3.64785933, -3.29275883,\n        -3.68924591, -3.75619212, -3.66471684, -3.9411585 , -3.10365658,\n        -2.91759447, -3.40781073, -3.66322517, -3.50269403, -3.61876808,\n        -3.70200463, -3.34701065, -3.79611565, -3.75224474, -3.2033973 ,\n        -3.31396471, -3.68128843, -3.50418975, -3.62597827, -3.28873681,\n        -3.25081915, -3.18500641, -3.41337158, -3.57235146, -2.6718577 ,\n        -3.09351477, -3.18929291, -3.60632964, -3.07004559, -2.87852777,\n        -3.51066279, -3.50919066, -3.14765502, -3.28388294, -3.2835528 ,\n        -3.08856775, -2.90724847, -3.03543369, -3.30454283, -3.74510692,\n        -4.10871066, -3.40369438, -3.53164948, -3.00124322, -3.00995208,\n        -3.06828643, -3.47282267, -3.38148706, -3.76101476, -3.18339197,\n        -2.87052901, -3.06616551, -3.42100298, -3.29745842, -2.79308381,\n        -3.74782256, -3.17821511, -3.39293716, -3.64173427, -3.38401636],\n       [-2.81513708, -3.20073193, -3.00681324, -3.00622053, -3.41758192,\n        -4.39525731, -3.83750595, -3.19887619, -2.50329823, -0.9310516 ,\n        -2.2772799 , -2.15840415, -2.41218167, -2.92242248, -3.63722401,\n        -2.43901857, -3.01683458, -2.55389296, -3.64856122, -3.18257887,\n        -3.05269543, -3.49108224, -4.00842757, -4.2602405 , -2.18111583,\n        -4.03695895, -3.93634745, -4.03116039, -3.8930084 , -4.40254597,\n        -4.71038928, -2.90493557, -2.70616468, -2.48649061, -2.67519706,\n        -2.43278403, -4.09342641, -3.392227  , -3.38643823, -3.1244196 ,\n        -2.74817746, -3.45950191, -3.27394597, -3.42016773, -2.99258798,\n        -1.9290217 , -2.60489826, -3.82602399, -4.09333884, -3.20401974,\n        -3.08654138, -2.98525899, -3.53094678, -3.80878828, -3.04268549,\n        -2.50008451, -4.22176506, -3.897627  , -2.9218098 , -2.50453271,\n        -2.74425622, -2.71536706, -2.58274303, -3.16207833, -2.93970254,\n        -3.70140156, -3.432695  , -3.46206278, -3.73980456, -2.47526629,\n        -3.17720095, -3.68176969, -3.16673226, -2.39942582, -1.94151068,\n        -1.85247985, -1.7294844 , -2.46671034, -3.37015141, -3.40672713,\n        -4.00175312, -2.94315664, -3.043418  , -2.6384297 , -2.37503248,\n        -1.72578008, -3.73682239, -3.43105235, -3.20413246, -2.85452604,\n        -2.22836848, -2.24022093, -3.14069367, -3.0025762 , -2.52084006,\n        -2.60755652, -3.27307238, -3.35784686, -3.45924646, -2.85174587]])"
     },
     "execution_count": 195,
     "metadata": {},
     "output_type": "execute_result"
    }
   ],
   "source": [
    "K = 4\n",
    "p = 2\n",
    "T = 100\n",
    "\n",
    "A1 = B[:,1:K+1]\n",
    "A2 = B[:,K+1:2*K+1]\n",
    "\n",
    "var2sim(A1, A2, sigma_u, T)\n"
   ],
   "metadata": {
    "collapsed": false,
    "pycharm": {
     "name": "#%%\n"
    }
   }
  },
  {
   "cell_type": "markdown",
   "source": [
    "# remaining code from assignment 2"
   ],
   "metadata": {
    "collapsed": false,
    "pycharm": {
     "name": "#%% md\n"
    }
   }
  },
  {
   "cell_type": "code",
   "execution_count": null,
   "metadata": {},
   "outputs": [],
   "source": [
    "def granger(y: np.array, p: int, dummy_vec: list, c=1):\n",
    "    \"\"\"Performs the Granger Causality Test on a given set of variables\n",
    "\n",
    "    Args:\n",
    "        y (np.array): input with all the data of shape (T + p) × K\n",
    "        p (int): lags\n",
    "        dummy_vec (list): list with causing (1) and caused (0) signs\n",
    "        c (int): intercept yes=1, no=0 \n",
    "\n",
    "    Returns:\n",
    "        _type_: Wald- and F-statistic together with implied p-values\n",
    "    \"\"\"\n",
    "    \n",
    "    y = y.T # transpose y\n",
    "    n_cause = sum(dummy_vec) # number of causing variables = 1's in the list\n",
    "    n_caused = len(dummy_vec) - n_cause # number of caused variables\n",
    "       \n",
    "    # arrange in right order (first cause variables, then caused variables)\n",
    "    cause = []\n",
    "    caused = []\n",
    "    for i, n in enumerate(dummy_vec):\n",
    "        if n == 1:\n",
    "            cause.append(y[i])\n",
    "        else:\n",
    "            caused.append(y[i])\n",
    "    \n",
    "    cause = np.column_stack(cause)\n",
    "    caused = np.column_stack(caused)\n",
    "    y = np.concatenate((cause, caused), axis=1)\n",
    "    \n",
    "    \n",
    "    \n",
    "    # get B matrix, Z, and covariance matrix from above function\n",
    "    K = y.shape[1]  # number of variables\n",
    "    T = np.size(y, 0) - p\n",
    "    B, Z, sigma_u = B_matrix(y, p, c) # return all three\n",
    "    \n",
    "    # get indices for positions that should be checked\n",
    "    relevant_parts = []\n",
    "    for p_ in range(p):\n",
    "        for a_v in range(n_cause):\n",
    "            for p_v in range(n_caused):\n",
    "                relevant_parts.append(K*c + n_cause + p_v + a_v*K + p_*(K**2))\n",
    "   \n",
    "    # vectorize B matrix (F=column-wise)\n",
    "    vec_B = B.flatten(order=\"F\").T\n",
    "    \n",
    "    # initialize C with zeros only\n",
    "    C = np.zeros([len(relevant_parts), len(vec_B)])\n",
    "    \n",
    "    \n",
    "    # add 1 at relevant parts\n",
    "    for i, num in enumerate(relevant_parts):\n",
    "        C[i, num] = 1\n",
    "    \n",
    "    # calculate lambdas\n",
    "    lambda_w = (C@vec_B).T @ np.linalg.inv(C @ np.kron(np.linalg.inv(Z@Z.T), sigma_u) @ C.T) @ C@vec_B\n",
    "    lambda_f = lambda_w/len(relevant_parts)\n",
    "    \n",
    "    # degrees of freedom\n",
    "    df_chi2 = len(relevant_parts)\n",
    "    df_fn = len(relevant_parts)\n",
    "    df_fd = T*K-((K**2)*p)-K\n",
    "    \n",
    "    # p_values\n",
    "    p_val_chi2 = round(abs(1-st.chi2.cdf(lambda_w, df_chi2)), 4)\n",
    "    p_val_f = round(abs(1-st.f.cdf(lambda_f, df_fn, df_fd)), 4)\n",
    "    \n",
    "    # ftest degrees freedom\n",
    "    df_fd = (len(relevant_parts),T*K-((K**2)*p)-K)\n",
    "\n",
    "    return lambda_w, p_val_chi2, df_fn, lambda_f, p_val_f, df_fd"
   ]
  },
  {
   "cell_type": "code",
   "execution_count": null,
   "metadata": {},
   "outputs": [],
   "source": [
    "# calculate Granger Causality\n",
    "ts_w, p_w, df_w, ts_f, p_f, df_f = granger(y_t, 2, [0, 0, 1, 1], 1)\n",
    "print(f'ts_w: {ts_w}, \\np_w: {p_w}, \\ndf_w: {df_w}, \\nts_f: {ts_f}, \\np_f: {p_f}, \\ndf_f: {df_f}')"
   ]
  },
  {
   "cell_type": "markdown",
   "metadata": {},
   "source": [
    "### Check with Built-In Functions"
   ]
  },
  {
   "cell_type": "code",
   "execution_count": null,
   "metadata": {},
   "outputs": [],
   "source": [
    "# check result with statsmodels VAR module\n",
    "model = VAR(awm[[\"d_lgdp\", \"d_invest\", \"d_R\", \"d_r\"]])\n",
    "results = model.fit(2)"
   ]
  },
  {
   "cell_type": "code",
   "execution_count": null,
   "metadata": {},
   "outputs": [],
   "source": [
    "# Wald test\n",
    "granger_stat_wald = results.test_causality([\"d_lgdp\", \"d_invest\"],['d_R', \"d_r\"], kind='wald')\n",
    "granger_stat_wald.summary()"
   ]
  },
  {
   "cell_type": "code",
   "execution_count": null,
   "metadata": {
    "pycharm": {
     "name": "#%%\n"
    }
   },
   "outputs": [],
   "source": [
    "# F-test\n",
    "granger_stat_f = results.test_causality([\"d_lgdp\", \"d_invest\"],['d_R', \"d_r\"], kind='f')\n",
    "granger_stat_f.summary()"
   ]
  }
 ],
 "metadata": {
  "kernelspec": {
   "display_name": "Python 3 (ipykernel)",
   "language": "python",
   "name": "python3"
  },
  "language_info": {
   "codemirror_mode": {
    "name": "ipython",
    "version": 3
   },
   "file_extension": ".py",
   "mimetype": "text/x-python",
   "name": "python",
   "nbconvert_exporter": "python",
   "pygments_lexer": "ipython3",
   "version": "3.9.7"
  },
  "vscode": {
   "interpreter": {
    "hash": "f53b217d8430526303bffcd87b390d5c67e67390f11595101f60a03768747934"
   }
  }
 },
 "nbformat": 4,
 "nbformat_minor": 4
}