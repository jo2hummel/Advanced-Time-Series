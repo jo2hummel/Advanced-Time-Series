{
 "cells": [
  {
   "cell_type": "markdown",
   "id": "389017e7-ed38-428b-9ce6-ced09c24a7ba",
   "metadata": {},
   "source": [
    "Assignment 1 <br>\n",
    "Student name: Tim Kleinlein <br>\n",
    "Matriculation Nr: 01/1151277\n",
    "Other group members: 1151248, 1152810,  919755"
   ]
  },
  {
   "cell_type": "markdown",
   "id": "aeff5556-a17f-4283-ab31-9df4b5d13fa4",
   "metadata": {},
   "source": [
    "1)"
   ]
  },
  {
   "cell_type": "code",
   "execution_count": 61,
   "id": "033f8d37-f473-4fde-9378-afc5a078e5f3",
   "metadata": {},
   "outputs": [],
   "source": [
    "import pandas as pd\n",
    "import numpy as np\n",
    "from numpy.linalg import inv"
   ]
  },
  {
   "cell_type": "code",
   "execution_count": 76,
   "id": "47778a31-318a-4ada-83f7-238eecf28432",
   "metadata": {},
   "outputs": [],
   "source": [
    "def zmaker(Y,p,intercept):\n",
    "    \"\"\"\n",
    "    create matrix Z when given time series data Y, lag order p and boolean whether to include intercept in estimation.\n",
    "    \"\"\"\n",
    "    k = Y.shape[0]  # number of variables\n",
    "    if intercept:\n",
    "        Z = np.zeros(shape=(k*p+1,Y.shape[1]-p)) # empty Z placeholder array which will be filled with correct values later\n",
    "        Z[0] = 1  # intercept\n",
    "    else:\n",
    "        Z = np.zeros(shape=(k*p,Y.shape[1]-p))  # empty Z placeholder array which will be filled with correct values later\n",
    "    \n",
    "    for i in range(p,Y.shape[1]): # individual z vectors which will be inserted in Z\n",
    "        z = np.array([]) # placeholder array for z\n",
    "        for x in range(1, p+1):  # for all lags p\n",
    "            for j in range(k): # and all variables k\n",
    "                z = np.append(z,Y[j, i-x])  # get correct y values and create z\n",
    "        if intercept:\n",
    "            Z[1:,i-p] = z  # if intercept is estimated first row is already filled with 1's\n",
    "        else:\n",
    "            Z[:,i-p] = z\n",
    "    return Z\n",
    "            "
   ]
  },
  {
   "cell_type": "code",
   "execution_count": 169,
   "id": "131c485e-a4ea-4ce4-8b19-354df9fb5d32",
   "metadata": {},
   "outputs": [],
   "source": [
    "def estimator(Y, p, intercept):\n",
    "    \"\"\"\n",
    "    estimate VAR(p) for given time series data Y, lag order p and boolean whether to include intercept in estimation. \n",
    "    Return estimated coefficients, their t-ratios and the covariance matrix.\n",
    "    \"\"\"\n",
    "    Z = zmaker(Y,p, intercept)  # create matrix Z\n",
    "    Y = Y[:,p:]  # first p observations are lost as we need prior lags for estimation\n",
    "    B = Y @ Z.transpose() @ inv((Z@Z.transpose()))  # calculate estimated coefficients\n",
    "    \n",
    "    T = Y.shape[1]  # number observations used for estimation\n",
    "    K = Y.shape[0]  # number of variables\n",
    "    cov_matrix = (1/(T-K*p-1))*((Y-(B@Z))@(Y-(B@Z)).transpose())  # calculate covariance matrix\n",
    "    \n",
    "    t_matrix = np.kron(inv(Z@Z.transpose()),cov_matrix)  # calculate matrix T to get coefficients variances(diagonals)\n",
    "    std_errors = np.sqrt(np.diag(t_matrix))  # standard errors used for t-ratios are squared variance\n",
    "    t_values=[]  #. placeholder list for t values\n",
    "    std_error_counter=0\n",
    "    for j in range(B.shape[1]):  # choose this loop structure to assure that coefficient is divided by its according standard error\n",
    "        for i in range(K):\n",
    "            t_values.append(B[i,j]/std_errors[std_error_counter])\n",
    "            std_error_counter+=1\n",
    "    t_matrix = np.array(t_values) # convert list to array\n",
    "    t_matrix = t_matrix.reshape(B.shape[1],K).transpose()  # reshape array such that is same format as coefficients: K x (1+K*p)\n",
    "    \n",
    "    return B, t_matrix, cov_matrix"
   ]
  },
  {
   "cell_type": "markdown",
   "id": "a0e0ea0d-fb72-4355-b223-6aca34b4b1be",
   "metadata": {},
   "source": [
    "2)"
   ]
  },
  {
   "cell_type": "code",
   "execution_count": 62,
   "id": "9eaccf95-b289-4163-a84e-b823bac50cf1",
   "metadata": {},
   "outputs": [],
   "source": [
    "fed = pd.read_csv('FEDFUNDS.csv', delimiter=',')\n",
    "gdp = pd.read_csv('GDPC1.csv', delimiter=',')\n",
    "gdp_def = pd.read_csv('GDPDEF.csv', delimiter=',')"
   ]
  },
  {
   "cell_type": "code",
   "execution_count": 63,
   "id": "05ea51b9-8c1f-4f2b-85ce-3ad8f70a84c3",
   "metadata": {},
   "outputs": [],
   "source": [
    "# create np arrays\n",
    "gdp = np.array(gdp['GDPC1'])\n",
    "gdp_def = np.array(gdp_def['GDPDEF'])\n",
    "fed =  np.array(fed['FEDFUNDS'][:-1])"
   ]
  },
  {
   "cell_type": "code",
   "execution_count": 64,
   "id": "26214915-27bf-479c-8bb8-e7bce0f97fe6",
   "metadata": {},
   "outputs": [],
   "source": [
    "# convert values to floats\n",
    "floatmaker = lambda x: float(x)\n",
    "floatmaker2 = np.vectorize(floatmaker)\n",
    "gdp = floatmaker2(gdp)\n",
    "gdp_def = floatmaker2(gdp_def)\n",
    "fed = floatmaker2(fed)"
   ]
  },
  {
   "cell_type": "code",
   "execution_count": 65,
   "id": "355a1bbe-af1c-406b-9e0a-33682d182bfe",
   "metadata": {},
   "outputs": [],
   "source": [
    "#create variables for estimation\n",
    "gdp = 100*(np.ediff1d(gdp))\n",
    "gdp_def = 100*(np.ediff1d(gdp_def))\n",
    "fed = fed[1:]  # due to difference first observation lost"
   ]
  },
  {
   "cell_type": "code",
   "execution_count": 66,
   "id": "70af1039-ddfe-488e-bf0c-be84fb30a4d3",
   "metadata": {},
   "outputs": [
    {
     "data": {
      "text/plain": [
       "(3, 250)"
      ]
     },
     "execution_count": 66,
     "metadata": {},
     "output_type": "execute_result"
    }
   ],
   "source": [
    "# combine time series in matrix to use as input for function\n",
    "Y = np.array([gdp, gdp_def, fed])\n",
    "Y.shape"
   ]
  },
  {
   "cell_type": "code",
   "execution_count": 178,
   "id": "336cc740-26a5-42ef-98f0-5cce504777f9",
   "metadata": {},
   "outputs": [],
   "source": [
    "B, t_ratios, cov_matrix = estimator(Y,4,True)"
   ]
  },
  {
   "cell_type": "code",
   "execution_count": 179,
   "id": "d357e61e-a09f-4116-95b4-08c587a4a882",
   "metadata": {},
   "outputs": [
    {
     "data": {
      "text/plain": [
       "array([[ 1.29215143e+04, -1.81269795e-01, -4.14861144e+01,\n",
       "         1.26480458e+03, -8.06846277e-02,  1.00877612e+02,\n",
       "        -1.69122182e+03, -7.76354625e-02,  4.43516543e+01,\n",
       "        -1.45431228e+02, -4.48135541e-02, -1.13627704e+02,\n",
       "        -8.48213330e+01],\n",
       "       [ 7.12236033e+00, -4.32297228e-05,  5.55208972e-01,\n",
       "         1.67915553e+00,  1.68156250e-04,  1.83466157e-01,\n",
       "        -9.96156297e-01, -1.24780708e-04,  2.26247098e-01,\n",
       "        -7.91991464e-01, -1.07615633e-04, -2.71749031e-02,\n",
       "        -4.06935239e-01],\n",
       "       [ 1.57070276e-01,  6.35263343e-06,  2.31084267e-04,\n",
       "         8.79792900e-01, -1.38907291e-06,  8.33584830e-03,\n",
       "        -5.90343977e-02,  7.42639560e-07, -4.71539194e-03,\n",
       "         3.49594543e-01,  8.78753972e-07, -4.26613052e-03,\n",
       "        -2.10160578e-01]])"
      ]
     },
     "execution_count": 179,
     "metadata": {},
     "output_type": "execute_result"
    }
   ],
   "source": [
    "B"
   ]
  },
  {
   "cell_type": "code",
   "execution_count": 180,
   "id": "5f4f7163-c717-4d69-9c28-9e192a7e4981",
   "metadata": {},
   "outputs": [
    {
     "data": {
      "text/plain": [
       "array([[ 5.49428062, -2.4582855 , -0.67508766,  1.43364424, -1.06901706,\n",
       "         1.36251069, -1.48512015, -1.01527079,  0.58946513, -0.12742552,\n",
       "        -0.65458737, -1.66444861, -0.09364458],\n",
       "       [ 2.29675217, -0.44461294,  6.85183116,  1.44344972,  1.68966115,\n",
       "         1.87929024, -0.66340887, -1.23754774,  2.28046851, -0.52627413,\n",
       "        -1.19213756, -0.30188875, -0.34071844],\n",
       "       [ 0.91116704,  1.17535008,  0.05130201, 13.60520184, -0.25108771,\n",
       "         1.53603637, -0.70724963,  0.13249711, -0.85501289,  4.17897685,\n",
       "         0.17511853, -0.85256377, -3.16544952]])"
      ]
     },
     "execution_count": 180,
     "metadata": {},
     "output_type": "execute_result"
    }
   ],
   "source": [
    "t_ratios"
   ]
  },
  {
   "cell_type": "code",
   "execution_count": 181,
   "id": "67ec4ce2-1c24-4375-acf6-66d31a3b25f8",
   "metadata": {},
   "outputs": [
    {
     "data": {
      "text/plain": [
       "array([[2.35823048e+08, 1.31647245e+05, 2.21863173e+03],\n",
       "       [1.31647245e+05, 4.10015909e+02, 1.24478162e+00],\n",
       "       [2.21863173e+03, 1.24478162e+00, 1.26698976e+00]])"
      ]
     },
     "execution_count": 181,
     "metadata": {},
     "output_type": "execute_result"
    }
   ],
   "source": [
    "cov_matrix"
   ]
  },
  {
   "cell_type": "code",
   "execution_count": null,
   "id": "2e509148-9008-4623-a6ee-7bd9e87fe2e4",
   "metadata": {},
   "outputs": [],
   "source": []
  },
  {
   "cell_type": "markdown",
   "id": "0815c5f7-4abb-4090-a3c4-ee11a8a79ee0",
   "metadata": {},
   "source": [
    "For personal checking only, not relevant for assignment solution!"
   ]
  },
  {
   "cell_type": "code",
   "execution_count": null,
   "id": "92f14ef0-1488-45bc-a1dc-f9bdcb8530a9",
   "metadata": {},
   "outputs": [],
   "source": [
    "import statsmodels.api as sm\n",
    "from statsmodels.tsa.api import VAR"
   ]
  },
  {
   "cell_type": "code",
   "execution_count": 182,
   "id": "b29690f1-de75-4b73-9a92-4ca918872aee",
   "metadata": {},
   "outputs": [],
   "source": [
    "model = VAR(Y.transpose())"
   ]
  },
  {
   "cell_type": "code",
   "execution_count": 183,
   "id": "1ab0a9be-9d63-4925-9bdd-7934efd1227d",
   "metadata": {},
   "outputs": [],
   "source": [
    "results = model.fit(4)"
   ]
  },
  {
   "cell_type": "code",
   "execution_count": 184,
   "id": "e044ffeb-1d5c-49ab-8c1f-338044bd222c",
   "metadata": {},
   "outputs": [
    {
     "data": {
      "text/plain": [
       "  Summary of Regression Results   \n",
       "==================================\n",
       "Model:                         VAR\n",
       "Method:                        OLS\n",
       "Date:           Wed, 09, Nov, 2022\n",
       "Time:                     16:43:26\n",
       "--------------------------------------------------------------------\n",
       "No. of Equations:         3.00000    BIC:                    26.0272\n",
       "Nobs:                     246.000    HQIC:                   25.6953\n",
       "Log likelihood:          -4141.17    FPE:                1.15413e+11\n",
       "AIC:                      25.4715    Det(Omega_mle):     9.88921e+10\n",
       "--------------------------------------------------------------------\n",
       "Results for equation y1\n",
       "========================================================================\n",
       "           coefficient       std. error           t-stat            prob\n",
       "------------------------------------------------------------------------\n",
       "const     12921.514307      2351.811858            5.494           0.000\n",
       "L1.y1        -0.181270         0.073738           -2.458           0.014\n",
       "L1.y2       -41.486114        61.452930           -0.675           0.500\n",
       "L1.y3      1264.804577       882.230431            1.434           0.152\n",
       "L2.y1        -0.080685         0.075476           -1.069           0.285\n",
       "L2.y2       100.877612        74.038033            1.363           0.173\n",
       "L2.y3     -1691.221818      1138.777770           -1.485           0.138\n",
       "L3.y1        -0.077635         0.076468           -1.015           0.310\n",
       "L3.y2        44.351654        75.240506            0.589           0.556\n",
       "L3.y3      -145.431228      1141.303766           -0.127           0.899\n",
       "L4.y1        -0.044814         0.068461           -0.655           0.513\n",
       "L4.y2      -113.627704        68.267475           -1.664           0.096\n",
       "L4.y3       -84.821333       905.779387           -0.094           0.925\n",
       "========================================================================\n",
       "\n",
       "Results for equation y2\n",
       "========================================================================\n",
       "           coefficient       std. error           t-stat            prob\n",
       "------------------------------------------------------------------------\n",
       "const         7.122360         3.101057            2.297           0.022\n",
       "L1.y1        -0.000043         0.000097           -0.445           0.657\n",
       "L1.y2         0.555209         0.081031            6.852           0.000\n",
       "L1.y3         1.679156         1.163293            1.443           0.149\n",
       "L2.y1         0.000168         0.000100            1.690           0.091\n",
       "L2.y2         0.183466         0.097625            1.879           0.060\n",
       "L2.y3        -0.996156         1.501572           -0.663           0.507\n",
       "L3.y1        -0.000125         0.000101           -1.238           0.216\n",
       "L3.y2         0.226247         0.099211            2.280           0.023\n",
       "L3.y3        -0.791991         1.504903           -0.526           0.599\n",
       "L4.y1        -0.000108         0.000090           -1.192           0.233\n",
       "L4.y2        -0.027175         0.090016           -0.302           0.763\n",
       "L4.y3        -0.406935         1.194345           -0.341           0.733\n",
       "========================================================================\n",
       "\n",
       "Results for equation y3\n",
       "========================================================================\n",
       "           coefficient       std. error           t-stat            prob\n",
       "------------------------------------------------------------------------\n",
       "const         0.157070         0.172384            0.911           0.362\n",
       "L1.y1         0.000006         0.000005            1.175           0.240\n",
       "L1.y2         0.000231         0.004504            0.051           0.959\n",
       "L1.y3         0.879793         0.064666           13.605           0.000\n",
       "L2.y1        -0.000001         0.000006           -0.251           0.802\n",
       "L2.y2         0.008336         0.005427            1.536           0.125\n",
       "L2.y3        -0.059034         0.083470           -0.707           0.479\n",
       "L3.y1         0.000001         0.000006            0.132           0.895\n",
       "L3.y2        -0.004715         0.005515           -0.855           0.393\n",
       "L3.y3         0.349595         0.083656            4.179           0.000\n",
       "L4.y1         0.000001         0.000005            0.175           0.861\n",
       "L4.y2        -0.004266         0.005004           -0.853           0.394\n",
       "L4.y3        -0.210161         0.066392           -3.165           0.002\n",
       "========================================================================\n",
       "\n",
       "Correlation matrix of residuals\n",
       "            y1        y2        y3\n",
       "y1    1.000000  0.423368  0.128353\n",
       "y2    0.423368  1.000000  0.054614\n",
       "y3    0.128353  0.054614  1.000000\n",
       "\n"
      ]
     },
     "execution_count": 184,
     "metadata": {},
     "output_type": "execute_result"
    }
   ],
   "source": [
    "results.summary()"
   ]
  }
 ],
 "metadata": {
  "kernelspec": {
   "display_name": "Python 3 (ipykernel)",
   "language": "python",
   "name": "python3"
  },
  "language_info": {
   "codemirror_mode": {
    "name": "ipython",
    "version": 3
   },
   "file_extension": ".py",
   "mimetype": "text/x-python",
   "name": "python",
   "nbconvert_exporter": "python",
   "pygments_lexer": "ipython3",
   "version": "3.9.7"
  }
 },
 "nbformat": 4,
 "nbformat_minor": 5
}
